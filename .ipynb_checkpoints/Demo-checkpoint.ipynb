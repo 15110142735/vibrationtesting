{
 "cells": [
  {
   "cell_type": "markdown",
   "metadata": {},
   "source": [
    "This notebook actually just runs the help for each of the codes in the Vibration Testing Package that currently work."
   ]
  },
  {
   "cell_type": "code",
   "execution_count": 1,
   "metadata": {
    "collapsed": true
   },
   "outputs": [],
   "source": [
    "%matplotlib inline\n",
    "import vibrationtesting as vt\n",
    "import matplotlib.pyplot as plt\n",
    "import scipy as sp"
   ]
  },
  {
   "cell_type": "code",
   "execution_count": 2,
   "metadata": {
    "collapsed": false
   },
   "outputs": [
    {
     "name": "stdout",
     "output_type": "stream",
     "text": [
      "Help on function hanning in module vibrationtesting.sigp:\n",
      "\n",
      "hanning(x)\n",
      "    returns w\n",
      "    Create a hanning window of length :math:`x`, or a hanning window sized to match :math:`x`\n",
      "    such that x*w is the windowed result.\n",
      "    \n",
      "    Parameters\n",
      "    \n",
      "    x: 1) Integer. Number of points in desired hanning windows.\n",
      "       2) Array to which window needs to be applied. \n",
      "    \n",
      "    Returns\n",
      "    \n",
      "    \n",
      "    w: 1) hanning window array of size x\n",
      "       2) windowing array. Windowed array is then x*w\n",
      "    \n",
      "    :Example:\n",
      "    \n",
      "    >>> import numpy as np\n",
      "    >>> import vibrationtesting as vt\n",
      "    >>> import matplotlib.pyplot as plt\n",
      "    >>> sample_freq = 1e3\n",
      "    >>> tfinal = 5\n",
      "    >>> fs = 100\n",
      "    >>> A = 10\n",
      "    >>> freq = 5\n",
      "    >>> noise_power = 0.001 * sample_freq / 2\n",
      "    >>> time = np.reshape(np.arange(0, tfinal, 1/sample_freq),(1,-1))\n",
      "    >>> xsin = A*np.sin(2*np.pi*freq*time)\n",
      "    >>> xcos = A*np.cos(2*np.pi*freq*time)\n",
      "    # assembling individual records. vstack assembles channels\n",
      "    >>> x=np.dstack((xsin,xcos)) # assembling individual records. vstack\n",
      "    >>> xw=vt.hanning(x)*x\n",
      "    >>> plt.subplot(2, 1, 1)\n",
      "    <matplotlib.axes._subplots.AxesSubplot object at ...>\n",
      "    >>> plt.plot(time.T,x.T)\n",
      "    [<matplotlib.lines.Line2D object at ...>]\n",
      "    >>> plt.ylim([-20, 20])\n",
      "    (-20, 20)\n",
      "    >>> plt.title('Unwindowed data, 2 records.')\n",
      "    <matplotlib.text.Text object at ...>\n",
      "    >>> plt.ylabel('$x(t)$')\n",
      "    <matplotlib.text.Text object at ...>\n",
      "    >>> plt.subplot(2, 1, 2)\n",
      "    <matplotlib.axes._subplots.AxesSubplot object at ...>\n",
      "    >>> plt.title('Original (raw) data.')\n",
      "    <matplotlib.text.Text object at ...>\n",
      "    >>> plt.plot(time[0,:],xw[0,:],time[0,:],vt.hanning(x)[0,:]*A,'--',time[0,:],-vt.hanning(x)[0,:]*A,'--')\n",
      "    [<matplotlib.lines.Line2D object at ...>]\n",
      "    >>> plt.ylabel('Hanning windowed $x(t)$')\n",
      "    <matplotlib.text.Text object at ...>\n",
      "    >>> plt.xlabel('time')\n",
      "    <matplotlib.text.Text object at ...>\n",
      "    >>> plt.title('Effect of window. Note the scaling to conserve ASD amplitude')\n",
      "    <matplotlib.text.Text object at ...>\n",
      "    >>> plt.show()\n",
      "\n"
     ]
    }
   ],
   "source": [
    "help(vt.hanning)"
   ]
  },
  {
   "cell_type": "code",
   "execution_count": null,
   "metadata": {
    "collapsed": true
   },
   "outputs": [],
   "source": []
  }
 ],
 "metadata": {
  "hide_input": false,
  "kernelspec": {
   "display_name": "Python 3",
   "language": "python",
   "name": "python3"
  },
  "language_info": {
   "codemirror_mode": {
    "name": "ipython",
    "version": 3
   },
   "file_extension": ".py",
   "mimetype": "text/x-python",
   "name": "python",
   "nbconvert_exporter": "python",
   "pygments_lexer": "ipython3",
   "version": "3.5.1"
  },
  "latex_envs": {
   "bibliofile": "biblio.bib",
   "cite_by": "apalike",
   "current_citInitial": 1,
   "eqLabelWithNumbers": true,
   "eqNumInitial": 0
  }
 },
 "nbformat": 4,
 "nbformat_minor": 0
}
