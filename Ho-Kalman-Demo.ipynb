{
 "cells": [
  {
   "cell_type": "code",
   "execution_count": 1,
   "metadata": {
    "collapsed": false
   },
   "outputs": [],
   "source": [
    "%load_ext autoreload\n",
    "%autoreload 2\n",
    "%matplotlib inline\n",
    "\n",
    "import control as ctrl\n",
    "import matplotlib.pyplot as plt\n",
    "import scipy as sp\n",
    "import scipy.linalg as la"
   ]
  },
  {
   "cell_type": "markdown",
   "metadata": {},
   "source": [
    "Considers a system \n",
    "\n",
    "$$\\ddot{x} + 2 \\dot{x} + 100 x = f(t)$$\n",
    "with a displacement sensor. \n",
    "\n",
    "The state space representation is \n",
    "\n",
    "$$\\dot{\\mathbf{z}} = A \\mathbf{z} + B u$$\n",
    "\n",
    "$$y = C \\mathbf{z} + D u$$ \n",
    "\n",
    "where \n",
    "\n",
    "$$A = \n",
    "\\begin{bmatrix}\n",
    "0&1\\\\\n",
    "-100&-2\n",
    "\\end{bmatrix}\n",
    ",\\quad\n",
    "B = \n",
    "\\begin{bmatrix}0\\\\1\\end{bmatrix}\n",
    ",\\quad\n",
    "C = \\begin{bmatrix}1&0\\end{bmatrix}\n",
    ", \\text{ and }\n",
    "D = [0]$$"
   ]
  },
  {
   "cell_type": "code",
   "execution_count": 2,
   "metadata": {
    "collapsed": true
   },
   "outputs": [],
   "source": [
    "sample_freq = 1e3\n",
    "A = sp.array([[0, 1],\\\n",
    "              [-100, 2]])\n",
    "B = sp.array([[0], [1]])\n",
    "C = sp.array([[1, 0]])\n",
    "D = sp.array([[0]])\n",
    "sys = ctrl.ss(A, B, C, D)\n"
   ]
  },
  {
   "cell_type": "markdown",
   "metadata": {},
   "source": [
    "For this example, we will generate an impulse response for only 4 discrete times."
   ]
  },
  {
   "cell_type": "code",
   "execution_count": 56,
   "metadata": {
    "collapsed": false
   },
   "outputs": [
    {
     "data": {
      "text/plain": [
       "array([ 0.        ,  0.00166667,  0.00333333,  0.005     ,  0.00666667,\n",
       "        0.00833333])"
      ]
     },
     "execution_count": 56,
     "metadata": {},
     "output_type": "execute_result"
    }
   ],
   "source": [
    "t = sp.linspace(0, 0.01, num = 6, endpoint = False)\n",
    "dt = t[1]\n",
    "t"
   ]
  },
  {
   "cell_type": "markdown",
   "metadata": {},
   "source": [
    "The impulse response for a second order underdamped system is known to be\n",
    "\n",
    "$$h(t) = \\frac{1}{\\omega_d}e^{-\\zeta \\omega_n t}\\sin\\left(\\omega_d t\\right)$$"
   ]
  },
  {
   "cell_type": "code",
   "execution_count": 5,
   "metadata": {
    "collapsed": false
   },
   "outputs": [],
   "source": [
    "omega_n = sp.sqrt(100)\n",
    "zeta = 2/(2*omega_n)\n",
    "omega_d = omega_n * sp.sqrt(1 - zeta**2)"
   ]
  },
  {
   "cell_type": "code",
   "execution_count": 14,
   "metadata": {
    "collapsed": false
   },
   "outputs": [
    {
     "data": {
      "text/plain": [
       "array([ 0.        ,  0.00166381,  0.00332163,  0.00497301,  0.00661751,\n",
       "        0.00825471])"
      ]
     },
     "execution_count": 14,
     "metadata": {},
     "output_type": "execute_result"
    }
   ],
   "source": [
    "h = 1/omega_d * sp.exp(-zeta*omega_n*t)*sp.sin(omega_d*t)\n",
    "h"
   ]
  },
  {
   "cell_type": "code",
   "execution_count": null,
   "metadata": {
    "collapsed": true
   },
   "outputs": [],
   "source": [
    "plt.plot(t.T,h.T)"
   ]
  },
  {
   "cell_type": "code",
   "execution_count": 15,
   "metadata": {
    "collapsed": false
   },
   "outputs": [
    {
     "data": {
      "text/plain": [
       "array([[ 0.        ,  0.00166381],\n",
       "       [ 0.00166381,  0.00332163],\n",
       "       [ 0.00332163,  0.00497301],\n",
       "       [ 0.00497301,  0.00661751]])"
      ]
     },
     "execution_count": 15,
     "metadata": {},
     "output_type": "execute_result"
    }
   ],
   "source": [
    "Hankel_0 = sp.vstack((h[0:-2],h[1:-1]))\n",
    "Hankel_0 = Hankel_0.T\n",
    "Hankel_0"
   ]
  },
  {
   "cell_type": "code",
   "execution_count": 17,
   "metadata": {
    "collapsed": false
   },
   "outputs": [
    {
     "data": {
      "text/plain": [
       "array([ 0.00166381,  0.00332163,  0.00497301,  0.00661751])"
      ]
     },
     "execution_count": 17,
     "metadata": {},
     "output_type": "execute_result"
    }
   ],
   "source": [
    "h[1:-1]"
   ]
  },
  {
   "cell_type": "code",
   "execution_count": 19,
   "metadata": {
    "collapsed": false
   },
   "outputs": [
    {
     "data": {
      "text/plain": [
       "array([ 0.00332163,  0.00497301,  0.00661751,  0.00825471])"
      ]
     },
     "execution_count": 19,
     "metadata": {},
     "output_type": "execute_result"
    }
   ],
   "source": [
    "h[2:]"
   ]
  },
  {
   "cell_type": "code",
   "execution_count": 20,
   "metadata": {
    "collapsed": false,
    "scrolled": true
   },
   "outputs": [
    {
     "data": {
      "text/plain": [
       "array([[ 0.00166381,  0.00332163],\n",
       "       [ 0.00332163,  0.00497301],\n",
       "       [ 0.00497301,  0.00661751],\n",
       "       [ 0.00661751,  0.00825471]])"
      ]
     },
     "execution_count": 20,
     "metadata": {},
     "output_type": "execute_result"
    }
   ],
   "source": [
    "Hankel_1 = sp.vstack((h[1:-1],h[2:]))\n",
    "Hankel_1 = Hankel_1.T\n",
    "Hankel_1"
   ]
  },
  {
   "cell_type": "code",
   "execution_count": 34,
   "metadata": {
    "collapsed": false
   },
   "outputs": [
    {
     "name": "stdout",
     "output_type": "stream",
     "text": [
      "[[-0.12593212 -0.8276856 ]\n",
      " [-0.33679427 -0.43164131]\n",
      " [-0.54686132 -0.03679528]\n",
      " [-0.75607766  0.356747  ]]\n",
      "[[-0.56118673  0.82768923]\n",
      " [-0.82768923 -0.56118673]]\n"
     ]
    }
   ],
   "source": [
    "U, sig, Vt = la.svd(Hankel_0)\n",
    "V = Vt.T\n",
    "U = U[:,:2]\n",
    "print(U)\n",
    "V = V[:,:2]\n",
    "print(V)"
   ]
  },
  {
   "cell_type": "code",
   "execution_count": 35,
   "metadata": {
    "collapsed": false
   },
   "outputs": [
    {
     "name": "stdout",
     "output_type": "stream",
     "text": [
      "[[ 0.01093543  0.        ]\n",
      " [ 0.          0.0011281 ]]\n"
     ]
    }
   ],
   "source": [
    "sig = sp.diag(sig)\n",
    "print(sig)"
   ]
  },
  {
   "cell_type": "code",
   "execution_count": 38,
   "metadata": {
    "collapsed": false
   },
   "outputs": [
    {
     "name": "stdout",
     "output_type": "stream",
     "text": [
      "[[ 1.36921489 -0.22308024]\n",
      " [ 0.61828873  0.62718002]]\n"
     ]
    }
   ],
   "source": [
    "A_d = la.inv(sp.sqrt(sig))@U.T@Hankel_1@V@la.inv(sp.sqrt(sig))\n",
    "print(A_d)"
   ]
  },
  {
   "cell_type": "code",
   "execution_count": 58,
   "metadata": {
    "collapsed": false
   },
   "outputs": [
    {
     "name": "stdout",
     "output_type": "stream",
     "text": [
      "[ 0.99819745+0.01655475j  0.99819745-0.01655475j]\n",
      "[[ 0.51440527+0.0229527j  0.51440527-0.0229527j]\n",
      " [ 0.85723998+0.j         0.85723998-0.j       ]]\n"
     ]
    }
   ],
   "source": [
    "lam_d, vec = la.eig(A_d)\n",
    "print(lam_d)\n",
    "print(vec)"
   ]
  },
  {
   "cell_type": "code",
   "execution_count": 59,
   "metadata": {
    "collapsed": false
   },
   "outputs": [
    {
     "name": "stdout",
     "output_type": "stream",
     "text": [
      "[[ 1.36921489 -0.22308024]\n",
      " [ 0.61828873  0.62718002]]\n",
      "[[ 1.36921489 +3.55271368e-15j -0.22308024 -1.77635684e-15j]\n",
      " [ 0.61828873 +0.00000000e+00j  0.62718002 -1.77635684e-15j]]\n"
     ]
    }
   ],
   "source": [
    "# This should be the same as A_d\n",
    "print(A_d)\n",
    "print(vec@sp.diag(lam)@la.inv(vec))"
   ]
  },
  {
   "cell_type": "code",
   "execution_count": 61,
   "metadata": {
    "collapsed": false
   },
   "outputs": [
    {
     "data": {
      "text/plain": [
       "array([-1.+9.94987437j, -1.-9.94987437j])"
      ]
     },
     "execution_count": 61,
     "metadata": {},
     "output_type": "execute_result"
    }
   ],
   "source": [
    "lam = sp.log(lam_d)/dt\n",
    "lam"
   ]
  },
  {
   "cell_type": "code",
   "execution_count": 64,
   "metadata": {
    "collapsed": false
   },
   "outputs": [
    {
     "name": "stdout",
     "output_type": "stream",
     "text": [
      "The undamped natural frequency is 10.000000000000185 rad/sec.\n",
      "The undamped natural frequency is 0.10000000000002313 rad/sec.\n"
     ]
    }
   ],
   "source": [
    "# These are the continuous time eigenvalues\n",
    "print('The undamped natural frequency is {} rad/sec.'.format(abs(lam[0])))\n",
    "print('The undamped natural frequency is {}.'.format(-sp.real(lam[0])/abs(lam[0])))\n"
   ]
  },
  {
   "cell_type": "code",
   "execution_count": null,
   "metadata": {
    "collapsed": true
   },
   "outputs": [],
   "source": []
  }
 ],
 "metadata": {
  "hide_input": false,
  "kernelspec": {
   "display_name": "Python 3",
   "language": "python",
   "name": "python3"
  },
  "language_info": {
   "codemirror_mode": {
    "name": "ipython",
    "version": 3
   },
   "file_extension": ".py",
   "mimetype": "text/x-python",
   "name": "python",
   "nbconvert_exporter": "python",
   "pygments_lexer": "ipython3",
   "version": "3.5.1"
  },
  "latex_envs": {
   "bibliofile": "biblio.bib",
   "cite_by": "apalike",
   "current_citInitial": 1,
   "eqLabelWithNumbers": true,
   "eqNumInitial": 0
  }
 },
 "nbformat": 4,
 "nbformat_minor": 0
}
