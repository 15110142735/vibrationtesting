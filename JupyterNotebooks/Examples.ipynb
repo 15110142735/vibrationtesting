{
 "cells": [
  {
   "cell_type": "code",
   "execution_count": 3,
   "metadata": {
    "init_cell": true
   },
   "outputs": [
    {
     "name": "stdout",
     "output_type": "stream",
     "text": [
      "The autoreload extension is already loaded. To reload it, use:\n",
      "  %reload_ext autoreload\n"
     ]
    }
   ],
   "source": [
    "%load_ext autoreload\n",
    "%autoreload 2\n",
    "%matplotlib inline\n",
    "import vibrationtesting as vt\n",
    "import matplotlib.pyplot as plt\n",
    "import numpy as np\n",
    "import array_to_latex as a2t\n",
    "np.set_printoptions(precision = 9, linewidth = 220, suppress = True)"
   ]
  },
  {
   "cell_type": "markdown",
   "metadata": {},
   "source": [
    "Convert complex modes to real modes"
   ]
  },
  {
   "cell_type": "code",
   "execution_count": 4,
   "metadata": {},
   "outputs": [],
   "source": [
    "M = np.array([[4, 0, 0],\n",
    "              [0, 4, 0],\n",
    "              [0, 0, 4]])\n",
    "Cso = np.array([[1,0,0],\n",
    "                [0,0,0],\n",
    "                [0,0,0]])\n",
    "K = np.array([[8, -4, 0],\n",
    "              [-4, 8, -4],\n",
    "              [0, -4, 4]])\n",
    "omega, _, Psi_true = vt.sos_modal(M, K)\n",
    "Bt = np.array([[1],[0],[0]])\n",
    "Ca = np.array([[1,0,0]])\n",
    "Cd = Cv = np.zeros_like(Ca)\n",
    "A, B, C, D = vt.so2ss(M, Cso, K, Bt, Cd, Cv, Ca)\n",
    "Am, Bm, Cm, Dm, eigenvalues, modes = vt.ss_modal(A, B, C, D)\n",
    "complex_modes = modes[:3,0::2]\n",
    "complex_modes = complex_modes@np.linalg.inv(np.diag(np.diag(complex_modes)))\n",
    "Psi_corrected = vt.real_modes(complex_modes)\n"
   ]
  },
  {
   "cell_type": "code",
   "execution_count": 5,
   "metadata": {
    "scrolled": true
   },
   "outputs": [
    {
     "data": {
      "text/plain": [
       "array([[-0.163992639,  0.368488115, -0.295504524],\n",
       "       [-0.295504524,  0.163992639,  0.368488115],\n",
       "       [-0.368488115, -0.295504524, -0.163992639]])"
      ]
     },
     "execution_count": 5,
     "metadata": {},
     "output_type": "execute_result"
    }
   ],
   "source": [
    "Psi_true"
   ]
  },
  {
   "cell_type": "code",
   "execution_count": 6,
   "metadata": {},
   "outputs": [
    {
     "data": {
      "text/plain": [
       "array([[ 1.         +0.j         ,  2.099234839-0.684531423j,  1.678352494+0.52790572j ],\n",
       "       [ 1.798247408+0.099411477j,  1.         -0.j         , -2.218125195-0.153628421j],\n",
       "       [ 2.240934713+0.157537198j, -1.651470818+0.512991869j,  1.         -0.j         ]])"
      ]
     },
     "execution_count": 6,
     "metadata": {},
     "output_type": "execute_result"
    }
   ],
   "source": [
    "complex_modes"
   ]
  },
  {
   "cell_type": "code",
   "execution_count": 7,
   "metadata": {},
   "outputs": [
    {
     "name": "stdout",
     "output_type": "stream",
     "text": [
      "\\begin{bmatrix}\n",
      "  1.00000+0.00000j &  2.09923-0.68453j &  1.67835+0.52791j\\\\\n",
      "  1.79825+0.09941j &  1.00000-0.00000j & -2.21813-0.15363j\\\\\n",
      "  2.24093+0.15754j & -1.65147+0.51299j &  1.00000-0.00000j\n",
      "\\end{bmatrix}\n"
     ]
    }
   ],
   "source": [
    "a2t.to_ltx(complex_modes, frmt = '{:3.5f}', imstring='j')"
   ]
  },
  {
   "cell_type": "code",
   "execution_count": 8,
   "metadata": {},
   "outputs": [
    {
     "data": {
      "text/plain": [
       "array([[ 1.         ,  2.099234839,  1.678352494],\n",
       "       [ 1.798247408,  1.         , -2.218125195],\n",
       "       [ 2.240934713, -1.651470818,  1.         ]])"
      ]
     },
     "execution_count": 8,
     "metadata": {},
     "output_type": "execute_result"
    }
   ],
   "source": [
    "Psi_real = np.real(complex_modes)\n",
    "Psi_real"
   ]
  },
  {
   "cell_type": "code",
   "execution_count": 9,
   "metadata": {},
   "outputs": [
    {
     "name": "stdout",
     "output_type": "stream",
     "text": [
      "\\begin{bmatrix}\n",
      " -0.1639 &  0.3684 & -0.2955\\\\\n",
      " -0.2955 &  0.1639 &  0.3684\\\\\n",
      " -0.3684 & -0.2955 & -0.1639\n",
      "\\end{bmatrix}\n"
     ]
    }
   ],
   "source": [
    "a2t.to_ltx(Psi_true, frmt = '{:3.5f}')"
   ]
  },
  {
   "cell_type": "code",
   "execution_count": 10,
   "metadata": {},
   "outputs": [],
   "source": [
    "?a2t.to_clp"
   ]
  },
  {
   "cell_type": "code",
   "execution_count": 11,
   "metadata": {
    "scrolled": true
   },
   "outputs": [
    {
     "data": {
      "text/plain": [
       "array([[ 1.         ,  2.208024044,  1.759417956],\n",
       "       [ 1.800993165,  1.         , -2.223439019],\n",
       "       [ 2.246465302, -1.729310996,  1.         ]])"
      ]
     },
     "execution_count": 11,
     "metadata": {},
     "output_type": "execute_result"
    }
   ],
   "source": [
    "Psi_abs = np.abs(complex_modes)*np.real(np.sign(complex_modes))\n",
    "Psi_abs"
   ]
  },
  {
   "cell_type": "code",
   "execution_count": 12,
   "metadata": {},
   "outputs": [
    {
     "data": {
      "text/plain": [
       "array([[ 1.         ,  2.208024044,  1.759417956],\n",
       "       [ 1.80253425 ,  0.974920375, -2.116079409],\n",
       "       [ 2.229245067, -1.760956913,  0.902996771]])"
      ]
     },
     "execution_count": 12,
     "metadata": {},
     "output_type": "execute_result"
    }
   ],
   "source": [
    "Psi_corrected"
   ]
  },
  {
   "cell_type": "code",
   "execution_count": 13,
   "metadata": {},
   "outputs": [
    {
     "data": {
      "text/plain": [
       "array([[0.999999338, 0.000479191, 0.000063106],\n",
       "       [0.000000603, 0.999343589, 0.000762406],\n",
       "       [0.000000059, 0.00017722 , 0.999174488]])"
      ]
     },
     "execution_count": 13,
     "metadata": {},
     "output_type": "execute_result"
    }
   ],
   "source": [
    "vt.mac(Psi_true,Psi_real)"
   ]
  },
  {
   "cell_type": "code",
   "execution_count": 14,
   "metadata": {},
   "outputs": [
    {
     "name": "stdout",
     "output_type": "stream",
     "text": [
      "\\begin{bmatrix}\n",
      "  1.0000 &  0.0004 &  0.0000\\\\\n",
      "  0.0000 &  0.9993 &  0.0007\\\\\n",
      "  0.0000 &  0.0001 &  0.9991\n",
      "\\end{bmatrix}\n"
     ]
    }
   ],
   "source": [
    "a2t.to_ltx(vt.mac(Psi_true,Psi_real), frmt = '{:3.5f}')"
   ]
  },
  {
   "cell_type": "code",
   "execution_count": 15,
   "metadata": {},
   "outputs": [
    {
     "data": {
      "text/plain": [
       "array([[0.99999997 , 0.000187273, 0.         ],\n",
       "       [0.         , 0.999812655, 0.000061695],\n",
       "       [0.00000003 , 0.000000072, 0.999938305]])"
      ]
     },
     "execution_count": 15,
     "metadata": {},
     "output_type": "execute_result"
    }
   ],
   "source": [
    "vt.mac(Psi_true,Psi_abs)"
   ]
  },
  {
   "cell_type": "code",
   "execution_count": 16,
   "metadata": {},
   "outputs": [
    {
     "name": "stdout",
     "output_type": "stream",
     "text": [
      "\\begin{bmatrix}\n",
      "  1.0000 &  0.0001 &  0.0000\\\\\n",
      "  0.0000 &  0.9998 &  0.0000\\\\\n",
      "  0.0000 &  0.0000 &  0.9999\n",
      "\\end{bmatrix}\n"
     ]
    }
   ],
   "source": [
    "a2t.to_ltx(vt.mac(Psi_true,Psi_abs), frmt = '{:3.5f}')"
   ]
  },
  {
   "cell_type": "code",
   "execution_count": 17,
   "metadata": {},
   "outputs": [
    {
     "data": {
      "text/plain": [
       "array([[0.999983388, 0.000000759, 0.000007767],\n",
       "       [0.000012366, 0.999990366, 0.000566347],\n",
       "       [0.000004246, 0.000008875, 0.999425887]])"
      ]
     },
     "execution_count": 17,
     "metadata": {},
     "output_type": "execute_result"
    }
   ],
   "source": [
    "vt.mac(Psi_true,Psi_corrected)"
   ]
  },
  {
   "cell_type": "code",
   "execution_count": 18,
   "metadata": {},
   "outputs": [
    {
     "name": "stdout",
     "output_type": "stream",
     "text": [
      "\\begin{bmatrix}\n",
      "  0.9999 &  0.0000 &  0.0000\\\\\n",
      "  0.0000 &  0.9999 &  0.0005\\\\\n",
      "  0.0000 &  0.0000 &  0.9994\n",
      "\\end{bmatrix}\n"
     ]
    }
   ],
   "source": [
    "a2t.to_ltx(vt.mac(Psi_true,Psi_corrected), frmt = '{:3.5f}')"
   ]
  },
  {
   "cell_type": "code",
   "execution_count": 19,
   "metadata": {},
   "outputs": [],
   "source": [
    "Psi_real = vt.mass_normalize(Psi_real, M)"
   ]
  },
  {
   "cell_type": "code",
   "execution_count": 20,
   "metadata": {},
   "outputs": [
    {
     "data": {
      "text/plain": [
       "array([[ 1.         ,  0.022663407, -0.007723197],\n",
       "       [ 0.022663407,  1.         , -0.041083449],\n",
       "       [-0.007723197, -0.041083449,  1.         ]])"
      ]
     },
     "execution_count": 20,
     "metadata": {},
     "output_type": "execute_result"
    }
   ],
   "source": [
    "Psi_real.T@M@Psi_real"
   ]
  },
  {
   "cell_type": "code",
   "execution_count": 21,
   "metadata": {
    "scrolled": false
   },
   "outputs": [
    {
     "name": "stdout",
     "output_type": "stream",
     "text": [
      "\\begin{bmatrix}\n",
      "  1.0 &  0.0 & -0.0\\\\\n",
      "  0.0 &  1.0 & -0.0\\\\\n",
      " -0.0 & -0.0 &  1.0\n",
      "\\end{bmatrix}\n"
     ]
    }
   ],
   "source": [
    "a2t.to_ltx(Psi_real.T@M@Psi_real)"
   ]
  },
  {
   "cell_type": "code",
   "execution_count": 22,
   "metadata": {},
   "outputs": [
    {
     "name": "stdout",
     "output_type": "stream",
     "text": [
      "\\begin{bmatrix}\n",
      "  8.0 & -4.0 &  0.0\\\\\n",
      " -4.0 &  8.0 & -4.0\\\\\n",
      "  0.0 & -4.0 &  4.0\n",
      "\\end{bmatrix}\n"
     ]
    }
   ],
   "source": [
    "a2t.to_ltx(K)"
   ]
  },
  {
   "cell_type": "code",
   "execution_count": null,
   "metadata": {},
   "outputs": [],
   "source": []
  }
 ],
 "metadata": {
  "hide_input": false,
  "kernelspec": {
   "display_name": "Python 3",
   "language": "python",
   "name": "python3"
  },
  "language_info": {
   "codemirror_mode": {
    "name": "ipython",
    "version": 3
   },
   "file_extension": ".py",
   "mimetype": "text/x-python",
   "name": "python",
   "nbconvert_exporter": "python",
   "pygments_lexer": "ipython3",
   "version": "3.6.4"
  },
  "nbTranslate": {
   "displayLangs": [
    "*"
   ],
   "hotkey": "alt-t",
   "langInMainMenu": true,
   "sourceLang": "en",
   "targetLang": "fr",
   "useGoogleTranslate": true
  },
  "toc": {
   "nav_menu": {},
   "number_sections": true,
   "sideBar": true,
   "skip_h1_title": false,
   "title_cell": "Table of Contents",
   "title_sidebar": "Contents",
   "toc_cell": false,
   "toc_position": {},
   "toc_section_display": true,
   "toc_window_display": false
  },
  "varInspector": {
   "cols": {
    "lenName": 16,
    "lenType": 16,
    "lenVar": 40
   },
   "kernels_config": {
    "python": {
     "delete_cmd_postfix": "",
     "delete_cmd_prefix": "del ",
     "library": "var_list.py",
     "varRefreshCmd": "print(var_dic_list())"
    },
    "r": {
     "delete_cmd_postfix": ") ",
     "delete_cmd_prefix": "rm(",
     "library": "var_list.r",
     "varRefreshCmd": "cat(var_dic_list()) "
    }
   },
   "types_to_exclude": [
    "module",
    "function",
    "builtin_function_or_method",
    "instance",
    "_Feature"
   ],
   "window_display": false
  }
 },
 "nbformat": 4,
 "nbformat_minor": 2
}
