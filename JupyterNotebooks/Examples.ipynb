{
 "cells": [
  {
   "cell_type": "code",
   "execution_count": 64,
   "metadata": {
    "init_cell": true
   },
   "outputs": [
    {
     "name": "stdout",
     "output_type": "stream",
     "text": [
      "The autoreload extension is already loaded. To reload it, use:\n",
      "  %reload_ext autoreload\n"
     ]
    }
   ],
   "source": [
    "%load_ext autoreload\n",
    "%autoreload 2\n",
    "%matplotlib inline\n",
    "import vibrationtesting as vt\n",
    "import matplotlib.pyplot as plt\n",
    "import numpy as np\n",
    "np.set_printoptions(precision = 3, linewidth = 220)"
   ]
  },
  {
   "cell_type": "markdown",
   "metadata": {},
   "source": [
    "Convert complex modes to real modes"
   ]
  },
  {
   "cell_type": "code",
   "execution_count": 65,
   "metadata": {},
   "outputs": [
    {
     "name": "stdout",
     "output_type": "stream",
     "text": [
      "Help on function real_modes in module vibrationtesting.system:\n",
      "\n",
      "real_modes(Psi, autorotate=True)\n",
      "    Real modes from complex modes.\n",
      "    \n",
      "    Assuming a transformation\n",
      "    \n",
      "    .. math:: Psi_{real} = Psi_{complex} T\n",
      "    \n",
      "    exists, where :math:`T` is a complex transformation matrix, find\n",
      "    :math:`Psi_{real}` using linear algebra.\n",
      "    \n",
      "    Parameters\n",
      "    ----------\n",
      "    Psi : complex float array\n",
      "        Complex mode shapes (displacement)\n",
      "    autorotate : Boolean, optional\n",
      "        Attempt to rotate to near-real first\n",
      "    \n",
      "    Returns\n",
      "    -------\n",
      "    Psi : float array\n",
      "        Real modes\n",
      "    \n",
      "    Examples\n",
      "    --------\n",
      "    >>> import vibrationtesting as vt\n",
      "    >>> M = np.array([[4, 0, 0],\n",
      "    ...               [0, 4, 0],\n",
      "    ...               [0, 0, 4]])\n",
      "    >>> Cso = np.array([[.1,0,0],\n",
      "    ...                 [0,0,0],\n",
      "    ...                 [0,0,0]])\n",
      "    >>> K = np.array([[8, -4, 0],\n",
      "    ...               [-4, 8, -4],\n",
      "    ...               [0, -4, 4]])\n",
      "    >>> Bt = np.array([[1],[0],[0]])\n",
      "    >>> Ca = np.array([[1,0,0]])\n",
      "    >>> Cd = Cv = np.zeros_like(Ca)\n",
      "    >>> A, B, C, D = vt.so2ss(M, Cso, K, Bt, Cd, Cv, Ca)\n",
      "    >>> Am, Bm, Cm, Dm, eigenvalues, modes = vt.ss_modal(A, B, C, D)\n",
      "    >>> Psi = vt.real_modes(modes[:,0::2])\n",
      "    \n",
      "    Notes\n",
      "    -----\n",
      "    .. note:: Rotation of modes should be performed to get them as close to real\n",
      "      as possible first.\n",
      "    .. warning:: Current autorotate bases the rotation on de-rotating the first\n",
      "      element of each vector. User can use their own pre-process by doing to\n",
      "      and setting `autorotate` to False.\n",
      "\n"
     ]
    }
   ],
   "source": [
    "help(vt.real_modes)"
   ]
  },
  {
   "cell_type": "code",
   "execution_count": 66,
   "metadata": {},
   "outputs": [],
   "source": [
    "import vibrationtesting as vt\n",
    "M = np.array([[4, 0, 0],\n",
    "              [0, 4, 0],\n",
    "              [0, 0, 4]])\n",
    "Cso = np.array([[1,0,0],\n",
    "                [0,0,0],\n",
    "                [0,0,0]])\n",
    "K = np.array([[8, -4, 0],\n",
    "              [-4, 8, -4],\n",
    "              [0, -4, 4]])\n",
    "omega, _, real_modes = vt.sos_modal(M, K)\n",
    "Bt = np.array([[1],[0],[0]])\n",
    "Ca = np.array([[1,0,0]])\n",
    "Cd = Cv = np.zeros_like(Ca)\n",
    "A, B, C, D = vt.so2ss(M, Cso, K, Bt, Cd, Cv, Ca)\n",
    "Am, Bm, Cm, Dm, eigenvalues, modes = vt.ss_modal(A, B, C, D)\n",
    "Psi = vt.real_modes(modes[:,0::2])"
   ]
  },
  {
   "cell_type": "code",
   "execution_count": 67,
   "metadata": {},
   "outputs": [
    {
     "data": {
      "text/plain": [
       "array([[ 1.802,  2.786,  1.712],\n",
       "       [ 3.284,  1.42 , -2.309],\n",
       "       [ 4.01 , -2.311,  1.   ],\n",
       "       [ 0.331,  1.255, -1.537],\n",
       "       [-0.255, -1.998, -0.231],\n",
       "       [-0.367,  0.537,  0.609]])"
      ]
     },
     "execution_count": 67,
     "metadata": {},
     "output_type": "execute_result"
    }
   ],
   "source": [
    "Psi/Psi[2,2]"
   ]
  },
  {
   "cell_type": "code",
   "execution_count": 68,
   "metadata": {},
   "outputs": [
    {
     "data": {
      "text/plain": [
       "array([[ 1.   , -2.247,  1.802],\n",
       "       [ 1.802, -1.   , -2.247],\n",
       "       [ 2.247,  1.802,  1.   ]])"
      ]
     },
     "execution_count": 68,
     "metadata": {},
     "output_type": "execute_result"
    }
   ],
   "source": [
    "real_modes/real_modes[0,0]"
   ]
  },
  {
   "cell_type": "code",
   "execution_count": 69,
   "metadata": {},
   "outputs": [
    {
     "data": {
      "text/plain": [
       "array([[ 0.299-0.021j,  0.299+0.021j, -0.025-0.463j, -0.025+0.463j, -0.06 +0.278j, -0.06 -0.278j],\n",
       "       [ 0.54 -0.008j,  0.54 +0.008j,  0.054-0.203j,  0.054+0.203j, -0.009-0.36 j, -0.009+0.36 j],\n",
       "       [ 0.673+0.   j,  0.673-0.   j,  0.015+0.363j,  0.015-0.363j,  0.015+0.161j,  0.015-0.161j],\n",
       "       [ 0.005+0.133j,  0.005-0.133j,  0.579+0.   j,  0.579-0.   j, -0.497-0.119j, -0.497+0.119j],\n",
       "       [-0.004+0.241j, -0.004-0.241j,  0.249+0.081j,  0.249-0.081j,  0.646+0.   j,  0.646-0.   j],\n",
       "       [-0.009+0.3  j, -0.009-0.3  j, -0.453-0.006j, -0.453+0.006j, -0.29 +0.02 j, -0.29 -0.02 j]])"
      ]
     },
     "execution_count": 69,
     "metadata": {},
     "output_type": "execute_result"
    }
   ],
   "source": [
    "modes"
   ]
  },
  {
   "cell_type": "code",
   "execution_count": null,
   "metadata": {},
   "outputs": [],
   "source": []
  }
 ],
 "metadata": {
  "hide_input": false,
  "kernelspec": {
   "display_name": "Python 3",
   "language": "python",
   "name": "python3"
  },
  "language_info": {
   "codemirror_mode": {
    "name": "ipython",
    "version": 3
   },
   "file_extension": ".py",
   "mimetype": "text/x-python",
   "name": "python",
   "nbconvert_exporter": "python",
   "pygments_lexer": "ipython3",
   "version": "3.6.4"
  },
  "toc": {
   "nav_menu": {},
   "number_sections": true,
   "sideBar": true,
   "skip_h1_title": false,
   "title_cell": "Table of Contents",
   "title_sidebar": "Contents",
   "toc_cell": false,
   "toc_position": {},
   "toc_section_display": true,
   "toc_window_display": false
  },
  "varInspector": {
   "cols": {
    "lenName": 16,
    "lenType": 16,
    "lenVar": 40
   },
   "kernels_config": {
    "python": {
     "delete_cmd_postfix": "",
     "delete_cmd_prefix": "del ",
     "library": "var_list.py",
     "varRefreshCmd": "print(var_dic_list())"
    },
    "r": {
     "delete_cmd_postfix": ") ",
     "delete_cmd_prefix": "rm(",
     "library": "var_list.r",
     "varRefreshCmd": "cat(var_dic_list()) "
    }
   },
   "types_to_exclude": [
    "module",
    "function",
    "builtin_function_or_method",
    "instance",
    "_Feature"
   ],
   "window_display": false
  }
 },
 "nbformat": 4,
 "nbformat_minor": 2
}
