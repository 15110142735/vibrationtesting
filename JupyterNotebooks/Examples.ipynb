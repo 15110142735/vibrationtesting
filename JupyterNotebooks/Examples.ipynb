{
 "cells": [
  {
   "cell_type": "code",
   "execution_count": 3,
   "metadata": {
    "init_cell": true
   },
   "outputs": [
    {
     "name": "stdout",
     "output_type": "stream",
     "text": [
      "The autoreload extension is already loaded. To reload it, use:\n",
      "  %reload_ext autoreload\n"
     ]
    }
   ],
   "source": [
    "%load_ext autoreload\n",
    "%autoreload 2\n",
    "%matplotlib inline\n",
    "import vibrationtesting as vt\n",
    "import matplotlib.pyplot as plt\n",
    "import numpy as np\n",
    "import array_to_latex as a2t\n",
    "np.set_printoptions(precision = 3, linewidth = 220, suppress = True)"
   ]
  },
  {
   "cell_type": "markdown",
   "metadata": {},
   "source": [
    "Convert complex modes to real modes"
   ]
  },
  {
   "cell_type": "code",
   "execution_count": 4,
   "metadata": {},
   "outputs": [],
   "source": [
    "M = np.array([[4, 0, 0],\n",
    "              [0, 4, 0],\n",
    "              [0, 0, 4]])\n",
    "Cso = np.array([[1,0,0],\n",
    "                [0,0,0],\n",
    "                [0,0,0]])\n",
    "K = np.array([[8, -4, 0],\n",
    "              [-4, 8, -4],\n",
    "              [0, -4, 4]])\n",
    "omega, _, Psi_true = vt.sos_modal(M, K)\n",
    "Bt = np.array([[1],[0],[0]])\n",
    "Ca = np.array([[1,0,0]])\n",
    "Cd = Cv = np.zeros_like(Ca)\n",
    "A, B, C, D = vt.so2ss(M, Cso, K, Bt, Cd, Cv, Ca)\n",
    "Am, Bm, Cm, Dm, eigenvalues, modes = vt.ss_modal(A, B, C, D)\n",
    "complex_modes = modes[:3,0::2]\n",
    "complex_modes = complex_modes@np.linalg.inv(np.diag(np.diag(complex_modes)))\n",
    "Psi_est = vt.real_modes(complex_modes)\n"
   ]
  },
  {
   "cell_type": "code",
   "execution_count": 5,
   "metadata": {
    "scrolled": true
   },
   "outputs": [
    {
     "data": {
      "text/plain": [
       "array([[ 1.   , -2.247,  1.802],\n",
       "       [ 1.802, -1.   , -2.247],\n",
       "       [ 2.247,  1.802,  1.   ]])"
      ]
     },
     "execution_count": 5,
     "metadata": {},
     "output_type": "execute_result"
    }
   ],
   "source": [
    "Psi_true/Psi_true[0,0]"
   ]
  },
  {
   "cell_type": "code",
   "execution_count": 6,
   "metadata": {},
   "outputs": [
    {
     "data": {
      "text/plain": [
       "array([[ 1.   ,  2.099,  1.678],\n",
       "       [ 1.798,  1.   , -2.218],\n",
       "       [ 2.241, -1.651,  1.   ]])"
      ]
     },
     "execution_count": 6,
     "metadata": {},
     "output_type": "execute_result"
    }
   ],
   "source": [
    "np.real(complex_modes)"
   ]
  },
  {
   "cell_type": "code",
   "execution_count": 7,
   "metadata": {
    "scrolled": true
   },
   "outputs": [
    {
     "data": {
      "text/plain": [
       "array([[ 1.   ,  2.208,  1.759],\n",
       "       [ 1.801,  1.   , -2.223],\n",
       "       [ 2.246, -1.729,  1.   ]])"
      ]
     },
     "execution_count": 7,
     "metadata": {},
     "output_type": "execute_result"
    }
   ],
   "source": [
    "np.abs(complex_modes)*np.real(np.sign(complex_modes))"
   ]
  },
  {
   "cell_type": "code",
   "execution_count": null,
   "metadata": {},
   "outputs": [],
   "source": [
    "Psi_est"
   ]
  },
  {
   "cell_type": "code",
   "execution_count": 8,
   "metadata": {},
   "outputs": [
    {
     "data": {
      "text/plain": [
       "array([[ 1.   ,  2.265,  1.948],\n",
       "       [ 1.803,  1.   , -2.343],\n",
       "       [ 2.229, -1.806,  1.   ]])"
      ]
     },
     "execution_count": 8,
     "metadata": {},
     "output_type": "execute_result"
    }
   ],
   "source": [
    "Psi_est@np.linalg.inv(np.diag(np.diag(Psi_est)))"
   ]
  },
  {
   "cell_type": "code",
   "execution_count": 9,
   "metadata": {},
   "outputs": [
    {
     "data": {
      "text/plain": [
       "array([[ 0.25,  0.  , -0.  ],\n",
       "       [ 0.  ,  0.25,  0.  ],\n",
       "       [-0.  ,  0.  ,  0.25]])"
      ]
     },
     "execution_count": 9,
     "metadata": {},
     "output_type": "execute_result"
    }
   ],
   "source": [
    "Psi_true.T@Psi_true\n"
   ]
  },
  {
   "cell_type": "code",
   "execution_count": 10,
   "metadata": {},
   "outputs": [
    {
     "data": {
      "text/plain": [
       "array([0, 1, 2])"
      ]
     },
     "execution_count": 10,
     "metadata": {},
     "output_type": "execute_result"
    }
   ],
   "source": [
    "np.arange(3)"
   ]
  },
  {
   "cell_type": "code",
   "execution_count": 11,
   "metadata": {},
   "outputs": [
    {
     "data": {
      "text/plain": [
       "3"
      ]
     },
     "execution_count": 11,
     "metadata": {},
     "output_type": "execute_result"
    }
   ],
   "source": [
    "Psi_true.shape[0]"
   ]
  },
  {
   "cell_type": "code",
   "execution_count": 12,
   "metadata": {},
   "outputs": [
    {
     "data": {
      "text/plain": [
       "True"
      ]
     },
     "execution_count": 12,
     "metadata": {},
     "output_type": "execute_result"
    }
   ],
   "source": [
    "Psi_true.shape == Psi_true.shape"
   ]
  },
  {
   "cell_type": "code",
   "execution_count": 13,
   "metadata": {},
   "outputs": [
    {
     "data": {
      "text/plain": [
       "(3, 3)"
      ]
     },
     "execution_count": 13,
     "metadata": {},
     "output_type": "execute_result"
    }
   ],
   "source": [
    "Psi_true.shape"
   ]
  },
  {
   "cell_type": "code",
   "execution_count": 14,
   "metadata": {},
   "outputs": [
    {
     "name": "stdout",
     "output_type": "stream",
     "text": [
      "Help on function mac in module vibrationtesting.identification:\n",
      "\n",
      "mac(Psi_1, Psi_2)\n",
      "    Modal Assurance Criterion.\n",
      "    \n",
      "    Parameters\n",
      "    ----------\n",
      "    Psi_1, Psi_2 : float arrays\n",
      "        Mode shape matrices to be compared.\n",
      "    \n",
      "    Returns\n",
      "    -------\n",
      "    mac : float array\n",
      "    \n",
      "    Examples\n",
      "    --------\n",
      "\n"
     ]
    }
   ],
   "source": [
    "help(vt.mac)"
   ]
  },
  {
   "cell_type": "code",
   "execution_count": null,
   "metadata": {},
   "outputs": [],
   "source": []
  }
 ],
 "metadata": {
  "hide_input": false,
  "kernelspec": {
   "display_name": "Python 3",
   "language": "python",
   "name": "python3"
  },
  "toc": {
   "nav_menu": {},
   "number_sections": true,
   "sideBar": true,
   "skip_h1_title": false,
   "title_cell": "Table of Contents",
   "title_sidebar": "Contents",
   "toc_cell": false,
   "toc_position": {},
   "toc_section_display": true,
   "toc_window_display": false
  },
  "varInspector": {
   "cols": {
    "lenName": 16,
    "lenType": 16,
    "lenVar": 40
   },
   "kernels_config": {
    "python": {
     "delete_cmd_postfix": "",
     "delete_cmd_prefix": "del ",
     "library": "var_list.py",
     "varRefreshCmd": "print(var_dic_list())"
    },
    "r": {
     "delete_cmd_postfix": ") ",
     "delete_cmd_prefix": "rm(",
     "library": "var_list.r",
     "varRefreshCmd": "cat(var_dic_list()) "
    }
   },
   "types_to_exclude": [
    "module",
    "function",
    "builtin_function_or_method",
    "instance",
    "_Feature"
   ],
   "window_display": false
  }
 },
 "nbformat": 4,
 "nbformat_minor": 2
}
