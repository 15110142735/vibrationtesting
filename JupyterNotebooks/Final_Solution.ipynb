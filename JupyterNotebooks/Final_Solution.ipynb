{
 "cells": [
  {
   "cell_type": "code",
   "execution_count": 99,
   "metadata": {
    "collapsed": false
   },
   "outputs": [
    {
     "name": "stdout",
     "output_type": "stream",
     "text": [
      "The autoreload extension is already loaded. To reload it, use:\n",
      "  %reload_ext autoreload\n"
     ]
    }
   ],
   "source": [
    "%load_ext autoreload\n",
    "%autoreload 2\n",
    "%matplotlib inline\n",
    "sp.set_printoptions(precision=3)\n",
    "\n",
    "import control as ctrl\n",
    "import matplotlib.pyplot as plt\n",
    "import scipy as sp\n",
    "import scipy.linalg as la\n",
    "import vibrationtesting as vt\n",
    "import numpy.linalg as lanp"
   ]
  },
  {
   "cell_type": "code",
   "execution_count": 4,
   "metadata": {
    "collapsed": false
   },
   "outputs": [
    {
     "name": "stdout",
     "output_type": "stream",
     "text": [
      "Help on function so2ss in module vibrationtesting.signal:\n",
      "\n",
      "so2ss(M, C, K, Bt, Cd, Cv, Ca)\n",
      "    returns A, B, C, D\n",
      "    Given second order linear matrix equation of the form \n",
      "    :math:`M\\ddot{x} + C \\dot{x} + K x= Bt u`\n",
      "    and\n",
      "    :math:`y = Cd x + + Cv \\dot{x} + Ca\\ddot{x}`\n",
      "    returns the state space form equations\n",
      "    :math:`\\dot{z} = A z + B u`\n",
      "    :math:`y = C z + D u`\n",
      "\n"
     ]
    }
   ],
   "source": [
    "help(vt.so2ss)"
   ]
  },
  {
   "cell_type": "code",
   "execution_count": 59,
   "metadata": {
    "collapsed": true
   },
   "outputs": [],
   "source": [
    "M = np.array([[1,0],[0,1]])\n",
    "C = np.array([[0.4, -.1],[-.1,.2]])\n",
    "K = np.array([[2,-1],[-1,2]])\n",
    "Cd = sp.eye(2)\n",
    "Cv = Cd*0\n",
    "Ca = Cv\n",
    "Bt = np.array([[1],[0]])"
   ]
  },
  {
   "cell_type": "code",
   "execution_count": 62,
   "metadata": {
    "collapsed": false
   },
   "outputs": [],
   "source": [
    "A, B, Css, D = vt.so2ss(M, C, K, Bt, Cd, Cv, Ca)"
   ]
  },
  {
   "cell_type": "code",
   "execution_count": 63,
   "metadata": {
    "collapsed": false
   },
   "outputs": [
    {
     "name": "stdout",
     "output_type": "stream",
     "text": [
      "A = \n",
      "[[ 0.   0.   1.   0. ]\n",
      " [ 0.   0.   0.   1. ]\n",
      " [-2.   1.  -0.4  0.1]\n",
      " [ 1.  -2.   0.1 -0.2]],\n",
      " B = \n",
      "[[ 0.]\n",
      " [ 0.]\n",
      " [ 1.]\n",
      " [ 0.]],\n",
      " C = \n",
      "[[ 1.  0.  0.  0.]\n",
      " [ 0.  1.  0.  0.]],\n",
      " D = \n",
      "[[ 0.]\n",
      " [ 0.]]\n"
     ]
    }
   ],
   "source": [
    "print('A = \\n{},\\n B = \\n{},\\n C = \\n{},\\n D = \\n{}'.format(A, B, Css, D))"
   ]
  },
  {
   "cell_type": "code",
   "execution_count": 64,
   "metadata": {
    "collapsed": true
   },
   "outputs": [],
   "source": [
    "e, vec = la.eig(A)"
   ]
  },
  {
   "cell_type": "code",
   "execution_count": 65,
   "metadata": {
    "collapsed": false
   },
   "outputs": [
    {
     "name": "stdout",
     "output_type": "stream",
     "text": [
      "............... Eigenvalue ...........     Damping     Frequency\n",
      "--------[re]---------[im]--------[abs]----------------------[Hz]\n",
      "      -0.200        +1.716      1.728       0.116         0.275\n",
      "      -0.200        -1.716      1.728       0.116         0.275\n",
      "      -0.100        +0.998      1.003       0.100         0.160\n",
      "      -0.100        -0.998      1.003       0.100         0.160\n"
     ]
    }
   ],
   "source": [
    "vt.damp(A)"
   ]
  },
  {
   "cell_type": "code",
   "execution_count": 66,
   "metadata": {
    "collapsed": false,
    "scrolled": true
   },
   "outputs": [
    {
     "name": "stdout",
     "output_type": "stream",
     "text": [
      "[[-0.041-0.354j]\n",
      " [ 0.101+0.338j]\n",
      " [ 0.615+0.j   ]\n",
      " [-0.600+0.106j]]\n"
     ]
    }
   ],
   "source": [
    "print(vec[:,0:1])"
   ]
  },
  {
   "cell_type": "code",
   "execution_count": 67,
   "metadata": {
    "collapsed": false
   },
   "outputs": [
    {
     "name": "stdout",
     "output_type": "stream",
     "text": [
      "[[-0.041-0.354j -0.041+0.354j -0.100-0.489j -0.100+0.489j]\n",
      " [ 0.101+0.338j  0.101-0.338j -0.050-0.497j -0.050+0.497j]\n",
      " [ 0.615+0.j     0.615-0.j     0.498-0.05j   0.498+0.05j ]\n",
      " [-0.600+0.106j -0.600-0.106j  0.501+0.j     0.501-0.j   ]]\n"
     ]
    }
   ],
   "source": [
    "sp.set_printoptions(precision=3)\n",
    "print('{}'.format(vec))"
   ]
  },
  {
   "cell_type": "code",
   "execution_count": 88,
   "metadata": {
    "collapsed": true
   },
   "outputs": [],
   "source": [
    "Ca = np.array([[1, 0]])\n",
    "Cd = Ca*0\n",
    "Cv = Cd\n",
    "Bt = np.array([[1],[0]])\n",
    "A, B, Css, D = vt.so2ss(M, C, K, Bt, Cd, Cv, Ca)"
   ]
  },
  {
   "cell_type": "code",
   "execution_count": 89,
   "metadata": {
    "collapsed": true
   },
   "outputs": [],
   "source": [
    "Ad, Bd, _, _ = vt.c2d(A, B, C, D, .1)"
   ]
  },
  {
   "cell_type": "code",
   "execution_count": 90,
   "metadata": {
    "collapsed": false
   },
   "outputs": [
    {
     "data": {
      "text/plain": [
       "array([[  9.902e-01,   4.885e-03,   9.770e-02,   6.523e-04],\n",
       "       [  4.918e-03,   9.901e-01,   6.523e-04,   9.868e-02],\n",
       "       [ -1.948e-01,   9.640e-02,   9.512e-01,   1.452e-02],\n",
       "       [  9.737e-02,  -1.967e-01,   1.452e-02,   9.704e-01]])"
      ]
     },
     "execution_count": 90,
     "metadata": {},
     "output_type": "execute_result"
    }
   ],
   "source": [
    "Ad"
   ]
  },
  {
   "cell_type": "code",
   "execution_count": 91,
   "metadata": {
    "collapsed": false
   },
   "outputs": [
    {
     "data": {
      "text/plain": [
       "array([[  4.926e-03],\n",
       "       [  2.050e-05],\n",
       "       [  9.770e-02],\n",
       "       [  6.523e-04]])"
      ]
     },
     "execution_count": 91,
     "metadata": {},
     "output_type": "execute_result"
    }
   ],
   "source": [
    "Bd"
   ]
  },
  {
   "cell_type": "code",
   "execution_count": 92,
   "metadata": {
    "collapsed": false
   },
   "outputs": [
    {
     "data": {
      "text/plain": [
       "array([[-2. ,  1. , -0.4,  0.1]])"
      ]
     },
     "execution_count": 92,
     "metadata": {},
     "output_type": "execute_result"
    }
   ],
   "source": [
    "Css"
   ]
  },
  {
   "cell_type": "code",
   "execution_count": 93,
   "metadata": {
    "collapsed": false
   },
   "outputs": [
    {
     "data": {
      "text/plain": [
       "array([[ 1.]])"
      ]
     },
     "execution_count": 93,
     "metadata": {},
     "output_type": "execute_result"
    }
   ],
   "source": [
    "D"
   ]
  },
  {
   "cell_type": "code",
   "execution_count": 94,
   "metadata": {
    "collapsed": false
   },
   "outputs": [
    {
     "name": "stdout",
     "output_type": "stream",
     "text": [
      "Help on function ctrb in module control.statefbk:\n",
      "\n",
      "ctrb(A, B)\n",
      "    Controllabilty matrix\n",
      "    \n",
      "    Parameters\n",
      "    ----------\n",
      "    A, B: array_like or string\n",
      "        Dynamics and input matrix of the system\n",
      "    \n",
      "    Returns\n",
      "    -------\n",
      "    C: matrix\n",
      "        Controllability matrix\n",
      "    \n",
      "    Examples\n",
      "    --------\n",
      "    >>> C = ctrb(A, B)\n",
      "\n"
     ]
    }
   ],
   "source": [
    "help(ctrl.ctrb)"
   ]
  },
  {
   "cell_type": "code",
   "execution_count": 95,
   "metadata": {
    "collapsed": false
   },
   "outputs": [
    {
     "data": {
      "text/plain": [
       "matrix([[  4.926e-03,   1.442e-02,   2.327e-02,   3.133e-02],\n",
       "        [  2.050e-05,   1.726e-04,   5.513e-04,   1.225e-03],\n",
       "        [  9.770e-02,   9.198e-02,   8.473e-02,   7.619e-02],\n",
       "        [  6.523e-04,   2.528e-03,   5.160e-03,   8.395e-03]])"
      ]
     },
     "execution_count": 95,
     "metadata": {},
     "output_type": "execute_result"
    }
   ],
   "source": [
    "CC = ctrl.ctrb(Ad, Bd)\n",
    "CC"
   ]
  },
  {
   "cell_type": "code",
   "execution_count": 100,
   "metadata": {
    "collapsed": false
   },
   "outputs": [
    {
     "data": {
      "text/plain": [
       "4"
      ]
     },
     "execution_count": 100,
     "metadata": {},
     "output_type": "execute_result"
    }
   ],
   "source": [
    "lanp.matrix_rank(CC)"
   ]
  },
  {
   "cell_type": "code",
   "execution_count": 101,
   "metadata": {
    "collapsed": false
   },
   "outputs": [
    {
     "data": {
      "text/plain": [
       "matrix([[-2.   ,  1.   , -0.4  ,  0.1  ],\n",
       "        [-1.888,  0.922, -0.574,  0.189],\n",
       "        [-1.735,  0.811, -0.727,  0.264],\n",
       "        [-1.546,  0.673, -0.856,  0.325]])"
      ]
     },
     "execution_count": 101,
     "metadata": {},
     "output_type": "execute_result"
    }
   ],
   "source": [
    "OO = ctrl.obsv(Ad, Css)\n",
    "OO"
   ]
  },
  {
   "cell_type": "code",
   "execution_count": 102,
   "metadata": {
    "collapsed": false
   },
   "outputs": [
    {
     "data": {
      "text/plain": [
       "4"
      ]
     },
     "execution_count": 102,
     "metadata": {},
     "output_type": "execute_result"
    }
   ],
   "source": [
    "lanp.matrix_rank(OO)"
   ]
  },
  {
   "cell_type": "code",
   "execution_count": null,
   "metadata": {
    "collapsed": true
   },
   "outputs": [],
   "source": []
  }
 ],
 "metadata": {
  "hide_input": false,
  "kernelspec": {
   "display_name": "Python 3",
   "language": "python",
   "name": "python3"
  },
  "language_info": {
   "codemirror_mode": {
    "name": "ipython",
    "version": 3
   },
   "file_extension": ".py",
   "mimetype": "text/x-python",
   "name": "python",
   "nbconvert_exporter": "python",
   "pygments_lexer": "ipython3",
   "version": "3.5.1"
  },
  "latex_envs": {
   "bibliofile": "biblio.bib",
   "cite_by": "apalike",
   "current_citInitial": 1,
   "eqLabelWithNumbers": true,
   "eqNumInitial": 0
  }
 },
 "nbformat": 4,
 "nbformat_minor": 0
}
