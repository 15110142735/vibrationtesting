{
 "cells": [
  {
   "cell_type": "code",
   "execution_count": 18,
   "metadata": {
    "init_cell": true
   },
   "outputs": [
    {
     "name": "stdout",
     "output_type": "stream",
     "text": [
      "The autoreload extension is already loaded. To reload it, use:\n",
      "  %reload_ext autoreload\n"
     ]
    }
   ],
   "source": [
    "%load_ext autoreload\n",
    "%autoreload 2\n",
    "%matplotlib inline\n",
    "\n",
    "import control as ctrl\n",
    "import matplotlib.pyplot as plt\n",
    "import scipy as sp\n",
    "import scipy.linalg as la\n",
    "import vibrationtesting as vt\n",
    "import scipy.signal as sig"
   ]
  },
  {
   "cell_type": "markdown",
   "metadata": {},
   "source": [
    "Considers a system \n",
    "\n",
    "$$\\ddot{x} + 2 \\dot{x} + 100 x = f(t)$$\n",
    "with a displacement sensor. \n",
    "\n",
    "The state space representation is \n",
    "\n",
    "$$\\dot{\\mathbf{z}} = A \\mathbf{z} + B u$$\n",
    "\n",
    "$$y = C \\mathbf{z} + D u$$ \n",
    "\n",
    "where \n",
    "\n",
    "$$A = \n",
    "\\begin{bmatrix}\n",
    "0&1\\\\\n",
    "-100&-2\n",
    "\\end{bmatrix}\n",
    ",\\quad\n",
    "B = \n",
    "\\begin{bmatrix}0\\\\1\\end{bmatrix}\n",
    ",\\quad\n",
    "C = \\begin{bmatrix}1&0\\end{bmatrix}\n",
    ", \\text{ and }\n",
    "D = [0]$$"
   ]
  },
  {
   "cell_type": "code",
   "execution_count": 19,
   "metadata": {},
   "outputs": [],
   "source": [
    "sample_freq = 1e3\n",
    "A = sp.array([[0, 1],\\\n",
    "              [-100, -2]])\n",
    "B = sp.array([[0], [1]])\n",
    "C = sp.array([[1, 0]])\n",
    "D = sp.array([[0]])\n",
    "sys = ctrl.ss(A, B, C, D)\n"
   ]
  },
  {
   "cell_type": "markdown",
   "metadata": {},
   "source": [
    "For this example, we will generate an impulse response for only 4 discrete times."
   ]
  },
  {
   "cell_type": "code",
   "execution_count": 20,
   "metadata": {},
   "outputs": [
    {
     "data": {
      "text/plain": [
       "array([ 0.        ,  0.16666667,  0.33333333,  0.5       ,  0.66666667,\n",
       "        0.83333333])"
      ]
     },
     "execution_count": 20,
     "metadata": {},
     "output_type": "execute_result"
    }
   ],
   "source": [
    "t = sp.linspace(0, 1, num = 6, endpoint = False)\n",
    "dt = t[1]\n",
    "t"
   ]
  },
  {
   "cell_type": "markdown",
   "metadata": {},
   "source": [
    "The impulse response for a second order underdamped system is known to be\n",
    "\n",
    "$$h(t) = \\frac{1}{\\omega_d}e^{-\\zeta \\omega_n t}\\sin\\left(\\omega_d t\\right)$$"
   ]
  },
  {
   "cell_type": "code",
   "execution_count": 21,
   "metadata": {},
   "outputs": [],
   "source": [
    "omega_n = sp.sqrt(100)\n",
    "zeta = 2/(2*omega_n)\n",
    "omega_d = omega_n * sp.sqrt(1 - zeta**2)"
   ]
  },
  {
   "cell_type": "code",
   "execution_count": 22,
   "metadata": {},
   "outputs": [
    {
     "data": {
      "text/plain": [
       "array([ 0.        ,  0.08474903, -0.01254052, -0.05886968,  0.01769677,\n",
       "        0.03956333])"
      ]
     },
     "execution_count": 22,
     "metadata": {},
     "output_type": "execute_result"
    }
   ],
   "source": [
    "h = 1/omega_d * sp.exp(-zeta*omega_n*t)*sp.sin(omega_d*t)\n",
    "h"
   ]
  },
  {
   "cell_type": "code",
   "execution_count": 23,
   "metadata": {},
   "outputs": [
    {
     "data": {
      "image/png": "[encoded data removed]",
      "text/plain": [
       "<matplotlib.figure.Figure at 0x110a25eb8>"
      ]
     },
     "metadata": {},
     "output_type": "display_data"
    }
   ],
   "source": [
    "plt.plot(t,h,'.')\n",
    "plt.axis([0,1,-0.1,0.1])\n",
    "plt.grid()"
   ]
  },
  {
   "cell_type": "code",
   "execution_count": 24,
   "metadata": {},
   "outputs": [
    {
     "data": {
      "text/plain": [
       "array([[ 0.        ,  0.08474903],\n",
       "       [ 0.08474903, -0.01254052],\n",
       "       [-0.01254052, -0.05886968],\n",
       "       [-0.05886968,  0.01769677]])"
      ]
     },
     "execution_count": 24,
     "metadata": {},
     "output_type": "execute_result"
    }
   ],
   "source": [
    "Hankel_0 = sp.vstack((h[0:-2],h[1:-1]))\n",
    "Hankel_0 = Hankel_0.T\n",
    "Hankel_0"
   ]
  },
  {
   "cell_type": "code",
   "execution_count": 25,
   "metadata": {},
   "outputs": [
    {
     "data": {
      "text/plain": [
       "array([ 0.08474903, -0.01254052, -0.05886968,  0.01769677])"
      ]
     },
     "execution_count": 25,
     "metadata": {},
     "output_type": "execute_result"
    }
   ],
   "source": [
    "h[1:-1]"
   ]
  },
  {
   "cell_type": "code",
   "execution_count": 26,
   "metadata": {},
   "outputs": [
    {
     "data": {
      "text/plain": [
       "array([-0.01254052, -0.05886968,  0.01769677,  0.03956333])"
      ]
     },
     "execution_count": 26,
     "metadata": {},
     "output_type": "execute_result"
    }
   ],
   "source": [
    "h[2:]"
   ]
  },
  {
   "cell_type": "code",
   "execution_count": 27,
   "metadata": {
    "scrolled": true
   },
   "outputs": [
    {
     "data": {
      "text/plain": [
       "array([[ 0.08474903, -0.01254052],\n",
       "       [-0.01254052, -0.05886968],\n",
       "       [-0.05886968,  0.01769677],\n",
       "       [ 0.01769677,  0.03956333]])"
      ]
     },
     "execution_count": 27,
     "metadata": {},
     "output_type": "execute_result"
    }
   ],
   "source": [
    "Hankel_1 = sp.vstack((h[1:-1],h[2:]))\n",
    "Hankel_1 = Hankel_1.T\n",
    "Hankel_1"
   ]
  },
  {
   "cell_type": "code",
   "execution_count": 28,
   "metadata": {},
   "outputs": [
    {
     "name": "stdout",
     "output_type": "stream",
     "text": [
      "[[ 0.56941225  0.57615451]\n",
      " [-0.59214005  0.56070011]\n",
      " [-0.32038129 -0.49580091]\n",
      " [ 0.47169449 -0.32839431]]\n",
      "[[-0.66563569  0.74627684]\n",
      " [ 0.74627684  0.66563569]]\n"
     ]
    }
   ],
   "source": [
    "U, sig, Vt = la.svd(Hankel_0)\n",
    "V = Vt.T\n",
    "U = U[:,:2]\n",
    "print(U)\n",
    "V = V[:,:2]\n",
    "print(V)"
   ]
  },
  {
   "cell_type": "code",
   "execution_count": 29,
   "metadata": {},
   "outputs": [
    {
     "name": "stdout",
     "output_type": "stream",
     "text": [
      "[[ 0.11107284  0.        ]\n",
      " [ 0.          0.0979112 ]]\n"
     ]
    }
   ],
   "source": [
    "sig = sp.diag(sig)\n",
    "print(sig)"
   ]
  },
  {
   "cell_type": "code",
   "execution_count": 30,
   "metadata": {},
   "outputs": [
    {
     "name": "stdout",
     "output_type": "stream",
     "text": [
      "[[-0.22322281  0.85303151]\n",
      " [-0.85967388  0.07525037]]\n"
     ]
    }
   ],
   "source": [
    "A_d = la.inv(sp.sqrt(sig))@U.T@Hankel_1@V@la.inv(sp.sqrt(sig))\n",
    "print(A_d)"
   ]
  },
  {
   "cell_type": "code",
   "execution_count": 31,
   "metadata": {},
   "outputs": [
    {
     "name": "stdout",
     "output_type": "stream",
     "text": [
      "[-0.07398622+0.84324217j -0.07398622-0.84324217j]\n",
      "[[ 0.12298924-0.69493489j  0.12298924+0.69493489j]\n",
      " [ 0.70847664+0.j          0.70847664-0.j        ]]\n"
     ]
    }
   ],
   "source": [
    "lam_d, vec = la.eig(A_d)\n",
    "print(lam_d)\n",
    "print(vec)"
   ]
  },
  {
   "cell_type": "code",
   "execution_count": 32,
   "metadata": {},
   "outputs": [
    {
     "name": "stdout",
     "output_type": "stream",
     "text": [
      "[[-0.22322281  0.85303151]\n",
      " [-0.85967388  0.07525037]]\n",
      "[[-0.22322281 -6.06518177e-18j  0.85303151 -3.08660016e-18j]\n",
      " [-0.85967388 -5.89516371e-18j  0.07525037 -2.24128429e-17j]]\n"
     ]
    }
   ],
   "source": [
    "# This should be the same as A_d\n",
    "print(A_d)\n",
    "print(vec@sp.diag(lam_d)@la.inv(vec))"
   ]
  },
  {
   "cell_type": "code",
   "execution_count": 33,
   "metadata": {},
   "outputs": [
    {
     "data": {
      "text/plain": [
       "array([-1.+9.94987437j, -1.-9.94987437j])"
      ]
     },
     "execution_count": 33,
     "metadata": {},
     "output_type": "execute_result"
    }
   ],
   "source": [
    "lam = sp.log(lam_d)/dt\n",
    "lam"
   ]
  },
  {
   "cell_type": "code",
   "execution_count": 34,
   "metadata": {},
   "outputs": [
    {
     "name": "stdout",
     "output_type": "stream",
     "text": [
      "The undamped natural frequency is 10.0 rad/sec.\n",
      "The damping ratio is 0.09999999999999991.\n"
     ]
    }
   ],
   "source": [
    "# These are the continuous time eigenvalues\n",
    "print('The undamped natural frequency is {} rad/sec.'.format(abs(lam[0])))\n",
    "print('The damping ratio is {}.'.format(-sp.real(lam[0])/abs(lam[0])))\n"
   ]
  },
  {
   "cell_type": "markdown",
   "metadata": {},
   "source": [
    "The identified state matrix is"
   ]
  },
  {
   "cell_type": "code",
   "execution_count": 35,
   "metadata": {},
   "outputs": [
    {
     "name": "stdout",
     "output_type": "stream",
     "text": [
      "[[ -2.76092394  10.06538424]\n",
      " [-10.1437611    0.76092394]]\n"
     ]
    }
   ],
   "source": [
    "A = la.logm(A_d)/dt\n",
    "print(A)"
   ]
  },
  {
   "cell_type": "markdown",
   "metadata": {},
   "source": [
    "which is the system the result in a balanced realization form. "
   ]
  },
  {
   "cell_type": "code",
   "execution_count": 36,
   "metadata": {},
   "outputs": [
    {
     "name": "stdout",
     "output_type": "stream",
     "text": [
      "[[-0.22184035]\n",
      " [ 0.23351573]]\n"
     ]
    }
   ],
   "source": [
    "# The discrete input matrix is\n",
    "B_d = sp.sqrt(sig)@V.T[:,0].T.reshape((2,1))\n",
    "print(B_d)"
   ]
  },
  {
   "cell_type": "code",
   "execution_count": 37,
   "metadata": {},
   "outputs": [
    {
     "name": "stdout",
     "output_type": "stream",
     "text": [
      "[[-2.58036274]\n",
      " [-0.22677789]]\n"
     ]
    }
   ],
   "source": [
    "# The continuous input matrix is\n",
    "B = la.solve((A_d - sp.eye(2)), A) @ B_d\n",
    "print(B)"
   ]
  },
  {
   "cell_type": "code",
   "execution_count": 38,
   "metadata": {},
   "outputs": [
    {
     "name": "stdout",
     "output_type": "stream",
     "text": [
      "[ 0.18977139  0.18028315]\n"
     ]
    }
   ],
   "source": [
    "C = (U @ sp.sqrt(sig))[0,:]\n",
    "print(C)"
   ]
  },
  {
   "cell_type": "code",
   "execution_count": 39,
   "metadata": {},
   "outputs": [
    {
     "data": {
      "text/plain": [
       "0.0"
      ]
     },
     "execution_count": 39,
     "metadata": {},
     "output_type": "execute_result"
    }
   ],
   "source": [
    "# Of course, D is\n",
    "D = h[0]\n",
    "D"
   ]
  },
  {
   "cell_type": "markdown",
   "metadata": {},
   "source": [
    "# New functions available"
   ]
  },
  {
   "cell_type": "code",
   "execution_count": 40,
   "metadata": {
    "scrolled": true
   },
   "outputs": [
    {
     "data": {
      "text/plain": [
       "(array([[ -2.76092394,  10.06538424],\n",
       "        [-10.1437611 ,   0.76092394]]), array([[-2.58036274],\n",
       "        [-0.22677789]]), array([ 0.18977139,  0.18028315]), 0.0)"
      ]
     },
     "execution_count": 40,
     "metadata": {},
     "output_type": "execute_result"
    }
   ],
   "source": [
    "vt.d2c(A_d, B_d, C, D, dt)"
   ]
  },
  {
   "cell_type": "code",
   "execution_count": 41,
   "metadata": {},
   "outputs": [],
   "source": [
    "C = sp.array([[1, 0]])"
   ]
  },
  {
   "cell_type": "code",
   "execution_count": 42,
   "metadata": {},
   "outputs": [
    {
     "data": {
      "text/plain": [
       "(1, 2)"
      ]
     },
     "execution_count": 42,
     "metadata": {},
     "output_type": "execute_result"
    }
   ],
   "source": [
    "C.shape"
   ]
  },
  {
   "cell_type": "code",
   "execution_count": 43,
   "metadata": {},
   "outputs": [
    {
     "data": {
      "text/plain": [
       "(2, 2)"
      ]
     },
     "execution_count": 43,
     "metadata": {},
     "output_type": "execute_result"
    }
   ],
   "source": [
    "A.shape"
   ]
  },
  {
   "cell_type": "code",
   "execution_count": 44,
   "metadata": {},
   "outputs": [],
   "source": [
    "sys = ctrl.ss(A, B, C, D)"
   ]
  },
  {
   "cell_type": "code",
   "execution_count": 45,
   "metadata": {},
   "outputs": [
    {
     "data": {
      "text/plain": [
       "A = [[ -2.76092394  10.06538424]\n",
       " [-10.1437611    0.76092394]]\n",
       "\n",
       "B = [[-2.58036274]\n",
       " [-0.22677789]]\n",
       "\n",
       "C = [[1 0]]\n",
       "\n",
       "D = [[ 0.]]"
      ]
     },
     "execution_count": 45,
     "metadata": {},
     "output_type": "execute_result"
    }
   ],
   "source": [
    "sys"
   ]
  },
  {
   "cell_type": "code",
   "execution_count": 46,
   "metadata": {
    "scrolled": true
   },
   "outputs": [
    {
     "data": {
      "text/plain": [
       "(2, 2)"
      ]
     },
     "execution_count": 46,
     "metadata": {},
     "output_type": "execute_result"
    }
   ],
   "source": [
    "A.shape"
   ]
  },
  {
   "cell_type": "code",
   "execution_count": 47,
   "metadata": {},
   "outputs": [
    {
     "data": {
      "text/plain": [
       "(1, 2)"
      ]
     },
     "execution_count": 47,
     "metadata": {},
     "output_type": "execute_result"
    }
   ],
   "source": [
    "C.shape"
   ]
  },
  {
   "cell_type": "code",
   "execution_count": 48,
   "metadata": {},
   "outputs": [],
   "source": [
    "sys = ctrl.ss(A, B, C, D)"
   ]
  },
  {
   "cell_type": "code",
   "execution_count": 49,
   "metadata": {},
   "outputs": [
    {
     "data": {
      "text/plain": [
       "A = [[ -2.76092394  10.06538424]\n",
       " [-10.1437611    0.76092394]]\n",
       "\n",
       "B = [[-2.58036274]\n",
       " [-0.22677789]]\n",
       "\n",
       "C = [[1 0]]\n",
       "\n",
       "D = [[ 0.]]"
      ]
     },
     "execution_count": 49,
     "metadata": {},
     "output_type": "execute_result"
    }
   ],
   "source": [
    "sys"
   ]
  },
  {
   "cell_type": "code",
   "execution_count": 52,
   "metadata": {},
   "outputs": [
    {
     "name": "stdout",
     "output_type": "stream",
     "text": [
      "[[-0.22322281  0.85303151]\n",
      " [-0.85967388  0.07525037]]\n",
      "[[-0.22184035]\n",
      " [ 0.23351573]]\n"
     ]
    }
   ],
   "source": [
    "Ad, Bd, _, _ = vt.c2d(A, B, C, D, dt)\n",
    "print(Ad)\n",
    "print(Bd)"
   ]
  },
  {
   "cell_type": "code",
   "execution_count": 53,
   "metadata": {
    "scrolled": true
   },
   "outputs": [
    {
     "name": "stdout",
     "output_type": "stream",
     "text": [
      "............... Eigenvalue ...........     Damping     Frequency\n",
      "--------[re]---------[im]--------[abs]----------------------[Hz]\n",
      "      -1.000        +9.950      10.000                         0.100         1.592\n",
      "      -1.000        -9.950      10.000                         0.100         1.592\n"
     ]
    }
   ],
   "source": [
    "vt.damp(A)"
   ]
  },
  {
   "cell_type": "code",
   "execution_count": 54,
   "metadata": {},
   "outputs": [
    {
     "data": {
      "text/plain": [
       "array([[ 0.06375786],\n",
       "       [ 0.36686755]])"
      ]
     },
     "execution_count": 54,
     "metadata": {},
     "output_type": "execute_result"
    }
   ],
   "source": [
    "(A_d*dt)@B"
   ]
  },
  {
   "cell_type": "code",
   "execution_count": null,
   "metadata": {},
   "outputs": [],
   "source": []
  }
 ],
 "metadata": {
  "hide_input": false,
  "kernelspec": {
   "display_name": "Python 3",
   "language": "python",
   "name": "python3"
  },
  "language_info": {
   "codemirror_mode": {
    "name": "ipython",
    "version": 3
   },
   "file_extension": ".py",
   "mimetype": "text/x-python",
   "name": "python",
   "nbconvert_exporter": "python",
   "pygments_lexer": "ipython3",
   "version": "3.6.3"
  },
  "latex_envs": {
   "bibliofile": "biblio.bib",
   "cite_by": "apalike",
   "current_citInitial": 1,
   "eqLabelWithNumbers": true,
   "eqNumInitial": 0
  },
  "toc": {
   "nav_menu": {},
   "number_sections": true,
   "sideBar": true,
   "skip_h1_title": false,
   "toc_cell": false,
   "toc_position": {},
   "toc_section_display": "block",
   "toc_window_display": false
  },
  "varInspector": {
   "cols": {
    "lenName": 16,
    "lenType": 16,
    "lenVar": 40
   },
   "kernels_config": {
    "python": {
     "delete_cmd_postfix": "",
     "delete_cmd_prefix": "del ",
     "library": "var_list.py",
     "varRefreshCmd": "print(var_dic_list())"
    },
    "r": {
     "delete_cmd_postfix": ") ",
     "delete_cmd_prefix": "rm(",
     "library": "var_list.r",
     "varRefreshCmd": "cat(var_dic_list()) "
    }
   },
   "types_to_exclude": [
    "module",
    "function",
    "builtin_function_or_method",
    "instance",
    "_Feature"
   ],
   "window_display": false
  }
 },
 "nbformat": 4,
 "nbformat_minor": 1
}
