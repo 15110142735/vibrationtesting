{
 "cells": [
  {
   "cell_type": "code",
   "execution_count": 2,
   "metadata": {
    "init_cell": true
   },
   "outputs": [
    {
     "name": "stdout",
     "output_type": "stream",
     "text": [
      "The autoreload extension is already loaded. To reload it, use:\n",
      "  %reload_ext autoreload\n"
     ]
    }
   ],
   "source": [
    "%matplotlib inline\n",
    "%load_ext autoreload\n",
    "%autoreload 2\n",
    "import matplotlib.pyplot as plt\n",
    "import numpy as np\n",
    "import control as ctrl\n",
    "import vibrationtesting as vt\n"
   ]
  },
  {
   "cell_type": "code",
   "execution_count": 46,
   "metadata": {},
   "outputs": [],
   "source": [
    "sys = vt.so2ss(np.array([[1]]),np.array([[1]]),np.array([[1000]]),\n",
    "               np.array([[1]]),np.array([[1]]), np.array([[0]]), np.array([[0]]))"
   ]
  },
  {
   "cell_type": "code",
   "execution_count": 47,
   "metadata": {},
   "outputs": [
    {
     "data": {
      "text/plain": [
       "A = [[    0.     1.]\n",
       " [-1000.    -1.]]\n",
       "\n",
       "B = [[ 0.]\n",
       " [ 1.]]\n",
       "\n",
       "C = [[ 1.  0.]]\n",
       "\n",
       "D = [[ 0.]]"
      ]
     },
     "execution_count": 47,
     "metadata": {},
     "output_type": "execute_result"
    }
   ],
   "source": [
    "sys = ctrl.ss(*sys)\n",
    "sys"
   ]
  },
  {
   "cell_type": "code",
   "execution_count": 49,
   "metadata": {},
   "outputs": [
    {
     "name": "stdout",
     "output_type": "stream",
     "text": [
      "............... Eigenvalue ...........     Damping     Frequency\n",
      "--------[re]---------[im]--------[abs]----------------------[Hz]\n",
      "      -0.500        +31.619      31.623                         0.016         5.033\n",
      "      -0.500        -31.619      31.623                         0.016         5.033\n"
     ]
    }
   ],
   "source": [
    "vt.damp(sys.A)"
   ]
  },
  {
   "cell_type": "code",
   "execution_count": 50,
   "metadata": {},
   "outputs": [],
   "source": [
    "U = np.zeros((1,1000))\n",
    "U[0,0]=1\n"
   ]
  },
  {
   "cell_type": "code",
   "execution_count": 54,
   "metadata": {},
   "outputs": [
    {
     "data": {
      "text/plain": [
       "(1, 1000)"
      ]
     },
     "execution_count": 54,
     "metadata": {},
     "output_type": "execute_result"
    }
   ],
   "source": [
    "U.shape"
   ]
  },
  {
   "cell_type": "code",
   "execution_count": 51,
   "metadata": {},
   "outputs": [
    {
     "data": {
      "text/plain": [
       "array([[0],\n",
       "       [0]])"
      ]
     },
     "execution_count": 51,
     "metadata": {},
     "output_type": "execute_result"
    }
   ],
   "source": [
    "X0=np.array([[0],[0]])\n",
    "X0"
   ]
  },
  {
   "cell_type": "code",
   "execution_count": 117,
   "metadata": {},
   "outputs": [
    {
     "data": {
      "text/plain": [
       "(1000,)"
      ]
     },
     "execution_count": 117,
     "metadata": {},
     "output_type": "execute_result"
    }
   ],
   "source": [
    "T = np.linspace(0,5,1000)\n",
    "T.shape"
   ]
  },
  {
   "cell_type": "code",
   "execution_count": 97,
   "metadata": {},
   "outputs": [],
   "source": [
    "yout, T, xout = ctrl.lsim(sys,U.T,T,X0)"
   ]
  },
  {
   "cell_type": "code",
   "execution_count": 126,
   "metadata": {},
   "outputs": [],
   "source": [
    "T, yout, xout = ctrl.forced_response(sys,U=U,T=T,X0=X0)"
   ]
  },
  {
   "cell_type": "code",
   "execution_count": 127,
   "metadata": {},
   "outputs": [
    {
     "data": {
      "text/plain": [
       "(2, 1000)"
      ]
     },
     "execution_count": 127,
     "metadata": {},
     "output_type": "execute_result"
    }
   ],
   "source": [
    "xout.shape"
   ]
  },
  {
   "cell_type": "code",
   "execution_count": 129,
   "metadata": {},
   "outputs": [
    {
     "data": {
      "text/plain": [
       "[<matplotlib.lines.Line2D at 0x1196ff9e8>]"
      ]
     },
     "execution_count": 129,
     "metadata": {},
     "output_type": "execute_result"
    },
    {
     "data": {
      "image/png": "[encoded data removed]",
      "text/plain": [
       "<matplotlib.figure.Figure at 0x1195e3ac8>"
      ]
     },
     "metadata": {},
     "output_type": "display_data"
    }
   ],
   "source": [
    "plt.plot(T,yout)"
   ]
  },
  {
   "cell_type": "code",
   "execution_count": 66,
   "metadata": {},
   "outputs": [
    {
     "data": {
      "text/plain": [
       "(1000,)"
      ]
     },
     "execution_count": 66,
     "metadata": {},
     "output_type": "execute_result"
    }
   ],
   "source": [
    "yout.shape"
   ]
  },
  {
   "cell_type": "code",
   "execution_count": 67,
   "metadata": {},
   "outputs": [
    {
     "data": {
      "text/plain": [
       "(1000, 2)"
      ]
     },
     "execution_count": 67,
     "metadata": {},
     "output_type": "execute_result"
    }
   ],
   "source": [
    "xout.shape"
   ]
  },
  {
   "cell_type": "code",
   "execution_count": 114,
   "metadata": {},
   "outputs": [
    {
     "ename": "ValueError",
     "evalue": "Parameter ``T``: time values must be equally spaced.",
     "output_type": "error",
     "traceback": [
      "\u001b[0;31m---------------------------------------------------------------------------\u001b[0m",
      "\u001b[0;31mValueError\u001b[0m                                Traceback (most recent call last)",
      "\u001b[0;32m<ipython-input-114-410d3307186e>\u001b[0m in \u001b[0;36m<module>\u001b[0;34m()\u001b[0m\n\u001b[0;32m----> 1\u001b[0;31m \u001b[0mT\u001b[0m\u001b[0;34m,\u001b[0m \u001b[0myout\u001b[0m\u001b[0;34m,\u001b[0m \u001b[0mxout\u001b[0m \u001b[0;34m=\u001b[0m \u001b[0mctrl\u001b[0m\u001b[0;34m.\u001b[0m\u001b[0mimpulse_response\u001b[0m\u001b[0;34m(\u001b[0m\u001b[0msys\u001b[0m\u001b[0;34m,\u001b[0m \u001b[0mT\u001b[0m \u001b[0;34m=\u001b[0m \u001b[0mT\u001b[0m\u001b[0;34m)\u001b[0m\u001b[0;34m\u001b[0m\u001b[0m\n\u001b[0m",
      "\u001b[0;32m~/anaconda3/lib/python3.6/site-packages/control/timeresp.py\u001b[0m in \u001b[0;36mimpulse_response\u001b[0;34m(sys, T, X0, input, output, transpose, **keywords)\u001b[0m\n\u001b[1;32m    661\u001b[0m     T, yout, _xout = forced_response(\n\u001b[1;32m    662\u001b[0m         \u001b[0msys\u001b[0m\u001b[0;34m,\u001b[0m \u001b[0mT\u001b[0m\u001b[0;34m,\u001b[0m \u001b[0mU\u001b[0m\u001b[0;34m,\u001b[0m \u001b[0mnew_X0\u001b[0m\u001b[0;34m,\u001b[0m\u001b[0;34m\u001b[0m\u001b[0m\n\u001b[0;32m--> 663\u001b[0;31m         transpose=transpose, **keywords)\n\u001b[0m\u001b[1;32m    664\u001b[0m     \u001b[0;32mreturn\u001b[0m \u001b[0mT\u001b[0m\u001b[0;34m,\u001b[0m \u001b[0myout\u001b[0m\u001b[0;34m\u001b[0m\u001b[0m\n",
      "\u001b[0;32m~/anaconda3/lib/python3.6/site-packages/control/timeresp.py\u001b[0m in \u001b[0;36mforced_response\u001b[0;34m(sys, T, U, X0, transpose, **keywords)\u001b[0m\n\u001b[1;32m    326\u001b[0m     \u001b[0mdt\u001b[0m \u001b[0;34m=\u001b[0m \u001b[0mT\u001b[0m\u001b[0;34m[\u001b[0m\u001b[0;36m1\u001b[0m\u001b[0;34m]\u001b[0m \u001b[0;34m-\u001b[0m \u001b[0mT\u001b[0m\u001b[0;34m[\u001b[0m\u001b[0;36m0\u001b[0m\u001b[0;34m]\u001b[0m\u001b[0;34m\u001b[0m\u001b[0m\n\u001b[1;32m    327\u001b[0m     \u001b[0;32mif\u001b[0m \u001b[0;32mnot\u001b[0m \u001b[0mnp\u001b[0m\u001b[0;34m.\u001b[0m\u001b[0mallclose\u001b[0m\u001b[0;34m(\u001b[0m\u001b[0mT\u001b[0m\u001b[0;34m[\u001b[0m\u001b[0;36m1\u001b[0m\u001b[0;34m:\u001b[0m\u001b[0;34m]\u001b[0m \u001b[0;34m-\u001b[0m \u001b[0mT\u001b[0m\u001b[0;34m[\u001b[0m\u001b[0;34m:\u001b[0m\u001b[0;34m-\u001b[0m\u001b[0;36m1\u001b[0m\u001b[0;34m]\u001b[0m\u001b[0;34m,\u001b[0m \u001b[0mdt\u001b[0m\u001b[0;34m)\u001b[0m\u001b[0;34m:\u001b[0m\u001b[0;34m\u001b[0m\u001b[0m\n\u001b[0;32m--> 328\u001b[0;31m         \u001b[0;32mraise\u001b[0m \u001b[0mValueError\u001b[0m\u001b[0;34m(\u001b[0m\u001b[0;34m'Parameter ``T``: time values must be equally spaced.'\u001b[0m\u001b[0;34m)\u001b[0m\u001b[0;34m\u001b[0m\u001b[0m\n\u001b[0m\u001b[1;32m    329\u001b[0m     \u001b[0mn_steps\u001b[0m \u001b[0;34m=\u001b[0m \u001b[0mlen\u001b[0m\u001b[0;34m(\u001b[0m\u001b[0mT\u001b[0m\u001b[0;34m)\u001b[0m            \u001b[0;31m# number of simulation steps\u001b[0m\u001b[0;34m\u001b[0m\u001b[0m\n\u001b[1;32m    330\u001b[0m \u001b[0;34m\u001b[0m\u001b[0m\n",
      "\u001b[0;31mValueError\u001b[0m: Parameter ``T``: time values must be equally spaced."
     ]
    }
   ],
   "source": [
    "T, yout, xout = ctrl.impulse_response(sys, T = T)"
   ]
  },
  {
   "cell_type": "code",
   "execution_count": 115,
   "metadata": {
    "scrolled": true
   },
   "outputs": [
    {
     "data": {
      "text/plain": [
       "[<matplotlib.lines.Line2D at 0x119546518>]"
      ]
     },
     "execution_count": 115,
     "metadata": {},
     "output_type": "execute_result"
    },
    {
     "data": {
      "image/png": "[encoded data removed]",
      "text/plain": [
       "<matplotlib.figure.Figure at 0x1195056a0>"
      ]
     },
     "metadata": {},
     "output_type": "display_data"
    }
   ],
   "source": [
    "plt.plot(T, yout)"
   ]
  },
  {
   "cell_type": "code",
   "execution_count": 3,
   "metadata": {},
   "outputs": [],
   "source": [
    "a = np.linspace(0,10,1024).reshape(1,-1)"
   ]
  },
  {
   "cell_type": "code",
   "execution_count": 47,
   "metadata": {},
   "outputs": [],
   "source": [
    "force = vt.hammer_impulse(a, doublehit=True)"
   ]
  },
  {
   "cell_type": "code",
   "execution_count": 48,
   "metadata": {},
   "outputs": [
    {
     "data": {
      "text/plain": [
       "[<matplotlib.lines.Line2D at 0x1166512b0>]"
      ]
     },
     "execution_count": 48,
     "metadata": {},
     "output_type": "execute_result"
    },
    {
     "data": {
      "image/png": "[encoded data removed]",
      "text/plain": [
       "<matplotlib.figure.Figure at 0x1161a74a8>"
      ]
     },
     "metadata": {},
     "output_type": "display_data"
    }
   ],
   "source": [
    "plt.plot(a.T,force.T)\n",
    "#plt.axis([.99,1.15,0,1])"
   ]
  },
  {
   "cell_type": "code",
   "execution_count": 37,
   "metadata": {},
   "outputs": [],
   "source": [
    "import scipy.integrate as spi"
   ]
  },
  {
   "cell_type": "code",
   "execution_count": 43,
   "metadata": {},
   "outputs": [],
   "source": [
    "time = a"
   ]
  },
  {
   "cell_type": "code",
   "execution_count": 46,
   "metadata": {},
   "outputs": [
    {
     "data": {
      "text/plain": [
       "0.12547438655139989"
      ]
     },
     "execution_count": 46,
     "metadata": {},
     "output_type": "execute_result"
    }
   ],
   "source": [
    "spi.simps(force.reshape(-1),dx = a[0,1])"
   ]
  },
  {
   "cell_type": "code",
   "execution_count": 42,
   "metadata": {},
   "outputs": [
    {
     "data": {
      "text/plain": [
       "0.0"
      ]
     },
     "execution_count": 42,
     "metadata": {},
     "output_type": "execute_result"
    }
   ],
   "source": [
    "a[0,0]"
   ]
  },
  {
   "cell_type": "code",
   "execution_count": 45,
   "metadata": {},
   "outputs": [
    {
     "data": {
      "text/plain": [
       "array([ 0.,  0.,  0., ...,  0.,  0.,  0.])"
      ]
     },
     "execution_count": 45,
     "metadata": {},
     "output_type": "execute_result"
    }
   ],
   "source": [
    "force.reshape(-1)"
   ]
  },
  {
   "cell_type": "code",
   "execution_count": null,
   "metadata": {},
   "outputs": [],
   "source": [
    "import scipy as sp"
   ]
  },
  {
   "cell_type": "code",
   "execution_count": 57,
   "metadata": {},
   "outputs": [
    {
     "name": "stdout",
     "output_type": "stream",
     "text": [
      "Help on function filtfilt in module scipy.signal.signaltools:\n",
      "\n",
      "filtfilt(b, a, x, axis=-1, padtype='odd', padlen=None, method='pad', irlen=None)\n",
      "    Apply a digital filter forward and backward to a signal.\n",
      "    \n",
      "    This function applies a linear digital filter twice, once forward and\n",
      "    once backwards.  The combined filter has zero phase and a filter order\n",
      "    twice that of the original.\n",
      "    \n",
      "    The function provides options for handling the edges of the signal.\n",
      "    \n",
      "    Parameters\n",
      "    ----------\n",
      "    b : (N,) array_like\n",
      "        The numerator coefficient vector of the filter.\n",
      "    a : (N,) array_like\n",
      "        The denominator coefficient vector of the filter.  If ``a[0]``\n",
      "        is not 1, then both `a` and `b` are normalized by ``a[0]``.\n",
      "    x : array_like\n",
      "        The array of data to be filtered.\n",
      "    axis : int, optional\n",
      "        The axis of `x` to which the filter is applied.\n",
      "        Default is -1.\n",
      "    padtype : str or None, optional\n",
      "        Must be 'odd', 'even', 'constant', or None.  This determines the\n",
      "        type of extension to use for the padded signal to which the filter\n",
      "        is applied.  If `padtype` is None, no padding is used.  The default\n",
      "        is 'odd'.\n",
      "    padlen : int or None, optional\n",
      "        The number of elements by which to extend `x` at both ends of\n",
      "        `axis` before applying the filter.  This value must be less than\n",
      "        ``x.shape[axis] - 1``.  ``padlen=0`` implies no padding.\n",
      "        The default value is ``3 * max(len(a), len(b))``.\n",
      "    method : str, optional\n",
      "        Determines the method for handling the edges of the signal, either\n",
      "        \"pad\" or \"gust\".  When `method` is \"pad\", the signal is padded; the\n",
      "        type of padding is determined by `padtype` and `padlen`, and `irlen`\n",
      "        is ignored.  When `method` is \"gust\", Gustafsson's method is used,\n",
      "        and `padtype` and `padlen` are ignored.\n",
      "    irlen : int or None, optional\n",
      "        When `method` is \"gust\", `irlen` specifies the length of the\n",
      "        impulse response of the filter.  If `irlen` is None, no part\n",
      "        of the impulse response is ignored.  For a long signal, specifying\n",
      "        `irlen` can significantly improve the performance of the filter.\n",
      "    \n",
      "    Returns\n",
      "    -------\n",
      "    y : ndarray\n",
      "        The filtered output with the same shape as `x`.\n",
      "    \n",
      "    See Also\n",
      "    --------\n",
      "    sosfiltfilt, lfilter_zi, lfilter, lfiltic, savgol_filter, sosfilt\n",
      "    \n",
      "    Notes\n",
      "    -----\n",
      "    When `method` is \"pad\", the function pads the data along the given axis\n",
      "    in one of three ways: odd, even or constant.  The odd and even extensions\n",
      "    have the corresponding symmetry about the end point of the data.  The\n",
      "    constant extension extends the data with the values at the end points. On\n",
      "    both the forward and backward passes, the initial condition of the\n",
      "    filter is found by using `lfilter_zi` and scaling it by the end point of\n",
      "    the extended data.\n",
      "    \n",
      "    When `method` is \"gust\", Gustafsson's method [1]_ is used.  Initial\n",
      "    conditions are chosen for the forward and backward passes so that the\n",
      "    forward-backward filter gives the same result as the backward-forward\n",
      "    filter.\n",
      "    \n",
      "    The option to use Gustaffson's method was added in scipy version 0.16.0.\n",
      "    \n",
      "    References\n",
      "    ----------\n",
      "    .. [1] F. Gustaffson, \"Determining the initial states in forward-backward\n",
      "           filtering\", Transactions on Signal Processing, Vol. 46, pp. 988-992,\n",
      "           1996.\n",
      "    \n",
      "    Examples\n",
      "    --------\n",
      "    The examples will use several functions from `scipy.signal`.\n",
      "    \n",
      "    >>> from scipy import signal\n",
      "    >>> import matplotlib.pyplot as plt\n",
      "    \n",
      "    First we create a one second signal that is the sum of two pure sine\n",
      "    waves, with frequencies 5 Hz and 250 Hz, sampled at 2000 Hz.\n",
      "    \n",
      "    >>> t = np.linspace(0, 1.0, 2001)\n",
      "    >>> xlow = np.sin(2 * np.pi * 5 * t)\n",
      "    >>> xhigh = np.sin(2 * np.pi * 250 * t)\n",
      "    >>> x = xlow + xhigh\n",
      "    \n",
      "    Now create a lowpass Butterworth filter with a cutoff of 0.125 times\n",
      "    the Nyquist rate, or 125 Hz, and apply it to ``x`` with `filtfilt`.\n",
      "    The result should be approximately ``xlow``, with no phase shift.\n",
      "    \n",
      "    >>> b, a = signal.butter(8, 0.125)\n",
      "    >>> y = signal.filtfilt(b, a, x, padlen=150)\n",
      "    >>> np.abs(y - xlow).max()\n",
      "    9.1086182074789912e-06\n",
      "    \n",
      "    We get a fairly clean result for this artificial example because\n",
      "    the odd extension is exact, and with the moderately long padding,\n",
      "    the filter's transients have dissipated by the time the actual data\n",
      "    is reached.  In general, transient effects at the edges are\n",
      "    unavoidable.\n",
      "    \n",
      "    The following example demonstrates the option ``method=\"gust\"``.\n",
      "    \n",
      "    First, create a filter.\n",
      "    \n",
      "    >>> b, a = signal.ellip(4, 0.01, 120, 0.125)  # Filter to be applied.\n",
      "    >>> np.random.seed(123456)\n",
      "    \n",
      "    `sig` is a random input signal to be filtered.\n",
      "    \n",
      "    >>> n = 60\n",
      "    >>> sig = np.random.randn(n)**3 + 3*np.random.randn(n).cumsum()\n",
      "    \n",
      "    Apply `filtfilt` to `sig`, once using the Gustafsson method, and\n",
      "    once using padding, and plot the results for comparison.\n",
      "    \n",
      "    >>> fgust = signal.filtfilt(b, a, sig, method=\"gust\")\n",
      "    >>> fpad = signal.filtfilt(b, a, sig, padlen=50)\n",
      "    >>> plt.plot(sig, 'k-', label='input')\n",
      "    >>> plt.plot(fgust, 'b-', linewidth=4, label='gust')\n",
      "    >>> plt.plot(fpad, 'c-', linewidth=1.5, label='pad')\n",
      "    >>> plt.legend(loc='best')\n",
      "    >>> plt.show()\n",
      "    \n",
      "    The `irlen` argument can be used to improve the performance\n",
      "    of Gustafsson's method.\n",
      "    \n",
      "    Estimate the impulse response length of the filter.\n",
      "    \n",
      "    >>> z, p, k = signal.tf2zpk(b, a)\n",
      "    >>> eps = 1e-9\n",
      "    >>> r = np.max(np.abs(p))\n",
      "    >>> approx_impulse_len = int(np.ceil(np.log(eps) / np.log(r)))\n",
      "    >>> approx_impulse_len\n",
      "    137\n",
      "    \n",
      "    Apply the filter to a longer signal, with and without the `irlen`\n",
      "    argument.  The difference between `y1` and `y2` is small.  For long\n",
      "    signals, using `irlen` gives a significant performance improvement.\n",
      "    \n",
      "    >>> x = np.random.randn(5000)\n",
      "    >>> y1 = signal.filtfilt(b, a, x, method='gust')\n",
      "    >>> y2 = signal.filtfilt(b, a, x, method='gust', irlen=approx_impulse_len)\n",
      "    >>> print(np.max(np.abs(y1 - y2)))\n",
      "    1.80056858312e-10\n",
      "\n"
     ]
    }
   ],
   "source": [
    "help(sp.signal.filtfilt)"
   ]
  },
  {
   "cell_type": "code",
   "execution_count": 56,
   "metadata": {},
   "outputs": [
    {
     "name": "stdout",
     "output_type": "stream",
     "text": [
      "Help on function decimate in module scipy.signal.signaltools:\n",
      "\n",
      "decimate(x, q, n=None, ftype='iir', axis=-1, zero_phase=True)\n",
      "    Downsample the signal after applying an anti-aliasing filter.\n",
      "    \n",
      "    By default, an order 8 Chebyshev type I filter is used. A 30 point FIR\n",
      "    filter with Hamming window is used if `ftype` is 'fir'.\n",
      "    \n",
      "    Parameters\n",
      "    ----------\n",
      "    x : array_like\n",
      "        The signal to be downsampled, as an N-dimensional array.\n",
      "    q : int\n",
      "        The downsampling factor. When using IIR downsampling, it is recommended\n",
      "        to call `decimate` multiple times for downsampling factors higher than\n",
      "        13.\n",
      "    n : int, optional\n",
      "        The order of the filter (1 less than the length for 'fir'). Defaults to\n",
      "        8 for 'iir' and 20 times the downsampling factor for 'fir'.\n",
      "    ftype : str {'iir', 'fir'} or ``dlti`` instance, optional\n",
      "        If 'iir' or 'fir', specifies the type of lowpass filter. If an instance\n",
      "        of an `dlti` object, uses that object to filter before downsampling.\n",
      "    axis : int, optional\n",
      "        The axis along which to decimate.\n",
      "    zero_phase : bool, optional\n",
      "        Prevent phase shift by filtering with `filtfilt` instead of `lfilter`\n",
      "        when using an IIR filter, and shifting the outputs back by the filter's\n",
      "        group delay when using an FIR filter. The default value of ``True`` is\n",
      "        recommended, since a phase shift is generally not desired.\n",
      "    \n",
      "        .. versionadded:: 0.18.0\n",
      "    \n",
      "    Returns\n",
      "    -------\n",
      "    y : ndarray\n",
      "        The down-sampled signal.\n",
      "    \n",
      "    See Also\n",
      "    --------\n",
      "    resample : Resample up or down using the FFT method.\n",
      "    resample_poly : Resample using polyphase filtering and an FIR filter.\n",
      "    \n",
      "    Notes\n",
      "    -----\n",
      "    The ``zero_phase`` keyword was added in 0.18.0.\n",
      "    The possibility to use instances of ``dlti`` as ``ftype`` was added in\n",
      "    0.18.0.\n",
      "\n"
     ]
    }
   ],
   "source": [
    "help(sp.signal.decimate)"
   ]
  },
  {
   "cell_type": "code",
   "execution_count": null,
   "metadata": {},
   "outputs": [],
   "source": []
  }
 ],
 "metadata": {
  "hide_input": false,
  "kernelspec": {
   "display_name": "Python 3",
   "language": "python",
   "name": "python3"
  },
  "language_info": {
   "codemirror_mode": {
    "name": "ipython",
    "version": 3
   },
   "file_extension": ".py",
   "mimetype": "text/x-python",
   "name": "python",
   "nbconvert_exporter": "python",
   "pygments_lexer": "ipython3",
   "version": "3.6.4"
  },
  "toc": {
   "nav_menu": {},
   "number_sections": true,
   "sideBar": true,
   "skip_h1_title": false,
   "toc_cell": false,
   "toc_position": {},
   "toc_section_display": "block",
   "toc_window_display": false
  },
  "varInspector": {
   "cols": {
    "lenName": 16,
    "lenType": 16,
    "lenVar": 40
   },
   "kernels_config": {
    "python": {
     "delete_cmd_postfix": "",
     "delete_cmd_prefix": "del ",
     "library": "var_list.py",
     "varRefreshCmd": "print(var_dic_list())"
    },
    "r": {
     "delete_cmd_postfix": ") ",
     "delete_cmd_prefix": "rm(",
     "library": "var_list.r",
     "varRefreshCmd": "cat(var_dic_list()) "
    }
   },
   "types_to_exclude": [
    "module",
    "function",
    "builtin_function_or_method",
    "instance",
    "_Feature"
   ],
   "window_display": false
  }
 },
 "nbformat": 4,
 "nbformat_minor": 2
}
