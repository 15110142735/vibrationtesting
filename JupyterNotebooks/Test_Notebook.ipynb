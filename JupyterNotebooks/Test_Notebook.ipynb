{
 "cells": [
  {
   "cell_type": "code",
   "execution_count": 3,
   "metadata": {
    "init_cell": true
   },
   "outputs": [
    {
     "name": "stdout",
     "output_type": "stream",
     "text": [
      "The autoreload extension is already loaded. To reload it, use:\n",
      "  %reload_ext autoreload\n"
     ]
    }
   ],
   "source": [
    "%load_ext autoreload\n",
    "%autoreload 2\n",
    "%matplotlib inline\n",
    "# %ls\n",
    "import scipy as sp\n",
    "import numpy as np\n",
    "import scipy.linalg as la\n",
    "import matplotlib.pyplot as plt\n",
    "import vibrationtesting as vt"
   ]
  },
  {
   "cell_type": "code",
   "execution_count": 4,
   "metadata": {},
   "outputs": [],
   "source": [
    "M = np.array([[4, 0, 0],\n",
    "            [0, 4, 0],\n",
    "                   [0, 0, 4]])\n",
    "Cso = np.array([[.1,0,0],\n",
    "               [0,0,0],\n",
    "               [0,0,0]])\n",
    "\n",
    "K = np.array([[8, -4, 0],\n",
    "                   [-4, 8, -4],\n",
    "                   [0, -4, 4]])"
   ]
  },
  {
   "cell_type": "code",
   "execution_count": 9,
   "metadata": {},
   "outputs": [],
   "source": [
    "Mred, Kred, T, master, truncated_dofs = vt.guyan(M, K, fraction = .7)"
   ]
  },
  {
   "cell_type": "code",
   "execution_count": 10,
   "metadata": {},
   "outputs": [
    {
     "data": {
      "text/plain": [
       "array([[ 6., -4.],\n",
       "       [-4.,  4.]])"
      ]
     },
     "execution_count": 10,
     "metadata": {},
     "output_type": "execute_result"
    }
   ],
   "source": [
    "Kred"
   ]
  },
  {
   "cell_type": "code",
   "execution_count": 11,
   "metadata": {},
   "outputs": [
    {
     "data": {
      "text/plain": [
       "array([[ 5.,  0.],\n",
       "       [ 0.,  4.]])"
      ]
     },
     "execution_count": 11,
     "metadata": {},
     "output_type": "execute_result"
    }
   ],
   "source": [
    "Mred"
   ]
  },
  {
   "cell_type": "code",
   "execution_count": 36,
   "metadata": {},
   "outputs": [
    {
     "name": "stdout",
     "output_type": "stream",
     "text": [
      "Damping matrix cannot be completely diagonalized.\n",
      "Off diagonal error of 225%.\n"
     ]
    }
   ],
   "source": [
    "omega, zeta, Psi = vt.sos_modal(M, K, Cso)"
   ]
  },
  {
   "cell_type": "code",
   "execution_count": 13,
   "metadata": {},
   "outputs": [],
   "source": [
    "Bt = np.array([[1],[0],[0]])\n",
    "Ca = np.array([[1,0,0]])\n",
    "Cd = Cv = np.zeros_like(Ca)"
   ]
  },
  {
   "cell_type": "code",
   "execution_count": 14,
   "metadata": {},
   "outputs": [],
   "source": [
    "A, B, C, D = vt.so2ss(M, Cso, K, Bt, Cd, Cv, Ca)"
   ]
  },
  {
   "cell_type": "code",
   "execution_count": 39,
   "metadata": {},
   "outputs": [
    {
     "name": "stdout",
     "output_type": "stream",
     "text": [
      "............... Eigenvalue ...........     Damping     Frequency\n",
      "--------[re]---------[im]--------[abs]----------------------[Hz]\n",
      "      -0.004        +1.802      1.802                         0.002         0.287\n",
      "      -0.004        -1.802      1.802                         0.002         0.287\n",
      "      -0.007        +1.247      1.247                         0.005         0.198\n",
      "      -0.007        -1.247      1.247                         0.005         0.198\n",
      "      -0.001        +0.445      0.445                         0.003         0.071\n",
      "      -0.001        -0.445      0.445                         0.003         0.071\n"
     ]
    }
   ],
   "source": [
    "vt.damp(A)"
   ]
  },
  {
   "cell_type": "code",
   "execution_count": 15,
   "metadata": {},
   "outputs": [],
   "source": [
    "_,_,_,_, eigenvalues, eigenvectors = vt.ss_modal(A, B, C, D)"
   ]
  },
  {
   "cell_type": "code",
   "execution_count": 17,
   "metadata": {},
   "outputs": [
    {
     "data": {
      "text/plain": [
       "(6, 6)"
      ]
     },
     "execution_count": 17,
     "metadata": {},
     "output_type": "execute_result"
    }
   ],
   "source": [
    "eigenvectors.shape"
   ]
  },
  {
   "cell_type": "code",
   "execution_count": 91,
   "metadata": {},
   "outputs": [
    {
     "data": {
      "text/plain": [
       "array([[-0.00604609+0.28670057j,  0.00251064+0.46107979j,\n",
       "        -0.29964299+0.00209841j],\n",
       "       [-0.00086643-0.35763496j, -0.00544907+0.20516886j,\n",
       "        -0.53994780+0.00080588j],\n",
       "       [ 0.00150018+0.15917262j, -0.00146149-0.36967363j, -0.67330661+0.j        ]])"
      ]
     },
     "execution_count": 91,
     "metadata": {},
     "output_type": "execute_result"
    }
   ],
   "source": [
    "modes = eigenvectors[0:3,0::2]\n",
    "modes"
   ]
  },
  {
   "cell_type": "code",
   "execution_count": 40,
   "metadata": {},
   "outputs": [
    {
     "data": {
      "text/plain": [
       "array([[ 0.28676431,  0.46108663,  0.29965033],\n",
       "       [ 0.35763601,  0.20524121,  0.5399484 ],\n",
       "       [ 0.15917969,  0.36967652,  0.67330661]])"
      ]
     },
     "execution_count": 40,
     "metadata": {},
     "output_type": "execute_result"
    }
   ],
   "source": [
    "np.abs(modes)"
   ]
  },
  {
   "cell_type": "code",
   "execution_count": 94,
   "metadata": {},
   "outputs": [
    {
     "name": "stdout",
     "output_type": "stream",
     "text": [
      "Need to approximately realify modes first for this method to work\n"
     ]
    },
    {
     "data": {
      "text/plain": [
       "array([[ 0.28676431,  0.46108663,  0.29965033],\n",
       "       [-0.35760856,  0.20508651,  0.53992704],\n",
       "       [ 0.15918577, -0.36961012,  0.67332517]])"
      ]
     },
     "execution_count": 94,
     "metadata": {},
     "output_type": "execute_result"
    }
   ],
   "source": [
    "vt.real_modes(modes)"
   ]
  },
  {
   "cell_type": "code",
   "execution_count": 103,
   "metadata": {},
   "outputs": [
    {
     "name": "stdout",
     "output_type": "stream",
     "text": [
      "(array([[-0.01605398, -0.01034763, -0.00133162],\n",
      "       [ 0.00899601,  0.00396415, -0.00289459],\n",
      "       [ 0.001521  ,  0.00380281,  0.0057284 ]]), array([], dtype=float64), 3, array([ 0.91358924,  0.62557347,  0.48516099]))\n",
      "Need to approximately realify modes first for this method to work\n"
     ]
    },
    {
     "data": {
      "text/plain": [
       "array([[ 0.28676431,  0.46108663,  0.29965033],\n",
       "       [-0.35760856,  0.20508651,  0.53992704],\n",
       "       [ 0.15918577, -0.36961012,  0.67332517]])"
      ]
     },
     "execution_count": 103,
     "metadata": {},
     "output_type": "execute_result"
    }
   ],
   "source": [
    "vt.real_modes(modes)"
   ]
  },
  {
   "cell_type": "code",
   "execution_count": 106,
   "metadata": {
    "scrolled": true
   },
   "outputs": [
    {
     "data": {
      "text/plain": [
       "array([[-1.+0.j,  1.+0.j, -1.+0.j],\n",
       "       [-1.+0.j, -1.+0.j, -1.+0.j],\n",
       "       [ 1.+0.j, -1.+0.j, -1.+0.j]])"
      ]
     },
     "execution_count": 106,
     "metadata": {},
     "output_type": "execute_result"
    }
   ],
   "source": [
    "np.sign(modes)"
   ]
  },
  {
   "cell_type": "code",
   "execution_count": 108,
   "metadata": {},
   "outputs": [],
   "source": [
    "modes2 = np.sign(modes)*modes"
   ]
  },
  {
   "cell_type": "code",
   "execution_count": 109,
   "metadata": {},
   "outputs": [
    {
     "data": {
      "text/plain": [
       "array([[ 0.28676431 -2.34187669e-17j,  0.46108663 -9.54097912e-18j,\n",
       "         0.29965033 +0.00000000e+00j],\n",
       "       [-0.35753719 +8.40655390e-03j, -0.20513615 -6.56614297e-03j,\n",
       "         0.53994020 +2.97531465e-03j],\n",
       "       [-0.15910561 +4.85581278e-03j,  0.36967611 +5.51426224e-04j,\n",
       "         0.67329010 +4.71506774e-03j]])"
      ]
     },
     "execution_count": 109,
     "metadata": {},
     "output_type": "execute_result"
    }
   ],
   "source": [
    "modes2@np.diag(np.exp(np.angle(modes2[0,:])*-1j))"
   ]
  },
  {
   "cell_type": "code",
   "execution_count": 110,
   "metadata": {},
   "outputs": [
    {
     "data": {
      "text/plain": [
       "array([ 0.00604609-0.28670057j,  0.00086643+0.35763496j,\n",
       "        0.00150018+0.15917262j])"
      ]
     },
     "execution_count": 110,
     "metadata": {},
     "output_type": "execute_result"
    }
   ],
   "source": [
    "modes2[:,0]"
   ]
  },
  {
   "cell_type": "code",
   "execution_count": 73,
   "metadata": {},
   "outputs": [],
   "source": [
    "Psi_real = np.imag(modes)\n",
    "Psi_im = np.real(modes)\n",
    "    #return Psi_real+rsolve(Psi_real.T@Psi_real,Psi_im)@Psi_real.T@Psi_im"
   ]
  },
  {
   "cell_type": "code",
   "execution_count": 74,
   "metadata": {},
   "outputs": [
    {
     "data": {
      "text/plain": [
       "array([[ 0.28670057,  0.46107979],\n",
       "       [-0.35763496,  0.20516886],\n",
       "       [ 0.15917262, -0.36967363]])"
      ]
     },
     "execution_count": 74,
     "metadata": {},
     "output_type": "execute_result"
    }
   ],
   "source": [
    "Psi_real"
   ]
  },
  {
   "cell_type": "code",
   "execution_count": 75,
   "metadata": {},
   "outputs": [
    {
     "data": {
      "text/plain": [
       "array([[-0.00604609,  0.00251064],\n",
       "       [-0.00086643, -0.00544907],\n",
       "       [ 0.00150018, -0.00146149]])"
      ]
     },
     "execution_count": 75,
     "metadata": {},
     "output_type": "execute_result"
    }
   ],
   "source": [
    "Psi_im"
   ]
  },
  {
   "cell_type": "code",
   "execution_count": 77,
   "metadata": {
    "scrolled": true
   },
   "outputs": [
    {
     "data": {
      "text/plain": [
       "array([[ 0.28670841,  0.46102096],\n",
       "       [-0.35758158,  0.20515182],\n",
       "       [ 0.15917821, -0.36966028]])"
      ]
     },
     "execution_count": 77,
     "metadata": {},
     "output_type": "execute_result"
    }
   ],
   "source": [
    "Psi_real+vt.rsolve(Psi_real.T@Psi_real,Psi_im)@Psi_real.T@Psi_im"
   ]
  },
  {
   "cell_type": "code",
   "execution_count": 84,
   "metadata": {},
   "outputs": [
    {
     "data": {
      "text/plain": [
       "array([[ 0.28670841,  0.46102096],\n",
       "       [-0.35758158,  0.20515182],\n",
       "       [ 0.15917821, -0.36966028]])"
      ]
     },
     "execution_count": 84,
     "metadata": {},
     "output_type": "execute_result"
    }
   ],
   "source": [
    "Psi_real+Psi_im@la.inv(Psi_real.T@Psi_real)@Psi_real.T@Psi_im"
   ]
  },
  {
   "cell_type": "code",
   "execution_count": 81,
   "metadata": {},
   "outputs": [
    {
     "data": {
      "text/plain": [
       "array([[ 24.76622255, -34.3631277 ],\n",
       "       [ 16.1899377 ,  30.36594179],\n",
       "       [-24.00329442,  -9.06096425]])"
      ]
     },
     "execution_count": 81,
     "metadata": {},
     "output_type": "execute_result"
    }
   ],
   "source": [
    "vt.real_modes(modes)"
   ]
  },
  {
   "cell_type": "code",
   "execution_count": 83,
   "metadata": {},
   "outputs": [
    {
     "data": {
      "text/plain": [
       "array([[-0.16399264,  0.36848811, -0.29550452],\n",
       "       [-0.29550452,  0.16399264,  0.36848811],\n",
       "       [-0.36848811, -0.29550452, -0.16399264]])"
      ]
     },
     "execution_count": 83,
     "metadata": {},
     "output_type": "execute_result"
    }
   ],
   "source": [
    "Psi"
   ]
  },
  {
   "cell_type": "code",
   "execution_count": 80,
   "metadata": {},
   "outputs": [
    {
     "ename": "ValueError",
     "evalue": "Input a needs to be a square matrix.",
     "output_type": "error",
     "traceback": [
      "\u001b[0;31m---------------------------------------------------------------------------\u001b[0m",
      "\u001b[0;31mValueError\u001b[0m                                Traceback (most recent call last)",
      "\u001b[0;32m<ipython-input-80-c1a21eee52ec>\u001b[0m in \u001b[0;36m<module>\u001b[0;34m()\u001b[0m\n\u001b[0;32m----> 1\u001b[0;31m \u001b[0mPsi_real\u001b[0m\u001b[0;34m+\u001b[0m\u001b[0mPsi_im\u001b[0m\u001b[0;34m@\u001b[0m\u001b[0mla\u001b[0m\u001b[0;34m.\u001b[0m\u001b[0msolve\u001b[0m\u001b[0;34m(\u001b[0m\u001b[0mPsi_real\u001b[0m\u001b[0;34m,\u001b[0m\u001b[0mPsi_im\u001b[0m\u001b[0;34m)\u001b[0m\u001b[0;34m\u001b[0m\u001b[0m\n\u001b[0m",
      "\u001b[0;32m~/anaconda3/lib/python3.6/site-packages/scipy/linalg/basic.py\u001b[0m in \u001b[0;36msolve\u001b[0;34m(a, b, sym_pos, lower, overwrite_a, overwrite_b, debug, check_finite, assume_a, transposed)\u001b[0m\n\u001b[1;32m    146\u001b[0m \u001b[0;34m\u001b[0m\u001b[0m\n\u001b[1;32m    147\u001b[0m     \u001b[0;32mif\u001b[0m \u001b[0ma1\u001b[0m\u001b[0;34m.\u001b[0m\u001b[0mshape\u001b[0m\u001b[0;34m[\u001b[0m\u001b[0;36m0\u001b[0m\u001b[0;34m]\u001b[0m \u001b[0;34m!=\u001b[0m \u001b[0ma1\u001b[0m\u001b[0;34m.\u001b[0m\u001b[0mshape\u001b[0m\u001b[0;34m[\u001b[0m\u001b[0;36m1\u001b[0m\u001b[0;34m]\u001b[0m\u001b[0;34m:\u001b[0m\u001b[0;34m\u001b[0m\u001b[0m\n\u001b[0;32m--> 148\u001b[0;31m         \u001b[0;32mraise\u001b[0m \u001b[0mValueError\u001b[0m\u001b[0;34m(\u001b[0m\u001b[0;34m'Input a needs to be a square matrix.'\u001b[0m\u001b[0;34m)\u001b[0m\u001b[0;34m\u001b[0m\u001b[0m\n\u001b[0m\u001b[1;32m    149\u001b[0m \u001b[0;34m\u001b[0m\u001b[0m\n\u001b[1;32m    150\u001b[0m     \u001b[0;32mif\u001b[0m \u001b[0mn\u001b[0m \u001b[0;34m!=\u001b[0m \u001b[0mb1\u001b[0m\u001b[0;34m.\u001b[0m\u001b[0mshape\u001b[0m\u001b[0;34m[\u001b[0m\u001b[0;36m0\u001b[0m\u001b[0;34m]\u001b[0m\u001b[0;34m:\u001b[0m\u001b[0;34m\u001b[0m\u001b[0m\n",
      "\u001b[0;31mValueError\u001b[0m: Input a needs to be a square matrix."
     ]
    }
   ],
   "source": [
    "Psi_real+Psi_im@la.solve(Psi_real,Psi_im)"
   ]
  },
  {
   "cell_type": "code",
   "execution_count": 61,
   "metadata": {},
   "outputs": [
    {
     "data": {
      "text/plain": [
       "array([[-0.16399264,  0.36848811, -0.29550452],\n",
       "       [-0.29550452,  0.16399264,  0.36848811],\n",
       "       [-0.36848811, -0.29550452, -0.16399264]])"
      ]
     },
     "execution_count": 61,
     "metadata": {},
     "output_type": "execute_result"
    }
   ],
   "source": [
    "Psi"
   ]
  },
  {
   "cell_type": "code",
   "execution_count": 112,
   "metadata": {},
   "outputs": [
    {
     "data": {
      "text/plain": [
       "array([-0.00436530+1.80186237j, -0.00436530-1.80186237j,\n",
       "       -0.00679001+1.24698803j, -0.00679001-1.24698803j,\n",
       "       -0.00134469+0.44504754j, -0.00134469-0.44504754j])"
      ]
     },
     "execution_count": 112,
     "metadata": {},
     "output_type": "execute_result"
    }
   ],
   "source": [
    "values, vectors = la.eig(A)\n",
    "values"
   ]
  },
  {
   "cell_type": "code",
   "execution_count": 113,
   "metadata": {},
   "outputs": [
    {
     "data": {
      "text/plain": [
       "array([ 1.80186766,  1.80186766,  1.24700652,  1.24700652,  0.44504957,\n",
       "        0.44504957])"
      ]
     },
     "execution_count": 113,
     "metadata": {},
     "output_type": "execute_result"
    }
   ],
   "source": [
    "np.abs(values)"
   ]
  },
  {
   "cell_type": "code",
   "execution_count": 116,
   "metadata": {},
   "outputs": [
    {
     "data": {
      "text/plain": [
       "array([4, 5, 2, 3, 0, 1])"
      ]
     },
     "execution_count": 116,
     "metadata": {},
     "output_type": "execute_result"
    }
   ],
   "source": [
    "idxp = abs(values).argsort()\n",
    "idxp"
   ]
  },
  {
   "cell_type": "code",
   "execution_count": null,
   "metadata": {},
   "outputs": [],
   "source": []
  },
  {
   "cell_type": "code",
   "execution_count": 34,
   "metadata": {
    "collapsed": true
   },
   "outputs": [
    {
     "data": {
      "text/plain": [
       "array([[-0.00436530+1.80186237j,  0.00000000+0.j        ,\n",
       "         0.00000000+0.j        ,  0.00000000+0.j        ,\n",
       "        -0.00000000-0.j        , -0.00000000-0.j        ],\n",
       "       [ 0.00000000-0.j        , -0.00436530-1.80186237j,\n",
       "         0.00000000-0.j        ,  0.00000000-0.j        ,\n",
       "        -0.00000000+0.j        , -0.00000000+0.j        ],\n",
       "       [-0.00000000+0.j        ,  0.00000000+0.j        ,\n",
       "        -0.00679001+1.24698803j, -0.00000000-0.j        ,\n",
       "         0.00000000-0.j        ,  0.00000000-0.j        ],\n",
       "       [ 0.00000000-0.j        , -0.00000000-0.j        ,\n",
       "        -0.00000000+0.j        , -0.00679001-1.24698803j,\n",
       "         0.00000000+0.j        ,  0.00000000+0.j        ],\n",
       "       [ 0.00000000-0.j        ,  0.00000000+0.j        ,\n",
       "        -0.00000000-0.j        ,  0.00000000-0.j        ,\n",
       "        -0.00134469+0.44504754j, -0.00000000-0.j        ],\n",
       "       [ 0.00000000-0.j        ,  0.00000000+0.j        ,\n",
       "         0.00000000+0.j        , -0.00000000+0.j        ,\n",
       "        -0.00000000+0.j        , -0.00134469-0.44504754j]])"
      ]
     },
     "execution_count": 34,
     "metadata": {},
     "output_type": "execute_result"
    }
   ],
   "source": [
    "A_modal = la.solve(vectors,A)@vectors\n",
    "B_modal = la.solve(vectors,B)\n",
    "C_modal = C@vectors\n",
    "D_modal = D\n",
    "np.round(A_modal, decimals = 10)"
   ]
  },
  {
   "cell_type": "code",
   "execution_count": null,
   "metadata": {},
   "outputs": [],
   "source": []
  },
  {
   "cell_type": "code",
   "execution_count": 28,
   "metadata": {},
   "outputs": [
    {
     "data": {
      "text/plain": [
       "array([[ -4.36530472e-03 +1.80186237e+00j,\n",
       "          3.07913417e-17 +2.22044605e-16j,\n",
       "          2.85857698e-17 +3.52053667e-16j,\n",
       "          1.90854754e-16 +6.34743352e-16j,\n",
       "         -1.16380448e-15 -1.58691002e-17j,\n",
       "         -8.80237450e-16 -6.23939105e-17j],\n",
       "       [  2.86229374e-17 -3.33066907e-16j,\n",
       "         -4.36530472e-03 -1.80186237e+00j,\n",
       "          1.94652036e-16 -6.09137756e-16j,\n",
       "          2.89899478e-17 -3.26479256e-16j,\n",
       "         -8.63601771e-16 +6.31169761e-17j,\n",
       "         -1.18043702e-15 +1.63307549e-17j],\n",
       "       [ -5.56085856e-17 +4.83611880e-16j,\n",
       "          1.05330104e-16 +2.14595436e-16j,\n",
       "         -6.79000763e-03 +1.24698803e+00j,\n",
       "         -2.48499138e-16 -1.11022302e-15j,\n",
       "          4.51207073e-16 -1.38651141e-17j,\n",
       "          7.80470596e-17 -1.11788152e-16j],\n",
       "       [  1.03391168e-16 -3.29407220e-16j,\n",
       "         -5.34275535e-17 -4.24311247e-16j,\n",
       "         -2.39825521e-16 +9.99200722e-16j,\n",
       "         -6.79000763e-03 -1.24698803e+00j,\n",
       "          1.80557131e-16 +1.11171059e-16j,\n",
       "          4.98205993e-16 +1.48074682e-17j],\n",
       "       [  1.37579520e-16 -3.46177483e-17j,\n",
       "          4.93056081e-17 +6.65893140e-17j,\n",
       "         -4.64464025e-17 -3.74440410e-17j,\n",
       "          5.94440043e-16 -2.03390461e-16j,\n",
       "         -1.34468766e-03 +4.45047539e-01j,\n",
       "         -3.18104917e-16 -3.33066907e-16j],\n",
       "       [  4.36021033e-17 -6.66015597e-17j,\n",
       "          1.31876015e-16 +3.46299940e-17j,\n",
       "          5.19835605e-16 +2.06761433e-16j,\n",
       "         -1.21050841e-16 +3.40730689e-17j,\n",
       "         -3.17996497e-16 +4.16333634e-16j,\n",
       "         -1.34468766e-03 -4.45047539e-01j]])"
      ]
     },
     "execution_count": 28,
     "metadata": {},
     "output_type": "execute_result"
    }
   ],
   "source": [
    "la.inv(vectors)@A@vectors"
   ]
  },
  {
   "cell_type": "code",
   "execution_count": 17,
   "metadata": {},
   "outputs": [
    {
     "name": "stdout",
     "output_type": "stream",
     "text": [
      "Help on function so2ss in module vibrationtesting.system:\n",
      "\n",
      "so2ss(M, C, K, Bt, Cd, Cv, Ca)\n",
      "    Convert second order system to state space.\n",
      "    \n",
      "    Given second order linear matrix equation of the form\n",
      "    :math:`M\\\\ddot{x} + C \\\\dot{x} + K x= \\\\tilde{B} u`\n",
      "    and\n",
      "    :math:`y = C_d x + C_v \\\\dot{x} + C_a\\\\ddot{x}`\n",
      "    returns the state space form equations\n",
      "    :math:`\\\\dot{z} = A z + B u`,\n",
      "    :math:`y = C z + D u`\n",
      "    \n",
      "    Parameters\n",
      "    ----------\n",
      "    M, C, K, Bt, Cd, Cv, Cd : float arrays\n",
      "        Mass , damping, stiffness, input, displacement sensor, velocimeter,\n",
      "        and accelerometer matrices\n",
      "    \n",
      "    Returns\n",
      "    -------\n",
      "    A, B, C, D : float arrays\n",
      "        State matrices\n",
      "    \n",
      "    Examples\n",
      "    --------\n",
      "    >>> import vibrationtesting as vt\n",
      "    >>> M = np.array([[2, 1],\n",
      "    ...               [1, 3]])\n",
      "    >>> K = np.array([[2, -1],\n",
      "    ...               [-1, 3]])\n",
      "    >>> C = np.array([[0.01, 0.001],\n",
      "    ...               [0.001, 0.01]])\n",
      "    >>> Bt = np.array([[0], [1]])\n",
      "    >>> Cd = Cv = np.zeros((1,2))\n",
      "    >>> Ca = np.array([[1, 0]])\n",
      "    >>> A, B, Css, D = vt.so2ss(M, C, K, Bt, Cd, Cv, Ca)\n",
      "    >>> print('A: {}'.format(A))\n",
      "    A:  [[ 0.      0.      1.      0.    ]\n",
      "     [ 0.      0.      0.      1.    ]\n",
      "     [-1.4     1.2    -0.0058  0.0014]\n",
      "     [ 0.8    -1.4     0.0016 -0.0038]]\n",
      "    >>> print('B: ', B)\n",
      "    B:  [[ 0. ]\n",
      "     [ 0. ]\n",
      "     [-0.2]\n",
      "     [ 0.4]]\n",
      "    >>> print('C: ', Css)\n",
      "    C:  [[-1.4     1.2    -0.0058  0.0014]]\n",
      "    >>> print('D: ', D)\n",
      "    D:  [[-0.2]]\n",
      "\n"
     ]
    }
   ],
   "source": [
    "help(vt.so2ss)"
   ]
  },
  {
   "cell_type": "code",
   "execution_count": 16,
   "metadata": {},
   "outputs": [
    {
     "name": "stdout",
     "output_type": "stream",
     "text": [
      "Help on function eig in module scipy.linalg.decomp:\n",
      "\n",
      "eig(a, b=None, left=False, right=True, overwrite_a=False, overwrite_b=False, check_finite=True, homogeneous_eigvals=False)\n",
      "    Solve an ordinary or generalized eigenvalue problem of a square matrix.\n",
      "    \n",
      "    Find eigenvalues w and right or left eigenvectors of a general matrix::\n",
      "    \n",
      "        a   vr[:,i] = w[i]        b   vr[:,i]\n",
      "        a.H vl[:,i] = w[i].conj() b.H vl[:,i]\n",
      "    \n",
      "    where ``.H`` is the Hermitian conjugation.\n",
      "    \n",
      "    Parameters\n",
      "    ----------\n",
      "    a : (M, M) array_like\n",
      "        A complex or real matrix whose eigenvalues and eigenvectors\n",
      "        will be computed.\n",
      "    b : (M, M) array_like, optional\n",
      "        Right-hand side matrix in a generalized eigenvalue problem.\n",
      "        Default is None, identity matrix is assumed.\n",
      "    left : bool, optional\n",
      "        Whether to calculate and return left eigenvectors.  Default is False.\n",
      "    right : bool, optional\n",
      "        Whether to calculate and return right eigenvectors.  Default is True.\n",
      "    overwrite_a : bool, optional\n",
      "        Whether to overwrite `a`; may improve performance.  Default is False.\n",
      "    overwrite_b : bool, optional\n",
      "        Whether to overwrite `b`; may improve performance.  Default is False.\n",
      "    check_finite : bool, optional\n",
      "        Whether to check that the input matrices contain only finite numbers.\n",
      "        Disabling may give a performance gain, but may result in problems\n",
      "        (crashes, non-termination) if the inputs do contain infinities or NaNs.\n",
      "    homogeneous_eigvals : bool, optional\n",
      "        If True, return the eigenvalues in homogeneous coordinates.\n",
      "        In this case ``w`` is a (2, M) array so that::\n",
      "    \n",
      "            w[1,i] a vr[:,i] = w[0,i] b vr[:,i]\n",
      "    \n",
      "        Default is False.\n",
      "    \n",
      "    Returns\n",
      "    -------\n",
      "    w : (M,) or (2, M) double or complex ndarray\n",
      "        The eigenvalues, each repeated according to its\n",
      "        multiplicity. The shape is (M,) unless\n",
      "        ``homogeneous_eigvals=True``.\n",
      "    vl : (M, M) double or complex ndarray\n",
      "        The normalized left eigenvector corresponding to the eigenvalue\n",
      "        ``w[i]`` is the column vl[:,i]. Only returned if ``left=True``.\n",
      "    vr : (M, M) double or complex ndarray\n",
      "        The normalized right eigenvector corresponding to the eigenvalue\n",
      "        ``w[i]`` is the column ``vr[:,i]``.  Only returned if ``right=True``.\n",
      "    \n",
      "    Raises\n",
      "    ------\n",
      "    LinAlgError\n",
      "        If eigenvalue computation does not converge.\n",
      "    \n",
      "    See Also\n",
      "    --------\n",
      "    eigvals : eigenvalues of general arrays\n",
      "    eigh : Eigenvalues and right eigenvectors for symmetric/Hermitian arrays.\n",
      "    eig_banded : eigenvalues and right eigenvectors for symmetric/Hermitian\n",
      "        band matrices\n",
      "    eigh_tridiagonal : eigenvalues and right eiegenvectors for\n",
      "        symmetric/Hermitian tridiagonal matrices\n",
      "\n"
     ]
    }
   ],
   "source": [
    "help(la.eig)"
   ]
  },
  {
   "cell_type": "code",
   "execution_count": 15,
   "metadata": {},
   "outputs": [
    {
     "data": {
      "text/plain": [
       "2.2461881740423952"
      ]
     },
     "execution_count": 15,
     "metadata": {},
     "output_type": "execute_result"
    }
   ],
   "source": [
    ".604/.2689"
   ]
  },
  {
   "cell_type": "code",
   "execution_count": 16,
   "metadata": {},
   "outputs": [
    {
     "data": {
      "text/plain": [
       "array([ 0.44504187,  1.2469796 ,  1.80193774])"
      ]
     },
     "execution_count": 16,
     "metadata": {},
     "output_type": "execute_result"
    }
   ],
   "source": [
    "omega"
   ]
  },
  {
   "cell_type": "code",
   "execution_count": 18,
   "metadata": {},
   "outputs": [
    {
     "data": {
      "text/plain": [
       "array([ 0.4472136 ,  1.41421356])"
      ]
     },
     "execution_count": 18,
     "metadata": {},
     "output_type": "execute_result"
    }
   ],
   "source": [
    "omega_red, _, Psi_red = vt.sos_modal(Mred, Kred)\n",
    "omega_red\n"
   ]
  },
  {
   "cell_type": "code",
   "execution_count": 33,
   "metadata": {},
   "outputs": [
    {
     "data": {
      "text/plain": [
       "array([2])"
      ]
     },
     "execution_count": 33,
     "metadata": {},
     "output_type": "execute_result"
    }
   ],
   "source": [
    "master"
   ]
  },
  {
   "cell_type": "code",
   "execution_count": 32,
   "metadata": {},
   "outputs": [
    {
     "data": {
      "text/plain": [
       "[0, 1]"
      ]
     },
     "execution_count": 32,
     "metadata": {},
     "output_type": "execute_result"
    }
   ],
   "source": [
    "truncated_dofs"
   ]
  },
  {
   "cell_type": "markdown",
   "metadata": {},
   "source": [
    "list((2,3))"
   ]
  },
  {
   "cell_type": "code",
   "execution_count": 12,
   "metadata": {},
   "outputs": [
    {
     "data": {
      "text/plain": [
       "2"
      ]
     },
     "execution_count": 12,
     "metadata": {},
     "output_type": "execute_result"
    }
   ],
   "source": [
    "np.array(list((2,3))).size"
   ]
  },
  {
   "cell_type": "code",
   "execution_count": 2,
   "metadata": {
    "scrolled": true
   },
   "outputs": [
    {
     "data": {
      "text/plain": [
       "array([[1, 2, 3],\n",
       "       [4, 5, 6]])"
      ]
     },
     "execution_count": 2,
     "metadata": {},
     "output_type": "execute_result"
    }
   ],
   "source": [
    "a = np.array([[1, 2, 3],[4, 5, 6]])\n",
    "a"
   ]
  },
  {
   "cell_type": "code",
   "execution_count": 3,
   "metadata": {},
   "outputs": [
    {
     "data": {
      "text/plain": [
       "array([[1, 2],\n",
       "       [3, 4],\n",
       "       [5, 6]])"
      ]
     },
     "execution_count": 3,
     "metadata": {},
     "output_type": "execute_result"
    }
   ],
   "source": [
    "a.reshape(3, 2, order ='C')"
   ]
  },
  {
   "cell_type": "code",
   "execution_count": null,
   "metadata": {},
   "outputs": [],
   "source": [
    "sp.swapaxes(a,1,0)"
   ]
  },
  {
   "cell_type": "code",
   "execution_count": null,
   "metadata": {},
   "outputs": [],
   "source": [
    "sample_freq = 1e3\n",
    "tfinal = 5\n",
    "fs = 100\n",
    "A = 10\n",
    "freq = 5\n",
    "noise_power = 0.001 * sample_freq / 2\n",
    "time = time = np.linspace(0, tfinal, round(tfinal*sample_freq)).reshape(1,-1)\n",
    "xsin = A*np.sin(2*np.pi*freq*time)\n",
    "xcos = A*np.cos(2*np.pi*freq*time)\n",
    "x=np.vstack((xsin,xcos)) # assembling individual records. vstack\n",
    "xw=vt.hanning(x)*x\n",
    "plt.subplot(2, 1, 1)\n",
    "plt.plot(time.T,x.T)\n",
    "plt.ylim([-20, 20])\n",
    "plt.title('Unwindowed data, 2 records.')\n",
    "plt.ylabel('$x(t)$')\n",
    "plt.subplot(2, 1, 2)\n",
    "plt.title('Original (raw) data.')\n",
    "plt.plot(time.T,xw.T,time.T,vt.hanning(x).T*A,'--',time.T,-vt.hanning(x).T*A,'--')\n",
    "plt.ylabel('Hanning windowed $x(t)$')\n",
    "plt.xlabel('time')\n",
    "plt.title('Effect of window. Note the scaling to conserve ASD amplitude')\n",
    "plt.show()"
   ]
  },
  {
   "cell_type": "code",
   "execution_count": 4,
   "metadata": {},
   "outputs": [
    {
     "name": "stdout",
     "output_type": "stream",
     "text": [
      "length = 2\n",
      "(2, 5000)\n"
     ]
    }
   ],
   "source": [
    "sample_freq = 1e3\n",
    "tfinal = 5\n",
    "fs = 100\n",
    "A = 10\n",
    "freq = 5\n",
    "noise_power = 0.001 * sample_freq / 2\n",
    "time = time = np.linspace(0, tfinal, round(tfinal*sample_freq)).reshape(1,-1)\n",
    "xsin = A*np.sin(2*np.pi*freq*time)\n",
    "xcos = A*np.cos(2*np.pi*freq*time)\n",
    "x=np.vstack((xsin,xcos)) # assembling individual records. vstack\n",
    "xw=vt.hanning(x)*x"
   ]
  },
  {
   "cell_type": "code",
   "execution_count": null,
   "metadata": {},
   "outputs": [],
   "source": [
    "plt.plot(time.T,(vt.hanning(x)*x).T)#,time.T,vt.hanning(x).T*A,'--',time.T,-vt.hanning(x).T*A,'--')\n"
   ]
  },
  {
   "cell_type": "code",
   "execution_count": null,
   "metadata": {
    "scrolled": true
   },
   "outputs": [],
   "source": [
    "x.shape"
   ]
  },
  {
   "cell_type": "code",
   "execution_count": null,
   "metadata": {},
   "outputs": [],
   "source": [
    "xw.shape"
   ]
  },
  {
   "cell_type": "code",
   "execution_count": 6,
   "metadata": {},
   "outputs": [
    {
     "data": {
      "text/plain": [
       "[<matplotlib.lines.Line2D at 0x1125e90b8>,\n",
       " <matplotlib.lines.Line2D at 0x1125e92b0>]"
      ]
     },
     "execution_count": 6,
     "metadata": {},
     "output_type": "execute_result"
    },
    {
     "data": {
      "image/png": "[encoded data removed]",
      "text/plain": [
       "<matplotlib.figure.Figure at 0x1122a69b0>"
      ]
     },
     "metadata": {},
     "output_type": "display_data"
    }
   ],
   "source": [
    "plt.plot(time.T,xw.T)"
   ]
  },
  {
   "cell_type": "code",
   "execution_count": null,
   "metadata": {},
   "outputs": [],
   "source": [
    "x"
   ]
  },
  {
   "cell_type": "code",
   "execution_count": null,
   "metadata": {},
   "outputs": [],
   "source": [
    "import numpy as np\n",
    "import vibrationtesting as vt\n",
    "import matplotlib.pyplot as plt\n",
    "sample_freq = 1e3\n",
    "tfinal = 5\n",
    "fs = 100\n",
    "A = 10\n",
    "freq = 5\n",
    "noise_power = 0.001 * sample_freq / 2\n",
    "time = np.reshape(np.arange(0, tfinal, 1/sample_freq),(1,-1))\n",
    "xsin = A*np.sin(2*np.pi*freq*time)\n",
    "xcos = A*np.cos(2*np.pi*freq*time)\n",
    "    # assembling individual records. vstack assembles channels\n",
    "x=np.dstack((xsin,xcos)) # assembling individual records. vstack\n",
    "xw=vt.hanning(x)*x"
   ]
  },
  {
   "cell_type": "code",
   "execution_count": null,
   "metadata": {},
   "outputs": [],
   "source": [
    "vt.hanning(x[0,:,:])"
   ]
  },
  {
   "cell_type": "code",
   "execution_count": null,
   "metadata": {},
   "outputs": [],
   "source": [
    "help(vt.hanning)"
   ]
  },
  {
   "cell_type": "code",
   "execution_count": 36,
   "metadata": {},
   "outputs": [],
   "source": [
    "def slice(Matrix, a, b):\n",
    "    '''slice a matrix properly- like Matlab'''\n",
    "    return Matrix[a].T[b].T"
   ]
  },
  {
   "cell_type": "code",
   "execution_count": 6,
   "metadata": {},
   "outputs": [
    {
     "data": {
      "text/plain": [
       "array([[ 0.79632588, -1.4744288 , -0.64921021, -0.61019462],\n",
       "       [ 0.33220674, -0.35174344, -1.34019153, -0.8097337 ],\n",
       "       [ 0.17310565,  0.91467373,  1.66729138, -0.92529709],\n",
       "       [-0.37017079,  0.35615109, -0.97547372, -1.9194807 ]])"
      ]
     },
     "execution_count": 6,
     "metadata": {},
     "output_type": "execute_result"
    }
   ],
   "source": [
    "M = np.random.randn(4,4)\n",
    "a = [1, 3]\n",
    "b = [2, 0]\n",
    "M"
   ]
  },
  {
   "cell_type": "code",
   "execution_count": 25,
   "metadata": {},
   "outputs": [
    {
     "name": "stdout",
     "output_type": "stream",
     "text": [
      "5.56 µs ± 213 ns per loop (mean ± std. dev. of 7 runs, 100000 loops each)\n"
     ]
    }
   ],
   "source": [
    "%%timeit\n",
    "M[np.array(a).reshape(-1,1) ,b]"
   ]
  },
  {
   "cell_type": "code",
   "execution_count": 26,
   "metadata": {},
   "outputs": [
    {
     "name": "stdout",
     "output_type": "stream",
     "text": [
      "6.97 µs ± 242 ns per loop (mean ± std. dev. of 7 runs, 100000 loops each)\n"
     ]
    }
   ],
   "source": [
    "%%timeit\n",
    "M[a].T[b].T"
   ]
  },
  {
   "cell_type": "code",
   "execution_count": 28,
   "metadata": {},
   "outputs": [
    {
     "name": "stdout",
     "output_type": "stream",
     "text": [
      "8.78 µs ± 137 ns per loop (mean ± std. dev. of 7 runs, 100000 loops each)\n"
     ]
    }
   ],
   "source": [
    "%%timeit\n",
    "vt.slice(M,a,b)"
   ]
  },
  {
   "cell_type": "code",
   "execution_count": 20,
   "metadata": {
    "collapsed": true
   },
   "outputs": [
    {
     "name": "stdout",
     "output_type": "stream",
     "text": [
      "Help on function slice in module vibrationtesting.system:\n",
      "\n",
      "slice(Matrix, a, b)\n",
      "    slice a matrix properly- like Octave\n",
      "    \n",
      "    Addresses the confounding inconsistency that `M[a,b]` acts differently if\n",
      "    `a` and `b` are the same length or different lengths.\n",
      "    \n",
      "    Parameters\n",
      "    ----------\n",
      "    Matrix : float array\n",
      "        Arbitrary array\n",
      "    a, b : int lists or arrays\n",
      "        list of rows and columns to be selected from `Matrix`\n",
      "    \n",
      "    Returns\n",
      "    -------\n",
      "    Returns matrix\n",
      "\n"
     ]
    },
    {
     "name": "stderr",
     "output_type": "stream",
     "text": [
      "[autoreload of vibrationtesting.system failed: Traceback (most recent call last):\n",
      "  File \"/Users/jslater/anaconda3/lib/python3.6/site-packages/IPython/extensions/autoreload.py\", line 246, in check\n",
      "    superreload(m, reload, self.old_objects)\n",
      "  File \"/Users/jslater/anaconda3/lib/python3.6/site-packages/IPython/extensions/autoreload.py\", line 369, in superreload\n",
      "    module = reload(module)\n",
      "  File \"/Users/jslater/anaconda3/lib/python3.6/imp.py\", line 315, in reload\n",
      "    return importlib.reload(module)\n",
      "  File \"/Users/jslater/anaconda3/lib/python3.6/importlib/__init__.py\", line 166, in reload\n",
      "    _bootstrap._exec(spec, module)\n",
      "  File \"<frozen importlib._bootstrap>\", line 618, in _exec\n",
      "  File \"<frozen importlib._bootstrap_external>\", line 674, in exec_module\n",
      "  File \"<frozen importlib._bootstrap_external>\", line 781, in get_code\n",
      "  File \"<frozen importlib._bootstrap_external>\", line 741, in source_to_code\n",
      "  File \"<frozen importlib._bootstrap>\", line 219, in _call_with_frames_removed\n",
      "  File \"/Users/jslater/Documents/python-dev/vibrationtesting/vibrationtesting/system.py\", line 741\n",
      "    return M[np.array(a).reshape(-1,1) ,b]reshape(a.shape[0],b.shape[0])\n",
      "                                                ^\n",
      "SyntaxError: invalid syntax\n",
      "]\n"
     ]
    }
   ],
   "source": [
    "help(vt.slice)"
   ]
  },
  {
   "cell_type": "code",
   "execution_count": 30,
   "metadata": {},
   "outputs": [
    {
     "ename": "NameError",
     "evalue": "name 'K' is not defined",
     "output_type": "error",
     "traceback": [
      "\u001b[0;31m---------------------------------------------------------------------------\u001b[0m",
      "\u001b[0;31mNameError\u001b[0m                                 Traceback (most recent call last)",
      "\u001b[0;32m<ipython-input-30-1c9f29041b00>\u001b[0m in \u001b[0;36m<module>\u001b[0;34m()\u001b[0m\n\u001b[0;32m----> 1\u001b[0;31m \u001b[0mMred\u001b[0m\u001b[0;34m,\u001b[0m \u001b[0mKred\u001b[0m\u001b[0;34m,\u001b[0m \u001b[0mT\u001b[0m\u001b[0;34m,\u001b[0m \u001b[0mmaster\u001b[0m\u001b[0;34m,\u001b[0m \u001b[0mtruncated_dofs\u001b[0m \u001b[0;34m=\u001b[0m \u001b[0mvt\u001b[0m\u001b[0;34m.\u001b[0m\u001b[0mguyan\u001b[0m\u001b[0;34m(\u001b[0m\u001b[0mM\u001b[0m\u001b[0;34m,\u001b[0m \u001b[0mK\u001b[0m\u001b[0;34m)\u001b[0m\u001b[0;34m\u001b[0m\u001b[0m\n\u001b[0m",
      "\u001b[0;31mNameError\u001b[0m: name 'K' is not defined"
     ]
    }
   ],
   "source": [
    "Mred, Kred, T, master, truncated_dofs = vt.guyan(M, K)"
   ]
  },
  {
   "cell_type": "code",
   "execution_count": 7,
   "metadata": {},
   "outputs": [],
   "source": [
    "\n",
    "\n",
    "A = np.array([[4, 0, 0],\n",
    "            [0, 4, -1],\n",
    "                   [0, -1, 4]])\n",
    "\n",
    "B = np.array([[8, -4, 0],\n",
    "                   [-4, 8, -4],\n",
    "                   [0, -4, 4]])"
   ]
  },
  {
   "cell_type": "code",
   "execution_count": 9,
   "metadata": {},
   "outputs": [
    {
     "data": {
      "text/plain": [
       "array([[ 32, -16,   0],\n",
       "       [-16,  36, -20],\n",
       "       [  4, -24,  20]])"
      ]
     },
     "execution_count": 9,
     "metadata": {},
     "output_type": "execute_result"
    }
   ],
   "source": [
    "\n",
    "C = A@B\n",
    "C"
   ]
  },
  {
   "cell_type": "code",
   "execution_count": 23,
   "metadata": {},
   "outputs": [
    {
     "data": {
      "text/plain": [
       "array([[ 4,  0,  0],\n",
       "       [ 0,  4, -1],\n",
       "       [ 0, -1,  4]])"
      ]
     },
     "execution_count": 23,
     "metadata": {},
     "output_type": "execute_result"
    }
   ],
   "source": [
    "A"
   ]
  },
  {
   "cell_type": "code",
   "execution_count": 24,
   "metadata": {},
   "outputs": [
    {
     "data": {
      "text/plain": [
       "array([[ 8, -4,  0],\n",
       "       [-4,  8, -4],\n",
       "       [ 0, -4,  4]])"
      ]
     },
     "execution_count": 24,
     "metadata": {},
     "output_type": "execute_result"
    }
   ],
   "source": [
    "B"
   ]
  },
  {
   "cell_type": "code",
   "execution_count": 25,
   "metadata": {},
   "outputs": [
    {
     "data": {
      "text/plain": [
       "array([[ 32, -16,   0],\n",
       "       [-16,  36, -20],\n",
       "       [  4, -24,  20]])"
      ]
     },
     "execution_count": 25,
     "metadata": {},
     "output_type": "execute_result"
    }
   ],
   "source": [
    "C"
   ]
  },
  {
   "cell_type": "code",
   "execution_count": 46,
   "metadata": {},
   "outputs": [
    {
     "data": {
      "text/plain": [
       "array([[ 4.,  0.,  0.],\n",
       "       [-0.,  4., -1.],\n",
       "       [ 0., -1.,  4.]])"
      ]
     },
     "execution_count": 46,
     "metadata": {},
     "output_type": "execute_result"
    }
   ],
   "source": [
    "def rsolve(B, C):\n",
    "    '''Solve right Gauss elimination equation\n",
    "    \n",
    "    Given :math:`A B  = C` return :math:`A = C B^{-1}`\n",
    "    \n",
    "    Parameters\n",
    "    ----------\n",
    "    B, C : float arrays\n",
    "    \n",
    "    Returns\n",
    "    -------\n",
    "    A : float array\n",
    "    \n",
    "    Examples\n",
    "    --------\n",
    "    >>> import numpy as np\n",
    "    >>> B = np.array([[4, 0, 0],\n",
    "    ...               [0, 4, -1],\n",
    "    ...               [0, -1, 4]])\n",
    "    >>> C = array([[ 32, -16,   0],\n",
    "    ...            [-16,  36, -20],\n",
    "    ...            [  4, -24,  20]])\n",
    "    >>> A = vt.rsolve(B, C)\n",
    "    >>> print(np.round(rsolve(B, C)))\n",
    "    '''\n",
    "    return la.solve(B.T, C.T).T\n",
    "np.round(rsolve(B, C))"
   ]
  },
  {
   "cell_type": "code",
   "execution_count": 43,
   "metadata": {},
   "outputs": [
    {
     "name": "stdout",
     "output_type": "stream",
     "text": [
      "[[  4.00e+00   0.00e+00   0.00e+00]\n",
      " [ -6.66e-16   4.00e+00  -1.00e+00]\n",
      " [  0.00e+00  -1.00e+00   4.00e+00]]\n"
     ]
    }
   ],
   "source": [
    "np.set_printoptions(precision=2)\n",
    "print(rsolve(B, C))"
   ]
  },
  {
   "cell_type": "code",
   "execution_count": 45,
   "metadata": {},
   "outputs": [
    {
     "data": {
      "text/plain": [
       "array([[ 4.,  0.,  0.],\n",
       "       [-0.,  4., -1.],\n",
       "       [ 0., -1.,  4.]])"
      ]
     },
     "execution_count": 45,
     "metadata": {},
     "output_type": "execute_result"
    }
   ],
   "source": [
    "np.round(rsolve(B, C))"
   ]
  },
  {
   "cell_type": "code",
   "execution_count": 10,
   "metadata": {},
   "outputs": [
    {
     "data": {
      "text/plain": [
       "array([[ 4,  0,  0],\n",
       "       [ 0,  4, -1],\n",
       "       [ 0, -1,  4]])"
      ]
     },
     "execution_count": 10,
     "metadata": {},
     "output_type": "execute_result"
    }
   ],
   "source": [
    "A"
   ]
  },
  {
   "cell_type": "code",
   "execution_count": 11,
   "metadata": {},
   "outputs": [
    {
     "data": {
      "text/plain": [
       "array([[ 8, -4,  0],\n",
       "       [-4,  8, -4],\n",
       "       [ 0, -4,  4]])"
      ]
     },
     "execution_count": 11,
     "metadata": {},
     "output_type": "execute_result"
    }
   ],
   "source": [
    "B"
   ]
  },
  {
   "cell_type": "code",
   "execution_count": 12,
   "metadata": {},
   "outputs": [
    {
     "data": {
      "text/plain": [
       "array([[ 32, -16,   0],\n",
       "       [-16,  36, -20],\n",
       "       [  4, -24,  20]])"
      ]
     },
     "execution_count": 12,
     "metadata": {},
     "output_type": "execute_result"
    }
   ],
   "source": [
    "C"
   ]
  },
  {
   "cell_type": "code",
   "execution_count": 13,
   "metadata": {},
   "outputs": [
    {
     "data": {
      "text/plain": [
       "array([[  4.00000000e+00,   0.00000000e+00,   0.00000000e+00],\n",
       "       [ -6.66133815e-16,   4.00000000e+00,  -1.00000000e+00],\n",
       "       [  0.00000000e+00,  -1.00000000e+00,   4.00000000e+00]])"
      ]
     },
     "execution_count": 13,
     "metadata": {},
     "output_type": "execute_result"
    }
   ],
   "source": [
    "vt.rsolve(B, C)"
   ]
  },
  {
   "cell_type": "code",
   "execution_count": 85,
   "metadata": {},
   "outputs": [
    {
     "data": {
      "text/plain": [
       "array([[-1.+0.j,  1.+0.j],\n",
       "       [-1.+0.j, -1.+0.j],\n",
       "       [ 1.+0.j, -1.+0.j]])"
      ]
     },
     "execution_count": 85,
     "metadata": {},
     "output_type": "execute_result"
    }
   ],
   "source": [
    "np.sign(modes)"
   ]
  },
  {
   "cell_type": "code",
   "execution_count": 92,
   "metadata": {},
   "outputs": [
    {
     "data": {
      "text/plain": [
       "array([[-0.00604609+0.28670057j,  0.00251064+0.46107979j,\n",
       "        -0.29964299+0.00209841j],\n",
       "       [-0.00086643-0.35763496j, -0.00544907+0.20516886j,\n",
       "        -0.53994780+0.00080588j],\n",
       "       [ 0.00150018+0.15917262j, -0.00146149-0.36967363j, -0.67330661+0.j        ]])"
      ]
     },
     "execution_count": 92,
     "metadata": {},
     "output_type": "execute_result"
    }
   ],
   "source": [
    "modes"
   ]
  },
  {
   "cell_type": "code",
   "execution_count": 89,
   "metadata": {},
   "outputs": [
    {
     "data": {
      "text/plain": [
       "(0.70710678118654757+0.70710678118654746j)"
      ]
     },
     "execution_count": 89,
     "metadata": {},
     "output_type": "execute_result"
    }
   ],
   "source": [
    "np.exp(np.angle(1+1j)*1j)"
   ]
  },
  {
   "cell_type": "code",
   "execution_count": 93,
   "metadata": {},
   "outputs": [
    {
     "data": {
      "text/plain": [
       "array([[ 0.28676431 +1.21430643e-17j,  0.46108663 -9.54097912e-18j,\n",
       "         0.29965033 -1.82145965e-17j],\n",
       "       [-0.35753719 +8.40655390e-03j,  0.20513615 +6.56614297e-03j,\n",
       "         0.53994020 +2.97531465e-03j],\n",
       "       [ 0.15910561 -4.85581278e-03j, -0.36967611 -5.51426224e-04j,\n",
       "         0.67329010 +4.71506774e-03j]])"
      ]
     },
     "execution_count": 93,
     "metadata": {},
     "output_type": "execute_result"
    }
   ],
   "source": [
    "modes@np.diag(np.exp(np.angle(modes[0,:])*-1j))"
   ]
  },
  {
   "cell_type": "code",
   "execution_count": null,
   "metadata": {},
   "outputs": [],
   "source": []
  }
 ],
 "metadata": {
  "hide_input": false,
  "kernelspec": {
   "display_name": "Python 3",
   "language": "python",
   "name": "python3"
  },
  "latex_envs": {
   "bibliofile": "biblio.bib",
   "cite_by": "apalike",
   "current_citInitial": 1,
   "eqLabelWithNumbers": true,
   "eqNumInitial": 0
  },
  "toc": {
   "nav_menu": {},
   "number_sections": true,
   "sideBar": true,
   "skip_h1_title": false,
   "toc_cell": false,
   "toc_position": {},
   "toc_section_display": "block",
   "toc_window_display": false
  },
  "varInspector": {
   "cols": {
    "lenName": 16,
    "lenType": 16,
    "lenVar": 40
   },
   "kernels_config": {
    "python": {
     "delete_cmd_postfix": "",
     "delete_cmd_prefix": "del ",
     "library": "var_list.py",
     "varRefreshCmd": "print(var_dic_list())"
    },
    "r": {
     "delete_cmd_postfix": ") ",
     "delete_cmd_prefix": "rm(",
     "library": "var_list.r",
     "varRefreshCmd": "cat(var_dic_list()) "
    }
   },
   "types_to_exclude": [
    "module",
    "function",
    "builtin_function_or_method",
    "instance",
    "_Feature"
   ],
   "window_display": false
  }
 },
 "nbformat": 4,
 "nbformat_minor": 1
}
