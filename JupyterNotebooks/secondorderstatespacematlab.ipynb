{
 "cells": [
  {
   "cell_type": "code",
   "execution_count": 16,
   "metadata": {
    "collapsed": false
   },
   "outputs": [
    {
     "name": "stdout",
     "output_type": "stream",
     "text": [
      "m =\n",
      "     2\n",
      "c =\n",
      "    0.0100\n",
      "k =\n",
      "   100\n",
      "f =\n",
      "     7\n",
      "A =\n",
      "         0    1.0000\n",
      "  -50.0000   -0.0050\n",
      "B =\n",
      "         0\n",
      "    3.5000\n",
      "C =\n",
      "     1     0\n",
      "D =\n",
      "     0\n",
      "v =\n",
      "  -0.0000 - 0.1400i  -0.0000 + 0.1400i\n",
      "   0.9901 + 0.0000i   0.9901 + 0.0000i\n",
      "d =\n",
      "  -0.0025 + 7.0711i   0.0000 + 0.0000i\n",
      "   0.0000 + 0.0000i  -0.0025 - 7.0711i\n",
      "Bm =\n",
      "   1.7674 + 0.0006i\n",
      "   1.7674 - 0.0006i\n",
      "Cm =\n",
      "  -0.0000 - 0.1400i  -0.0000 + 0.1400i\n",
      "Am =\n",
      "  -0.0025 + 7.0711i  -0.0000 + 0.0000i\n",
      "  -0.0000 - 0.0000i  -0.0025 - 7.0711i\n",
      "lam1 =\n",
      "  -0.0025 + 7.0711i\n",
      "ans =\n",
      "  -0.0025 + 7.0711i\n",
      "  -0.0025 - 7.0711i\n",
      "ans =\n",
      "   0.0000 + 3.5707i   0.5050 + 0.0002i\n",
      "   0.0000 - 3.5707i   0.5050 - 0.0002i\n",
      "P2 =\n",
      "   0.0025 + 7.0711i   1.0000 + 0.0000i\n",
      "  -0.0025 - 7.0711i   1.0000 - 0.0007i\n",
      "Aso =\n",
      "   0.0000 + 0.0000i   1.0000 - 0.0000i\n",
      " -50.0000 - 0.0000i  -0.0050 - 0.0000i\n",
      "Bso =\n",
      "  -0.0000 + 0.0000i\n",
      "   1.7674 + 0.0006i\n",
      "Cso =\n",
      "   1.9803 - 0.0007i   0.0000 + 0.0000i\n"
     ]
    }
   ],
   "source": [
    "m = 2, c = .01, k = 100                                                    \n",
    "%roots([m c k])                                                             \n",
    "f = 7                                                                      \n",
    "A = [0 1;-m\\k -m\\c]                                                        \n",
    "B = [0;f/m]                                                                   \n",
    "C = [1 0]\n",
    "D=0                                                        \n",
    "[v,d]=eig(A)                                                               \n",
    "P = v;Bm = P\\B, Cm = C*P                                                                                                                     \n",
    "Am=v\\A*v\n",
    "lam1=d(1,1)\n",
    "roots([m c k]) \n",
    "inv(v)\n",
    "P2=[-conj(lam1) 1;conj(lam1) exp(j*(pi-2*angle(lam1)))]\n",
    "Aso = P2\\Am*P2\n",
    "Bso = P2\\Bm\n",
    "Cso = Cm * P2"
   ]
  },
  {
   "cell_type": "code",
   "execution_count": null,
   "metadata": {
    "collapsed": true
   },
   "outputs": [],
   "source": []
  }
 ],
 "metadata": {
  "hide_input": false,
  "kernelspec": {
   "display_name": "Matlab",
   "language": "matlab",
   "name": "matlab"
  },
  "language_info": {
   "codemirror_mode": "octave",
   "file_extension": ".m",
   "help_links": [
    {
     "text": "MetaKernel Magics",
     "url": "https://github.com/calysto/metakernel/blob/master/metakernel/magics/README.md"
    }
   ],
   "mimetype": "text/x-matlab",
   "name": "matlab",
   "version": "0.8.0"
  },
  "latex_envs": {
   "bibliofile": "biblio.bib",
   "cite_by": "apalike",
   "current_citInitial": 1,
   "eqLabelWithNumbers": true,
   "eqNumInitial": 0
  }
 },
 "nbformat": 4,
 "nbformat_minor": 0
}
