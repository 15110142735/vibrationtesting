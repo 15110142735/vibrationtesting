{
 "cells": [
  {
   "cell_type": "code",
   "execution_count": 2,
   "metadata": {
    "collapsed": false
   },
   "outputs": [
    {
     "name": "stdout",
     "output_type": "stream",
     "text": [
      "Doxyfile             README.md            VTTools.ipynb        \u001b[1m\u001b[34m__pycache__\u001b[m\u001b[m/         index.rst            sigp.py              test.py\r\n",
      "Makefile             Test_Notebook.ipynb  __init__.py          conf.py              modules.rst          sigp.pyold           vttools.rst\r\n"
     ]
    }
   ],
   "source": [
    "%matplotlib inline\n",
    "%ls"
   ]
  },
  {
   "cell_type": "code",
   "execution_count": 3,
   "metadata": {
    "collapsed": false
   },
   "outputs": [
    {
     "data": {
      "text/plain": [
       "'/Users/jslater/Documents/MyMath/python/vibrationtesting'"
      ]
     },
     "execution_count": 3,
     "metadata": {},
     "output_type": "execute_result"
    }
   ],
   "source": [
    "pwd\n"
   ]
  },
  {
   "cell_type": "code",
   "execution_count": 4,
   "metadata": {
    "collapsed": false
   },
   "outputs": [],
   "source": [
    "import sigp\n"
   ]
  },
  {
   "cell_type": "code",
   "execution_count": 5,
   "metadata": {
    "collapsed": false
   },
   "outputs": [
    {
     "data": {
      "text/plain": [
       "<module 'sigp' from '/Users/jslater/Documents/MyMath/python/vibrationtesting/sigp.py'>"
      ]
     },
     "execution_count": 5,
     "metadata": {},
     "output_type": "execute_result"
    }
   ],
   "source": [
    "sigp"
   ]
  },
  {
   "cell_type": "code",
   "execution_count": 6,
   "metadata": {
    "collapsed": false
   },
   "outputs": [
    {
     "name": "stdout",
     "output_type": "stream",
     "text": [
      "**********************************************************************\n",
      "File \"/Users/jslater/Documents/MyMath/python/vibrationtesting/sigp.py\", line 529, in NoName\n",
      "Failed example:\n",
      "    for i in np.arange(5): #was 2*50\n",
      "        u = np.random.normal(scale=np.sqrt(noise_power), size=tin.shape)\n",
      "        #print(u)\n",
      "        t, yout, xout = ctrl.forced_response(sys, tin, u,rtol=1e-12,transpose=True)\n",
      "        if 'Yout' in locals():\n",
      "            Yout=np.dstack((Yout,yout+nr*np.random.normal(scale=.050*np.std(yout[0,:]), size=yout.shape)))\n",
      "            Ucomb=np.dstack((Ucomb,u+(1-nr)*np.random.normal(scale=.05*np.std(u), size=u.shape)))\n",
      "        else:\n",
      "            Yout=yout+nr*np.random.normal(scale=.050*np.std(yout[0,:]), size=yout.shape) # 5% half the noise on output as on input\n",
      "            Ucomb=u+(1-nr)*np.random.normal(scale=.05*np.std(u), size=u.shape)#(1, len(tin))) #10% noise signal on input\n",
      "Exception raised:\n",
      "    Traceback (most recent call last):\n",
      "      File \"/opt/local/Library/Frameworks/Python.framework/Versions/3.5/lib/python3.5/doctest.py\", line 1320, in __run\n",
      "        compileflags, 1), test.globs)\n",
      "      File \"<doctest NoName[13]>\", line 9, in <module>\n",
      "        Yout=yout+nr*np.random.normal(scale=.050*np.std(yout[0,:]), size=yout.shape) # 5% half the noise on output as on input\n",
      "      File \"mtrand.pyx\", line 1572, in mtrand.RandomState.normal (numpy/random/mtrand/mtrand.c:14527)\n",
      "    ValueError: scale <= 0\n",
      "**********************************************************************\n",
      "File \"/Users/jslater/Documents/MyMath/python/vibrationtesting/sigp.py\", line 539, in NoName\n",
      "Failed example:\n",
      "    plt.plot(tin,Yout[:,0,:])\n",
      "Exception raised:\n",
      "    Traceback (most recent call last):\n",
      "      File \"/opt/local/Library/Frameworks/Python.framework/Versions/3.5/lib/python3.5/doctest.py\", line 1320, in __run\n",
      "        compileflags, 1), test.globs)\n",
      "      File \"<doctest NoName[14]>\", line 1, in <module>\n",
      "        plt.plot(tin,Yout[:,0,:])\n",
      "    NameError: name 'Yout' is not defined\n",
      "**********************************************************************\n",
      "File \"/Users/jslater/Documents/MyMath/python/vibrationtesting/sigp.py\", line 540, in NoName\n",
      "Failed example:\n",
      "    Yout=Yout*np.std(Ucomb)/np.std(Yout)#40\n",
      "Exception raised:\n",
      "    Traceback (most recent call last):\n",
      "      File \"/opt/local/Library/Frameworks/Python.framework/Versions/3.5/lib/python3.5/doctest.py\", line 1320, in __run\n",
      "        compileflags, 1), test.globs)\n",
      "      File \"<doctest NoName[15]>\", line 1, in <module>\n",
      "        Yout=Yout*np.std(Ucomb)/np.std(Yout)#40\n",
      "    NameError: name 'Yout' is not defined\n"
     ]
    },
    {
     "data": {
      "image/png": "[encoded data removed]",
      "text/plain": [
       "<matplotlib.figure.Figure at 0x104cb9f28>"
      ]
     },
     "metadata": {},
     "output_type": "display_data"
    },
    {
     "data": {
      "image/png": "[encoded data removed]",
      "text/plain": [
       "<matplotlib.figure.Figure at 0x106767b70>"
      ]
     },
     "metadata": {},
     "output_type": "display_data"
    },
    {
     "name": "stdout",
     "output_type": "stream",
     "text": [
      "**********************************************************************\n",
      "File \"/Users/jslater/Documents/MyMath/python/vibrationtesting/sigp.py\", line 545, in NoName\n",
      "Failed example:\n",
      "    freq_vec, Pxx = vt.asd(Yout, tin, window=\"hanning\", ave=bool(False))\n",
      "Exception raised:\n",
      "    Traceback (most recent call last):\n",
      "      File \"/opt/local/Library/Frameworks/Python.framework/Versions/3.5/lib/python3.5/doctest.py\", line 1320, in __run\n",
      "        compileflags, 1), test.globs)\n",
      "      File \"<doctest NoName[18]>\", line 1, in <module>\n",
      "        freq_vec, Pxx = vt.asd(Yout, tin, window=\"hanning\", ave=bool(False))\n",
      "    NameError: name 'Yout' is not defined\n",
      "**********************************************************************\n",
      "File \"/Users/jslater/Documents/MyMath/python/vibrationtesting/sigp.py\", line 546, in NoName\n",
      "Failed example:\n",
      "    plt.plot(freq_vec[0,:], 20*np.log10(Pxx[0,:,:]))\n",
      "Exception raised:\n",
      "    Traceback (most recent call last):\n",
      "      File \"/opt/local/Library/Frameworks/Python.framework/Versions/3.5/lib/python3.5/doctest.py\", line 1320, in __run\n",
      "        compileflags, 1), test.globs)\n",
      "      File \"<doctest NoName[19]>\", line 1, in <module>\n",
      "        plt.plot(freq_vec[0,:], 20*np.log10(Pxx[0,:,:]))\n",
      "    NameError: name 'freq_vec' is not defined\n",
      "**********************************************************************\n",
      "File \"/Users/jslater/Documents/MyMath/python/vibrationtesting/sigp.py\", line 551, in NoName\n",
      "Failed example:\n",
      "    freq_vec, Pxx = vt.asd(Yout, tin, window=\"hanning\", ave=bool(True))\n",
      "Exception raised:\n",
      "    Traceback (most recent call last):\n",
      "      File \"/opt/local/Library/Frameworks/Python.framework/Versions/3.5/lib/python3.5/doctest.py\", line 1320, in __run\n",
      "        compileflags, 1), test.globs)\n",
      "      File \"<doctest NoName[22]>\", line 1, in <module>\n",
      "        freq_vec, Pxx = vt.asd(Yout, tin, window=\"hanning\", ave=bool(True))\n",
      "    NameError: name 'Yout' is not defined\n",
      "**********************************************************************\n",
      "File \"/Users/jslater/Documents/MyMath/python/vibrationtesting/sigp.py\", line 552, in NoName\n",
      "Failed example:\n",
      "    plt.plot(freq_vec[0,:], 20*np.log10(Pxx[0,:]))\n",
      "Exception raised:\n",
      "    Traceback (most recent call last):\n",
      "      File \"/opt/local/Library/Frameworks/Python.framework/Versions/3.5/lib/python3.5/doctest.py\", line 1320, in __run\n",
      "        compileflags, 1), test.globs)\n",
      "      File \"<doctest NoName[23]>\", line 1, in <module>\n",
      "        plt.plot(freq_vec[0,:], 20*np.log10(Pxx[0,:]))\n",
      "    NameError: name 'freq_vec' is not defined\n"
     ]
    },
    {
     "data": {
      "image/png": "[encoded data removed]",
      "text/plain": [
       "<matplotlib.figure.Figure at 0x10679cbe0>"
      ]
     },
     "metadata": {},
     "output_type": "display_data"
    },
    {
     "name": "stdout",
     "output_type": "stream",
     "text": [
      "**********************************************************************\n",
      "File \"/Users/jslater/Documents/MyMath/python/vibrationtesting/sigp.py\", line 557, in NoName\n",
      "Failed example:\n",
      "    f, Txy1, Txy2, coh, Txyv = vt.frfest(Yout, Ucomb, t,Hv=bool(True))\n",
      "Exception raised:\n",
      "    Traceback (most recent call last):\n",
      "      File \"/opt/local/Library/Frameworks/Python.framework/Versions/3.5/lib/python3.5/doctest.py\", line 1320, in __run\n",
      "        compileflags, 1), test.globs)\n",
      "      File \"<doctest NoName[26]>\", line 1, in <module>\n",
      "        f, Txy1, Txy2, coh, Txyv = vt.frfest(Yout, Ucomb, t,Hv=bool(True))\n",
      "    NameError: name 'Yout' is not defined\n",
      "**********************************************************************\n",
      "File \"/Users/jslater/Documents/MyMath/python/vibrationtesting/sigp.py\", line 559, in NoName\n",
      "Failed example:\n",
      "    (line1, line2, line3) = plt.plot(f[0,:],20*np.log10(np.abs(Txy1[0,:])),f[0,:],20*np.log10(np.abs(Txy2[0,:])),f[0,:],20*np.log10(np.abs(Txyv[0,:]))) \n",
      "Exception raised:\n",
      "    Traceback (most recent call last):\n",
      "      File \"/opt/local/Library/Frameworks/Python.framework/Versions/3.5/lib/python3.5/doctest.py\", line 1320, in __run\n",
      "        compileflags, 1), test.globs)\n",
      "      File \"<doctest NoName[27]>\", line 1, in <module>\n",
      "        (line1, line2, line3) = plt.plot(f[0,:],20*np.log10(np.abs(Txy1[0,:])),f[0,:],20*np.log10(np.abs(Txy2[0,:])),f[0,:],20*np.log10(np.abs(Txyv[0,:])))\n",
      "    NameError: name 'f' is not defined\n",
      "**********************************************************************\n",
      "File \"/Users/jslater/Documents/MyMath/python/vibrationtesting/sigp.py\", line 560, in NoName\n",
      "Failed example:\n",
      "    plt.title('FRF of ' + str(Yout.shape[2]) + ' averages.')\n",
      "Exception raised:\n",
      "    Traceback (most recent call last):\n",
      "      File \"/opt/local/Library/Frameworks/Python.framework/Versions/3.5/lib/python3.5/doctest.py\", line 1320, in __run\n",
      "        compileflags, 1), test.globs)\n",
      "      File \"<doctest NoName[28]>\", line 1, in <module>\n",
      "        plt.title('FRF of ' + str(Yout.shape[2]) + ' averages.')\n",
      "    NameError: name 'Yout' is not defined\n",
      "**********************************************************************\n",
      "File \"/Users/jslater/Documents/MyMath/python/vibrationtesting/sigp.py\", line 562, in NoName\n",
      "Failed example:\n",
      "    plt.legend((line1,line2,line3),('$H_1$','$H_2$','$H_v$'))\n",
      "Exception raised:\n",
      "    Traceback (most recent call last):\n",
      "      File \"/opt/local/Library/Frameworks/Python.framework/Versions/3.5/lib/python3.5/doctest.py\", line 1320, in __run\n",
      "        compileflags, 1), test.globs)\n",
      "      File \"<doctest NoName[29]>\", line 1, in <module>\n",
      "        plt.legend((line1,line2,line3),('$H_1$','$H_2$','$H_v$'))\n",
      "    NameError: name 'line1' is not defined\n",
      "**********************************************************************\n",
      "File \"/Users/jslater/Documents/MyMath/python/vibrationtesting/sigp.py\", line 565, in NoName\n",
      "Failed example:\n",
      "    plt.plot(f[0,:],180.0/np.pi*np.unwrap(np.angle(Txy1[0,:])),f[0,:],180.0/np.pi*np.unwrap(np.angle(Txy2[0,:])),f[0,:],180.0/np.pi*np.unwrap(np.angle(Txyv[0,:]))) \n",
      "Exception raised:\n",
      "    Traceback (most recent call last):\n",
      "      File \"/opt/local/Library/Frameworks/Python.framework/Versions/3.5/lib/python3.5/doctest.py\", line 1320, in __run\n",
      "        compileflags, 1), test.globs)\n",
      "      File \"<doctest NoName[31]>\", line 1, in <module>\n",
      "        plt.plot(f[0,:],180.0/np.pi*np.unwrap(np.angle(Txy1[0,:])),f[0,:],180.0/np.pi*np.unwrap(np.angle(Txy2[0,:])),f[0,:],180.0/np.pi*np.unwrap(np.angle(Txyv[0,:])))\n",
      "    NameError: name 'f' is not defined\n",
      "**********************************************************************\n",
      "File \"/Users/jslater/Documents/MyMath/python/vibrationtesting/sigp.py\", line 567, in NoName\n",
      "Failed example:\n",
      "    plt.title('FRF of ' + str(Yout.shape[2]) + ' averages.')\n",
      "Exception raised:\n",
      "    Traceback (most recent call last):\n",
      "      File \"/opt/local/Library/Frameworks/Python.framework/Versions/3.5/lib/python3.5/doctest.py\", line 1320, in __run\n",
      "        compileflags, 1), test.globs)\n",
      "      File \"<doctest NoName[32]>\", line 1, in <module>\n",
      "        plt.title('FRF of ' + str(Yout.shape[2]) + ' averages.')\n",
      "    NameError: name 'Yout' is not defined\n",
      "**********************************************************************\n",
      "File \"/Users/jslater/Documents/MyMath/python/vibrationtesting/sigp.py\", line 570, in NoName\n",
      "Failed example:\n",
      "    plt.plot(f[0,:],coh[0,:])\n",
      "Exception raised:\n",
      "    Traceback (most recent call last):\n",
      "      File \"/opt/local/Library/Frameworks/Python.framework/Versions/3.5/lib/python3.5/doctest.py\", line 1320, in __run\n",
      "        compileflags, 1), test.globs)\n",
      "      File \"<doctest NoName[34]>\", line 1, in <module>\n",
      "        plt.plot(f[0,:],coh[0,:])\n",
      "    NameError: name 'f' is not defined\n",
      "**********************************************************************\n",
      "File \"/Users/jslater/Documents/MyMath/python/vibrationtesting/sigp.py\", line 573, in NoName\n",
      "Failed example:\n",
      "    vt.frfplot(f,Txy1,freq_max=3.5)\n",
      "Exception raised:\n",
      "    Traceback (most recent call last):\n",
      "      File \"/opt/local/Library/Frameworks/Python.framework/Versions/3.5/lib/python3.5/doctest.py\", line 1320, in __run\n",
      "        compileflags, 1), test.globs)\n",
      "      File \"<doctest NoName[36]>\", line 1, in <module>\n",
      "        vt.frfplot(f,Txy1,freq_max=3.5)\n",
      "    AttributeError: module 'vibrationtesting' has no attribute 'frfplot'\n"
     ]
    }
   ],
   "source": [
    "%run sigp.py"
   ]
  },
  {
   "cell_type": "code",
   "execution_count": 9,
   "metadata": {
    "collapsed": false
   },
   "outputs": [
    {
     "data": {
      "text/plain": [
       "<function dir>"
      ]
     },
     "execution_count": 9,
     "metadata": {},
     "output_type": "execute_result"
    }
   ],
   "source": [
    "dir"
   ]
  },
  {
   "cell_type": "code",
   "execution_count": 10,
   "metadata": {
    "collapsed": false
   },
   "outputs": [
    {
     "data": {
      "text/plain": [
       "['ANSI_COLS',\n",
       " 'BarContainer',\n",
       " 'CustomPS1',\n",
       " 'CustomPS2',\n",
       " 'ErrorbarContainer',\n",
       " 'In',\n",
       " 'Out',\n",
       " 'StemContainer',\n",
       " '_6',\n",
       " '_8',\n",
       " '_9',\n",
       " '_AxesBase',\n",
       " '__',\n",
       " '___',\n",
       " '__builtin__',\n",
       " '__builtins__',\n",
       " '__doc__',\n",
       " '__docformat__',\n",
       " '__license__',\n",
       " '__loader__',\n",
       " '__name__',\n",
       " '__nonzero__',\n",
       " '__package__',\n",
       " '__spec__',\n",
       " '_dh',\n",
       " '_exit_code',\n",
       " '_i',\n",
       " '_i1',\n",
       " '_i10',\n",
       " '_i2',\n",
       " '_i3',\n",
       " '_i4',\n",
       " '_i5',\n",
       " '_i6',\n",
       " '_i7',\n",
       " '_i8',\n",
       " '_i9',\n",
       " '_ih',\n",
       " '_ii',\n",
       " '_iii',\n",
       " '_oh',\n",
       " '_process_plot_format',\n",
       " '_sh',\n",
       " '_string_to_bool',\n",
       " 'ansi_colorize',\n",
       " 'asd',\n",
       " 'atexit',\n",
       " 'blackwin',\n",
       " 'boxwin',\n",
       " 'cbook',\n",
       " 'comp_disp_matches',\n",
       " 'crsd',\n",
       " 'docstring',\n",
       " 'doctest',\n",
       " 'exit',\n",
       " 'expwin',\n",
       " 'flatwin',\n",
       " 'frfest',\n",
       " 'frfplt',\n",
       " 'get_ipython',\n",
       " 'hammwin',\n",
       " 'hanning',\n",
       " 'hannwin',\n",
       " 'iskeyword',\n",
       " 'la',\n",
       " 'ma',\n",
       " 'math',\n",
       " 'matplotlib',\n",
       " 'mcoll',\n",
       " 'mcolors',\n",
       " 'mcontour',\n",
       " 'mimage',\n",
       " 'mlab',\n",
       " 'mlegend',\n",
       " 'mlines',\n",
       " 'mmarkers',\n",
       " 'mpatches',\n",
       " 'mpath',\n",
       " 'mplDeprecation',\n",
       " 'mquiver',\n",
       " 'mstack',\n",
       " 'mstream',\n",
       " 'mtable',\n",
       " 'mtext',\n",
       " 'mticker',\n",
       " 'mtrans',\n",
       " 'mtransforms',\n",
       " 'mtri',\n",
       " 'np',\n",
       " 'os',\n",
       " 'pl',\n",
       " 'plt',\n",
       " 'print_function',\n",
       " 'printable_function',\n",
       " 'quit',\n",
       " 'rcParams',\n",
       " 'readline',\n",
       " 'rl_autoindent',\n",
       " 'rlcompleter',\n",
       " 'saved_function',\n",
       " 'setup_prompt',\n",
       " 'setup_readline',\n",
       " 'sh',\n",
       " 'sigp',\n",
       " 'sp',\n",
       " 'sys',\n",
       " 'warnings']"
      ]
     },
     "execution_count": 10,
     "metadata": {},
     "output_type": "execute_result"
    }
   ],
   "source": [
    "dir()"
   ]
  },
  {
   "cell_type": "code",
   "execution_count": null,
   "metadata": {
    "collapsed": true
   },
   "outputs": [],
   "source": []
  }
 ],
 "metadata": {
  "hide_input": false,
  "kernelspec": {
   "display_name": "Python 3",
   "language": "python",
   "name": "python3"
  },
  "language_info": {
   "codemirror_mode": {
    "name": "ipython",
    "version": 3
   },
   "file_extension": ".py",
   "mimetype": "text/x-python",
   "name": "python",
   "nbconvert_exporter": "python",
   "pygments_lexer": "ipython3",
   "version": "3.5.1"
  },
  "latex_envs": {
   "bibliofile": "biblio.bib",
   "cite_by": "apalike",
   "current_citInitial": 1,
   "eqLabelWithNumbers": true,
   "eqNumInitial": 0
  }
 },
 "nbformat": 4,
 "nbformat_minor": 0
}
