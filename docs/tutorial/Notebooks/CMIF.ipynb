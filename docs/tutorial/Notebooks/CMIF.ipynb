{
 "cells": [
  {
   "cell_type": "code",
   "execution_count": 1,
   "metadata": {
    "init_cell": true
   },
   "outputs": [],
   "source": [
    "%load_ext autoreload\n",
    "%autoreload 2\n",
    "%matplotlib inline\n",
    "\n",
    "import control as ctrl\n",
    "import matplotlib.pyplot as plt\n",
    "import vibrationtesting as vt\n",
    "import numpy as np\n",
    "import scipy as sp"
   ]
  },
  {
   "cell_type": "code",
   "execution_count": 2,
   "metadata": {},
   "outputs": [
    {
     "data": {
      "text/plain": [
       "['__builtins__',\n",
       " '__cached__',\n",
       " '__doc__',\n",
       " '__docformat__',\n",
       " '__file__',\n",
       " '__license__',\n",
       " '__loader__',\n",
       " '__name__',\n",
       " '__package__',\n",
       " '__spec__',\n",
       " 'c2d',\n",
       " 'd2c',\n",
       " 'damp',\n",
       " 'la',\n",
       " 'math',\n",
       " 'np',\n",
       " 'serep',\n",
       " 'sig',\n",
       " 'so2ss',\n",
       " 'sos_frf',\n",
       " 'sos_modal',\n",
       " 'ssfrf',\n",
       " 'warnings']"
      ]
     },
     "execution_count": 2,
     "metadata": {},
     "output_type": "execute_result"
    }
   ],
   "source": [
    "dir(vt.system)"
   ]
  },
  {
   "cell_type": "code",
   "execution_count": 4,
   "metadata": {},
   "outputs": [
    {
     "name": "stdout",
     "output_type": "stream",
     "text": [
      "Help on function sos_frf in module vibrationtesting.system:\n",
      "\n",
      "sos_frf(M, C, K, Bt, Cd, Cv, Ca, omega_low, omega_high, in_index, out_index)\n",
      "    FRF of second order system\n",
      "    \n",
      "    Given second order linear matrix equation of the form\n",
      "    :math:`M\\ddot{x} + C \\dot{x} + K x= \\tilde{B} u`\n",
      "    and\n",
      "    :math:`y = C_d x + C_v \\dot{x} + C_a\\ddot{x}`\n",
      "    converts to state space form and returns the requested frequency response\n",
      "    function\n",
      "    \n",
      "    Parameters\n",
      "    ----------\n",
      "    M, C, K, Bt, Cd, Cv, Cd : float arrays\n",
      "        Mass , damping, stiffness, input, displacement sensor, velocimeter,\n",
      "        and accelerometer matrices\n",
      "    \n",
      "    Returns\n",
      "    -------\n",
      "    omega : float array\n",
      "            frequency vector\n",
      "    H : float array\n",
      "        frequency response function\n",
      "    \n",
      "    Examples not working for second order system\n",
      "    \n",
      "    Need to make one for second order expansion\n",
      "    \n",
      "    Examples\n",
      "    --------\n",
      "    >>> import vibrationtesting as vt\n",
      "    >>> A = np.array([[ 0.,   0. ,  1.    ,  0.    ],\n",
      "    ...               [ 0.,   0. ,  0.    ,  1.    ],\n",
      "    ...               [-1.4,  1.2, -0.0058,  0.0014],\n",
      "    ...               [ 0.8, -1.4,  0.0016, -0.0038]])\n",
      "    >>> B = np.array([[ 0.],\n",
      "    ...               [ 0.],\n",
      "    ...               [ 0.],\n",
      "    ...               [ 1.]])\n",
      "    >>> C = np.array([[-1.4, 1.2, -0.0058, 0.0014]])\n",
      "    >>> D = np.array([[-0.2]])\n",
      "    >>> omega, H = vt.ssfrf(A, B, C, D, 0, 3.5, 1, 1)\n",
      "    >>> vt.frfplot(omega, H) # doctest: +SKIP\n",
      "\n"
     ]
    }
   ],
   "source": [
    "help(vt.sos_frf)"
   ]
  },
  {
   "cell_type": "code",
   "execution_count": 51,
   "metadata": {},
   "outputs": [
    {
     "ename": "ValueError",
     "evalue": "Input 0 or output 0 infeasible.",
     "output_type": "error",
     "traceback": [
      "\u001b[0;31m---------------------------------------------------------------------------\u001b[0m",
      "\u001b[0;31mValueError\u001b[0m                                Traceback (most recent call last)",
      "\u001b[0;32m<ipython-input-51-21cf3e153755>\u001b[0m in \u001b[0;36m<module>\u001b[0;34m()\u001b[0m\n\u001b[1;32m      9\u001b[0m \u001b[0mC\u001b[0m \u001b[0;34m=\u001b[0m \u001b[0mnp\u001b[0m\u001b[0;34m.\u001b[0m\u001b[0marray\u001b[0m\u001b[0;34m(\u001b[0m\u001b[0;34m[\u001b[0m\u001b[0;34m[\u001b[0m\u001b[0;36m1\u001b[0m\u001b[0;34m,\u001b[0m\u001b[0;36m0\u001b[0m\u001b[0;34m,\u001b[0m\u001b[0;36m0\u001b[0m\u001b[0;34m,\u001b[0m\u001b[0;36m0\u001b[0m\u001b[0;34m]\u001b[0m\u001b[0;34m,\u001b[0m\u001b[0;34m[\u001b[0m\u001b[0;36m0\u001b[0m\u001b[0;34m,\u001b[0m\u001b[0;36m1\u001b[0m\u001b[0;34m,\u001b[0m\u001b[0;36m0\u001b[0m\u001b[0;34m,\u001b[0m\u001b[0;36m0\u001b[0m\u001b[0;34m]\u001b[0m\u001b[0;34m]\u001b[0m\u001b[0;34m)\u001b[0m\u001b[0;34m\u001b[0m\u001b[0m\n\u001b[1;32m     10\u001b[0m \u001b[0mD\u001b[0m \u001b[0;34m=\u001b[0m \u001b[0mnp\u001b[0m\u001b[0;34m.\u001b[0m\u001b[0marray\u001b[0m\u001b[0;34m(\u001b[0m\u001b[0;34m[\u001b[0m\u001b[0;34m[\u001b[0m\u001b[0;36m0\u001b[0m\u001b[0;34m]\u001b[0m\u001b[0;34m,\u001b[0m\u001b[0;34m[\u001b[0m\u001b[0;36m0\u001b[0m\u001b[0;34m]\u001b[0m\u001b[0;34m]\u001b[0m\u001b[0;34m)\u001b[0m\u001b[0;34m\u001b[0m\u001b[0m\n\u001b[0;32m---> 11\u001b[0;31m \u001b[0momega\u001b[0m\u001b[0;34m,\u001b[0m \u001b[0mH\u001b[0m \u001b[0;34m=\u001b[0m \u001b[0mvt\u001b[0m\u001b[0;34m.\u001b[0m\u001b[0mssfrf\u001b[0m\u001b[0;34m(\u001b[0m\u001b[0mA\u001b[0m\u001b[0;34m,\u001b[0m \u001b[0mB\u001b[0m\u001b[0;34m,\u001b[0m \u001b[0mC\u001b[0m\u001b[0;34m,\u001b[0m \u001b[0mD\u001b[0m\u001b[0;34m,\u001b[0m \u001b[0;36m0\u001b[0m\u001b[0;34m,\u001b[0m \u001b[0;36m3.5\u001b[0m\u001b[0;34m,\u001b[0m \u001b[0;36m0\u001b[0m\u001b[0;34m,\u001b[0m\u001b[0;36m0\u001b[0m\u001b[0;34m)\u001b[0m\u001b[0;34m\u001b[0m\u001b[0m\n\u001b[0m\u001b[1;32m     12\u001b[0m \u001b[0;31m#vt.frfplot(omega, H)\u001b[0m\u001b[0;34m\u001b[0m\u001b[0;34m\u001b[0m\u001b[0m\n",
      "\u001b[0;32m~/Documents/python-dev/vibrationtesting/vibrationtesting/system.py\u001b[0m in \u001b[0;36mssfrf\u001b[0;34m(A, B, C, D, omega_low, omega_high, in_index, out_index)\u001b[0m\n\u001b[1;32m    187\u001b[0m                                                                 in_index - 1]\n\u001b[1;32m    188\u001b[0m     \u001b[0;32melse\u001b[0m\u001b[0;34m:\u001b[0m\u001b[0;34m\u001b[0m\u001b[0m\n\u001b[0;32m--> 189\u001b[0;31m         \u001b[0;32mraise\u001b[0m \u001b[0mValueError\u001b[0m\u001b[0;34m(\u001b[0m\u001b[0;34m'Input {} or output {} infeasible.'\u001b[0m\u001b[0;34m.\u001b[0m\u001b[0mformat\u001b[0m\u001b[0;34m(\u001b[0m\u001b[0min_index\u001b[0m\u001b[0;34m,\u001b[0m \u001b[0mout_index\u001b[0m\u001b[0;34m)\u001b[0m\u001b[0;34m)\u001b[0m\u001b[0;34m\u001b[0m\u001b[0m\n\u001b[0m\u001b[1;32m    190\u001b[0m     \u001b[0;32mreturn\u001b[0m \u001b[0momega\u001b[0m\u001b[0;34m.\u001b[0m\u001b[0mreshape\u001b[0m\u001b[0;34m(\u001b[0m\u001b[0;36m1\u001b[0m\u001b[0;34m,\u001b[0m \u001b[0;34m-\u001b[0m\u001b[0;36m1\u001b[0m\u001b[0;34m)\u001b[0m\u001b[0;34m,\u001b[0m \u001b[0mH\u001b[0m\u001b[0;34m.\u001b[0m\u001b[0mreshape\u001b[0m\u001b[0;34m(\u001b[0m\u001b[0;36m1\u001b[0m\u001b[0;34m,\u001b[0m \u001b[0;34m-\u001b[0m\u001b[0;36m1\u001b[0m\u001b[0;34m)\u001b[0m\u001b[0;34m\u001b[0m\u001b[0m\n\u001b[1;32m    191\u001b[0m \u001b[0;34m\u001b[0m\u001b[0m\n",
      "\u001b[0;31mValueError\u001b[0m: Input 0 or output 0 infeasible."
     ]
    }
   ],
   "source": [
    "A = np.array([[0.,   0.,  1.,  0.],\n",
    "              [0.,   0.,  0.,  1.],\n",
    "              [-1.4,  1.2, -0.0058, 0.0014],\n",
    "              [0.8, -1.4,  0.0016, -0.0038]])\n",
    "B = np.array([[0., 0.],\n",
    "              [0., 0.],\n",
    "              [1., 0.],\n",
    "              [0., 1.]])\n",
    "C = np.array([[1,0,0,0],[0,1,0,0]])\n",
    "D = np.array([[0],[0]])\n",
    "omega, H = vt.ssfrf(A, B, C, D, 0, 3.5, 0, 0)\n",
    "#vt.frfplot(omega, H)"
   ]
  },
  {
   "cell_type": "code",
   "execution_count": 10,
   "metadata": {},
   "outputs": [
    {
     "data": {
      "text/plain": [
       "(1, 1000)"
      ]
     },
     "execution_count": 10,
     "metadata": {},
     "output_type": "execute_result"
    }
   ],
   "source": [
    "H.shape"
   ]
  },
  {
   "cell_type": "code",
   "execution_count": 29,
   "metadata": {},
   "outputs": [
    {
     "name": "stdout",
     "output_type": "stream",
     "text": [
      "0\n",
      "1\n"
     ]
    }
   ],
   "source": [
    "H_all = np.zeros((2,1000,2), dtype = 'complex128')\n",
    "for i in np.arange(2):\n",
    "    for j in np.arange(2):\n",
    "        omega, H_all[i,:,j] = vt.ssfrf(A, B, C, D, 0, 3.5, i, j)\n",
    "    print(i)"
   ]
  },
  {
   "cell_type": "code",
   "execution_count": 32,
   "metadata": {},
   "outputs": [
    {
     "data": {
      "image/png": "[encoded data removed]",
      "text/plain": [
       "<matplotlib.figure.Figure at 0x11e3b9748>"
      ]
     },
     "metadata": {},
     "output_type": "display_data"
    }
   ],
   "source": [
    "vt.frfplot(omega, H_all[0,:,1])"
   ]
  },
  {
   "cell_type": "code",
   "execution_count": 44,
   "metadata": {},
   "outputs": [
    {
     "data": {
      "text/plain": [
       "2"
      ]
     },
     "execution_count": 44,
     "metadata": {},
     "output_type": "execute_result"
    }
   ],
   "source": [
    "B.shape[1]"
   ]
  },
  {
   "cell_type": "code",
   "execution_count": 54,
   "metadata": {},
   "outputs": [],
   "source": [
    "M = np.diag([1,1,1])"
   ]
  },
  {
   "cell_type": "code",
   "execution_count": 78,
   "metadata": {},
   "outputs": [
    {
     "data": {
      "text/plain": [
       "array([[ 3, -1, -1],\n",
       "       [-1,  3, -1],\n",
       "       [-1, -1,  3]])"
      ]
     },
     "execution_count": 78,
     "metadata": {},
     "output_type": "execute_result"
    }
   ],
   "source": [
    "K = np.array([[3, -1, -1],[-1, 3, -1],[-1, -1, 3]])\n",
    "K"
   ]
  },
  {
   "cell_type": "code",
   "execution_count": 79,
   "metadata": {},
   "outputs": [],
   "source": [
    "Damping = K*.01"
   ]
  },
  {
   "cell_type": "code",
   "execution_count": 80,
   "metadata": {},
   "outputs": [],
   "source": [
    "Cd = np.eye(3)"
   ]
  },
  {
   "cell_type": "code",
   "execution_count": 81,
   "metadata": {},
   "outputs": [],
   "source": [
    "Cv = Ca = np.zeros_like(Cd)"
   ]
  },
  {
   "cell_type": "code",
   "execution_count": 82,
   "metadata": {},
   "outputs": [
    {
     "data": {
      "text/plain": [
       "array([[ 1.,  0.,  0.],\n",
       "       [ 0.,  1.,  0.],\n",
       "       [ 0.,  0.,  1.]])"
      ]
     },
     "execution_count": 82,
     "metadata": {},
     "output_type": "execute_result"
    }
   ],
   "source": [
    "Bt = np.eye(3)\n",
    "Bt"
   ]
  },
  {
   "cell_type": "code",
   "execution_count": 114,
   "metadata": {},
   "outputs": [],
   "source": [
    "omega, H = vt.sos_frf(M, Damping, K, Bt, Cd, Cv, Ca, .0, 3, 1, 2)"
   ]
  },
  {
   "cell_type": "code",
   "execution_count": 115,
   "metadata": {},
   "outputs": [
    {
     "data": {
      "image/png": "[encoded data removed]",
      "text/plain": [
       "<matplotlib.figure.Figure at 0x11e122080>"
      ]
     },
     "metadata": {},
     "output_type": "display_data"
    }
   ],
   "source": [
    "vt.frfplot(omega, H)"
   ]
  },
  {
   "cell_type": "code",
   "execution_count": 88,
   "metadata": {
    "scrolled": true
   },
   "outputs": [
    {
     "data": {
      "text/plain": [
       "(array([ 1.,  2.,  2.]),\n",
       " array([ 0.005,  0.01 ,  0.01 ]),\n",
       " array([[ 0.57735027,  0.6172134 , -0.53452248],\n",
       "        [ 0.57735027, -0.77151675, -0.26726124],\n",
       "        [ 0.57735027,  0.15430335,  0.80178373]]))"
      ]
     },
     "execution_count": 88,
     "metadata": {},
     "output_type": "execute_result"
    }
   ],
   "source": [
    "vt.sos_modal(M, K, Damping)"
   ]
  },
  {
   "cell_type": "code",
   "execution_count": 89,
   "metadata": {},
   "outputs": [
    {
     "name": "stdout",
     "output_type": "stream",
     "text": [
      "Help on function sos_frf in module vibrationtesting.system:\n",
      "\n",
      "sos_frf(M, C, K, Bt, Cd, Cv, Ca, omega_low, omega_high, in_index, out_index)\n",
      "    FRF of second order system\n",
      "    \n",
      "    Given second order linear matrix equation of the form\n",
      "    :math:`M\\ddot{x} + C \\dot{x} + K x= \\tilde{B} u`\n",
      "    and\n",
      "    :math:`y = C_d x + C_v \\dot{x} + C_a\\ddot{x}`\n",
      "    converts to state space form and returns the requested frequency response\n",
      "    function\n",
      "    \n",
      "    Parameters\n",
      "    ----------\n",
      "    M, C, K, Bt, Cd, Cv, Cd : float arrays\n",
      "        Mass, damping, stiffness, input, displacement sensor, velocimeter,\n",
      "        and accelerometer matrices\n",
      "    \n",
      "    Returns\n",
      "    -------\n",
      "    omega : float array\n",
      "            frequency vector\n",
      "    H : float array\n",
      "        frequency response function\n",
      "    \n",
      "    Examples not working for second order system\n",
      "    \n",
      "    Need to make one for second order expansion\n",
      "    \n",
      "    Examples\n",
      "    --------\n",
      "    >>> import vibrationtesting as vt\n",
      "    >>> A = np.array([[ 0.,   0. ,  1.    ,  0.    ],\n",
      "    ...               [ 0.,   0. ,  0.    ,  1.    ],\n",
      "    ...               [-1.4,  1.2, -0.0058,  0.0014],\n",
      "    ...               [ 0.8, -1.4,  0.0016, -0.0038]])\n",
      "    >>> B = np.array([[ 0.],\n",
      "    ...               [ 0.],\n",
      "    ...               [ 0.],\n",
      "    ...               [ 1.]])\n",
      "    >>> C = np.array([[-1.4, 1.2, -0.0058, 0.0014]])\n",
      "    >>> D = np.array([[-0.2]])\n",
      "    >>> omega, H = vt.ssfrf(A, B, C, D, 0, 3.5, 1, 1)\n",
      "    >>> vt.frfplot(omega, H) # doctest: +SKIP\n",
      "\n"
     ]
    }
   ],
   "source": [
    "help(vt.sos_frf)"
   ]
  },
  {
   "cell_type": "code",
   "execution_count": null,
   "metadata": {},
   "outputs": [],
   "source": []
  }
 ],
 "metadata": {
  "hide_input": false,
  "kernelspec": {
   "display_name": "Python 3",
   "language": "python",
   "name": "python3"
  },
  "language_info": {
   "codemirror_mode": {
    "name": "ipython",
    "version": 3
   },
   "file_extension": ".py",
   "mimetype": "text/x-python",
   "name": "python",
   "nbconvert_exporter": "python",
   "pygments_lexer": "ipython3",
   "version": "3.6.4"
  },
  "toc": {
   "nav_menu": {},
   "number_sections": true,
   "sideBar": true,
   "skip_h1_title": false,
   "toc_cell": false,
   "toc_position": {},
   "toc_section_display": "block",
   "toc_window_display": false
  },
  "varInspector": {
   "cols": {
    "lenName": 16,
    "lenType": 16,
    "lenVar": 40
   },
   "kernels_config": {
    "python": {
     "delete_cmd_postfix": "",
     "delete_cmd_prefix": "del ",
     "library": "var_list.py",
     "varRefreshCmd": "print(var_dic_list())"
    },
    "r": {
     "delete_cmd_postfix": ") ",
     "delete_cmd_prefix": "rm(",
     "library": "var_list.r",
     "varRefreshCmd": "cat(var_dic_list()) "
    }
   },
   "types_to_exclude": [
    "module",
    "function",
    "builtin_function_or_method",
    "instance",
    "_Feature"
   ],
   "window_display": false
  }
 },
 "nbformat": 4,
 "nbformat_minor": 2
}
